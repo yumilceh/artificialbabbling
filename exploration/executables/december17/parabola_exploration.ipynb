{
 "cells": [
  {
   "cell_type": "markdown",
   "metadata": {},
   "source": [
    "# Parabola exploration (test changes in ED library)"
   ]
  },
  {
   "cell_type": "markdown",
   "metadata": {},
   "source": [
    "Created on Nov, 15, 2017\n",
    "@author: Juan Manuel Acevedo Valle"
   ]
  },
  {
   "cell_type": "code",
   "execution_count": 4,
   "metadata": {
    "collapsed": true
   },
   "outputs": [],
   "source": [
    "import datetime\n",
    "\n",
    "from parabola_configurations import model_, comp_func\n",
    "from exploration.systems.parabola import ParabolicRegion as System\n",
    "from exploration.systems.parabola import Instructor\n",
    "from exploration.algorithm.algorithm_2017 import Algorithm as Algorithm\n",
    "from exploration.algorithm.evaluation import Evaluation\n",
    "from exploration.data.PlotTools import *\n",
    "from exploration.algorithm.utils.functions import generate_motor_grid\n",
    "\n",
    "import os\n",
    "\n",
    "class OBJECT(object):\n",
    "    def __init__(self):\n",
    "        pass"
   ]
  },
  {
   "cell_type": "code",
   "execution_count": 5,
   "metadata": {},
   "outputs": [],
   "source": [
    "now = datetime.datetime.now().strftime(\"%Y_%m_%d_%H_%M_%S_\")\n",
    "file_prefix = 'test/test_' + now\n",
    "file_prefix = file_prefix.replace('/',os.sep)\n",
    "proprio, mode = True, 'social'\n",
    "\n",
    "f_im_key, f_sm_key, f_cons_key = 'explauto_im', 'igmm_sm','explauto_cons'\n",
    "\n",
    "val1_name, val1_file = 'whole', '../../systems/datasets/parabola_v2_dataset.h5'\n",
    "val2_name, val2_file = 'social', '../../systems/datasets/instructor_parabola_1.h5'\n",
    "\n",
    "val1_file = val1_file.replace('/',os.sep)\n",
    "val2_file = val2_file.replace('/',os.sep)\n",
    "\n",
    "# To guarantee reproducible experiments\n",
    "random_seed = 12455 # 12455   #1234\n",
    "thres_slope= 1.\n",
    "\n",
    "n_initialization, n_experiments, n_save_data, eval_step= 100, 1000, -1, 500\n",
    "# n_save_data np.nan to not save, -1 to save 5 times during exploration\n",
    "\n",
    "# Creating Agent ##\n",
    "system, instructor = System(), Instructor(thresh_slope=thres_slope)\n",
    "\n",
    "# Creating models ##\n",
    "models = OBJECT()\n",
    "models.f_sm = model_(f_sm_key, system)\n",
    "models.f_cons = model_(f_cons_key, system)\n",
    "models.f_im = model_(f_im_key, system)\n",
    "\n",
    "evaluation_sim = Evaluation(system,\n",
    "                            models.f_sm,\n",
    "                            comp_func=comp_func,\n",
    "                            file_prefix=file_prefix)\n",
    "\n",
    "evaluation_sim.load_eval_dataset(val1_file, name = val1_name)\n",
    "evaluation_sim.load_eval_dataset(val2_file, name = val2_name)"
   ]
  },
  {
   "cell_type": "code",
   "execution_count": 3,
   "metadata": {
    "scrolled": true
   },
   "outputs": [
    {
     "name": "stdout",
     "output_type": "stream",
     "text": [
      "SM Exploration (proprio, social), Line 1: Initializing G_SM\n",
      "G_SM initialized\n",
      "SM Exploration: IM initialization: All sensory result considered\n",
      "G_IM initialized\n",
      "SM Exploration (proprio, social), First evaluation of G_SM\n",
      "Evaluating model with whole (441 samples)...\n",
      "Evaluation with whole has been finished.\n",
      "Evaluating model with social (8 samples)...\n",
      "Evaluation with social has been finished.\n",
      "Evaluations finished. Resuming exploration...\n",
      "SM Exploration (proprio, social), Lines 4-22: : Main simulation running (1000 samples)...\n",
      "SM Exploration (proprio, social), Line 4-22: Experiment: Saving data at samples 200 of 1000\n",
      "SM Exploration (proprio, social), Line 4-22: Experiment: Saving data at samples 400 of 1000\n",
      "Evaluating model with whole (441 samples)...\n",
      "Evaluation with whole has been finished.\n",
      "Evaluating model with social (8 samples)...\n",
      "Evaluation with social has been finished.\n",
      "Evaluations finished. Resuming exploration...\n",
      "SM Exploration (proprio, social), Line 4-22: Experiment: Saving data at samples 600 of 1000\n",
      "SM Exploration (proprio, social), Line 4-22: Experiment: Saving data at samples 800 of 1000\n",
      "Evaluating model with whole (441 samples)...\n",
      "Evaluation with whole has been finished.\n",
      "Evaluating model with social (8 samples)...\n",
      "Evaluation with social has been finished.\n",
      "Evaluations finished. Resuming exploration...\n",
      "SM Exploration (proprio, social), Line 4-22: Experiment: Saving data at samples 1000 of 1000\n",
      "Evaluating model with whole (441 samples)...\n",
      "Evaluation with whole has been finished.\n",
      "Evaluating model with social (8 samples)...\n",
      "Evaluation with social has been finished.\n",
      "Evaluations finished. Resuming exploration...\n",
      "SM Exploration (proprio, social), Saving data...\n",
      "SM Exploration (proprio, social), Experiment was finished.\n"
     ]
    }
   ],
   "source": [
    "#  Creating Simulation object, running simulation and plotting experiments##\n",
    "simulation = Algorithm(system,\n",
    "                       models,\n",
    "                       n_experiments,\n",
    "                       comp_func,\n",
    "                       instructor=instructor,\n",
    "                       n_initialization_experiments=n_initialization,\n",
    "                       random_seed=random_seed,\n",
    "                       g_im_initialization_method='all',\n",
    "                       n_save_data=n_save_data,\n",
    "                       evaluation=evaluation_sim,\n",
    "                       eval_step=eval_step,\n",
    "                       sm_all_samples=False,\n",
    "                       file_prefix=file_prefix)\n",
    "\n",
    "simulation.mode = mode  # social or autonomous\n",
    "\n",
    "# for logs\n",
    "simulation.f_sm_key = f_sm_key\n",
    "simulation.f_cons_key = f_cons_key\n",
    "simulation.f_im_key = f_im_key\n",
    "\n",
    "simulation.run(proprio=proprio)"
   ]
  },
  {
   "cell_type": "code",
   "execution_count": 4,
   "metadata": {},
   "outputs": [
    {
     "name": "stdout",
     "output_type": "stream",
     "text": [
      "Evaluating model with whole (441 samples)...\n",
      "Evaluation with whole has been finished.\n",
      "Evaluating model with social (8 samples)...\n",
      "Evaluation with social has been finished.\n",
      "Mean evaluation error for whole dataset is 0.0680050299324 (max: 0.000481009345636, min: 0.660298819167)\n",
      "Mean evaluation error for social dataset is 0.131925777116 (max: 0.00981890476771, min: 0.516414357451)\n"
     ]
    }
   ],
   "source": [
    "sim_data = simulation.data\n",
    "\n",
    "evaluation_sim.model.set_sigma_explo_ratio(0.)\n",
    "evaluation_sim.model.mode = 'exploit'\n",
    "\n",
    "val_data = evaluation_sim.evaluate(save_data=True)\n",
    "for key in val_data.keys():\n",
    "    error_ = np.linalg.norm(val_data[key].sensor_goal.data.as_matrix() -\n",
    "                            val_data[key].sensor.data.as_matrix(), axis=1)    \n",
    "    print(\"Mean evaluation error for {} dataset is {} (max: {}, min: {})\".format(key,\n",
    "                                                                                 np.mean(error_),\n",
    "                                                                                 np.min(error_),\n",
    "                                                                                 np.max(error_)))"
   ]
  },
  {
   "cell_type": "code",
   "execution_count": 5,
   "metadata": {},
   "outputs": [
    {
     "data": {
      "text/plain": [
       "'#  Looking at the proprioceptive model\\n    cons_th = system.cons_threshold\\n\\n    n_motor_samples = 2000\\n\\n    m1, m2 = generate_motor_grid(system, n_motor_samples)\\n\\n    proprio_val = []\\n    for m in zip(m1.flatten(), m2.flatten()):\\n        system.cons_out = 0.\\n        system.set_action(np.array([m[0], m[1]]))\\n        cons_pred = simulation.models.f_cons.predict_cons(system)\\n        system.execute_action()\\n        cons_res = system.cons_out\\n        # print(\"We predicted {} but got {}.\".format(cons_pred, cons_res))\\n        system.execute_action_unconstrained()\\n\\n        if cons_pred >= cons_th and cons_res >= cons_th:\\n            proprio_val += [[system.sensor_out[0], system.sensor_out[1], \\'.k\\']]\\n\\n        if cons_pred >= cons_th > cons_res:\\n            proprio_val += [[system.sensor_out[0], system.sensor_out[1], \\'xr\\']]\\n\\n        if cons_pred < cons_th and cons_res < cons_th:\\n            proprio_val += [[system.sensor_out[0], system.sensor_out[1], \\'.b\\']]\\n\\n        if cons_pred < cons_th <= cons_res:\\n            proprio_val += [[system.sensor_out[0], system.sensor_out[1], \\'xk\\']]\\n    \\'\\'\\'\\n    simulation.params.expl_space=\\'somato\\'\\n    model_to_eva = simulation.select_expl_model()\\n    evaluation_sim = Evaluation(system,\\n                                        model_to_eva,\\n                                        comp_func=comp_func,\\n                                        file_prefix=file_prefix + \\'_\\')\\n    evaluation_sim.load_eval_dataset(\\'../../systems/datasets/parabola_v2_dataset.h5\\')\\n\\n    val_ssm_data = evaluation_sim.evaluate(save_data=False, space=simulation.params.expl_space)\\n    val_ssm_data.cut_final_data()\\n    \\'\\'\\'\\n\\n    simulation.params.expl_space=\\'sensor\\'\\n    #model_to_eva = simulation.select_expl_model()\\n    evaluation_sim = Evaluation(system,\\n                                simulation.models.f_sm,\\n                                comp_func=comp_func,\\n                                file_prefix=file_prefix + \\'_\\')\\n    evaluation_sim.load_eval_dataset(\\'../../systems/datasets/parabola_v2_dataset.h5\\')\\n\\n    val_sm_data = evaluation_sim.evaluate(save_data=False, space=simulation.params.expl_space)\\n    val_sm_data.cut_final_data()\\n\\n\\n    from parabola_results import show_results\\n    show_results(system, simulation, val_sm_data, val_sm_data, proprio_val, thres=thres_slope )\\n    '"
      ]
     },
     "execution_count": 5,
     "metadata": {},
     "output_type": "execute_result"
    }
   ],
   "source": [
    "\"\"\"#  Looking at the proprioceptive model\n",
    "    cons_th = system.cons_threshold\n",
    "\n",
    "    n_motor_samples = 2000\n",
    "\n",
    "    m1, m2 = generate_motor_grid(system, n_motor_samples)\n",
    "\n",
    "    proprio_val = []\n",
    "    for m in zip(m1.flatten(), m2.flatten()):\n",
    "        system.cons_out = 0.\n",
    "        system.set_action(np.array([m[0], m[1]]))\n",
    "        cons_pred = simulation.models.f_cons.predict_cons(system)\n",
    "        system.execute_action()\n",
    "        cons_res = system.cons_out\n",
    "        # print(\"We predicted {} but got {}.\".format(cons_pred, cons_res))\n",
    "        system.execute_action_unconstrained()\n",
    "\n",
    "        if cons_pred >= cons_th and cons_res >= cons_th:\n",
    "            proprio_val += [[system.sensor_out[0], system.sensor_out[1], '.k']]\n",
    "\n",
    "        if cons_pred >= cons_th > cons_res:\n",
    "            proprio_val += [[system.sensor_out[0], system.sensor_out[1], 'xr']]\n",
    "\n",
    "        if cons_pred < cons_th and cons_res < cons_th:\n",
    "            proprio_val += [[system.sensor_out[0], system.sensor_out[1], '.b']]\n",
    "\n",
    "        if cons_pred < cons_th <= cons_res:\n",
    "            proprio_val += [[system.sensor_out[0], system.sensor_out[1], 'xk']]\n",
    "    '''\n",
    "    simulation.params.expl_space='somato'\n",
    "    model_to_eva = simulation.select_expl_model()\n",
    "    evaluation_sim = Evaluation(system,\n",
    "                                        model_to_eva,\n",
    "                                        comp_func=comp_func,\n",
    "                                        file_prefix=file_prefix + '_')\n",
    "    evaluation_sim.load_eval_dataset('../../systems/datasets/parabola_v2_dataset.h5')\n",
    "\n",
    "    val_ssm_data = evaluation_sim.evaluate(save_data=False, space=simulation.params.expl_space)\n",
    "    val_ssm_data.cut_final_data()\n",
    "    '''\n",
    "\n",
    "    simulation.params.expl_space='sensor'\n",
    "    #model_to_eva = simulation.select_expl_model()\n",
    "    evaluation_sim = Evaluation(system,\n",
    "                                simulation.models.f_sm,\n",
    "                                comp_func=comp_func,\n",
    "                                file_prefix=file_prefix + '_')\n",
    "    evaluation_sim.load_eval_dataset('../../systems/datasets/parabola_v2_dataset.h5')\n",
    "\n",
    "    val_sm_data = evaluation_sim.evaluate(save_data=False, space=simulation.params.expl_space)\n",
    "    val_sm_data.cut_final_data()\n",
    "\n",
    "\n",
    "    from parabola_results import show_results\n",
    "    show_results(system, simulation, val_sm_data, val_sm_data, proprio_val, thres=thres_slope )\n",
    "    \"\"\""
   ]
  },
  {
   "cell_type": "code",
   "execution_count": 6,
   "metadata": {},
   "outputs": [],
   "source": [
    "models.f_cons.save_model('test/test_save_model.txt', 'test/test_2017_11_16_17_58_44_sim_data.h5')"
   ]
  },
  {
   "cell_type": "code",
   "execution_count": 1,
   "metadata": {},
   "outputs": [],
   "source": [
    "from exploration.systems.parabola import ParabolicRegion\n",
    "from exploration.models.Constraints.ExplautoCons import load_model\n",
    "system = ParabolicRegion()\n",
    "x = load_model(system, 'test/test_save_model.txt')"
   ]
  },
  {
   "cell_type": "code",
   "execution_count": 6,
   "metadata": {},
   "outputs": [
    {
     "data": {
      "text/plain": [
       "array([ 0.33412923])"
      ]
     },
     "execution_count": 6,
     "metadata": {},
     "output_type": "execute_result"
    }
   ],
   "source": [
    "system.set_action([3.,2.9])\n",
    "x.predict_cons(system)"
   ]
  },
  {
   "cell_type": "code",
   "execution_count": null,
   "metadata": {
    "collapsed": true
   },
   "outputs": [],
   "source": []
  }
 ],
 "metadata": {
  "kernelspec": {
   "display_name": "Python 2",
   "language": "python",
   "name": "python2"
  },
  "language_info": {
   "codemirror_mode": {
    "name": "ipython",
    "version": 2
   },
   "file_extension": ".py",
   "mimetype": "text/x-python",
   "name": "python",
   "nbconvert_exporter": "python",
   "pygments_lexer": "ipython2",
   "version": "2.7.12"
  }
 },
 "nbformat": 4,
 "nbformat_minor": 2
}
