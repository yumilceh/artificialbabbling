{
 "cells": [
  {
   "cell_type": "code",
   "execution_count": 1,
   "metadata": {},
   "outputs": [
    {
     "name": "stdout",
     "output_type": "stream",
     "text": [
      "Working on directory 1 of 2\n",
      "Working on directory 2 of 2\n"
     ]
    }
   ],
   "source": [
    "\n",
    "# coding: utf-8\n",
    "\n",
    "# In[9]:\n",
    "\n",
    "'''\n",
    "Created on Oct 5, 2016\n",
    "\n",
    "@author: Juan Manuel Acevedo Valle\n",
    "'''\n",
    "import os,sys\n",
    "import numpy as np\n",
    "import h5py\n",
    "from scipy.spatial import ConvexHull\n",
    "this_dir =  os.getcwd()\n",
    "\n",
    "\n",
    "# In[10]:\n",
    "\n",
    "only_nocollisions = True\n",
    "obtain_mean_competence = True\n",
    "os.chdir('C:/Users/yumilceh/Desktop/EVD_finalValidation')\n",
    "directories = ['EVD_no_Proprio_0/',\n",
    "               # 'EVD_no_Proprio_1/',\n",
    "               # 'EVD_no_Proprio_2/',\n",
    "               # 'EVD_no_Proprio_3/',\n",
    "               # 'EVD_no_Proprio_4/',\n",
    "               # 'EVD_no_Proprio_6/',\n",
    "               # 'EVD_no_Proprio_7/',\n",
    "               # 'EVD_no_Proprio_8/',\n",
    "               # 'EVD_no_Proprio_9/',\n",
    "               # 'EVD_Proprio_0/',\n",
    "               # 'EVD_Proprio_1/',\n",
    "               # 'EVD_Proprio_2/',\n",
    "               # 'EVD_Proprio_3/',\n",
    "               # 'EVD_Proprio_4/',\n",
    "               # 'EVD_Proprio_6/',\n",
    "               # 'EVD_Proprio_7/',\n",
    "               # 'EVD_Proprio_8/',\n",
    "               'EVD_Proprio_9/',]\n",
    "diva_output_scale=[100.0,500.0,1500.0,3000.0]\n",
    "\n",
    "\n",
    "# In[12]:\n",
    "\n",
    "n_directories = len(directories)\n",
    "hull_volumes = {key: None for key in directories}\n",
    "\n",
    "for i in range(n_directories):    \n",
    "    mat = h5py.File(directories[i] + 'SMdata.mat','r')\n",
    "    data = np.array(mat.get('SMdata'))\n",
    "    #action = data[6:,:]\n",
    "    sensor_data = data[[0,1,3,4],:]\n",
    "    \n",
    "    \n",
    "    \n",
    "    print('Working on directory {} of {}'.format(i+1,n_directories) )\n",
    "    hull = ConvexHull(np.transpose(sensor_data), qhull_options='Q12')\n",
    "    hull_volumes[directories[i]]=[hull.volume, 0, 0, 0, 0]"
   ]
  },
  {
   "cell_type": "code",
   "execution_count": null,
   "metadata": {},
   "outputs": [],
   "source": [
    "hull_volumes"
   ]
  },
  {
   "cell_type": "code",
   "execution_count": 1,
   "metadata": {},
   "outputs": [],
   "source": [
    "import os,sys\n",
    "import numpy as np\n",
    "import h5py\n",
    "from scipy.spatial import ConvexHull\n",
    "this_dir =  os.getcwd()\n"
   ]
  },
  {
   "cell_type": "code",
   "execution_count": 2,
   "metadata": {},
   "outputs": [
    {
     "name": "stdout",
     "output_type": "stream",
     "text": [
      "1.25071492324\n"
     ]
    }
   ],
   "source": [
    "from exploration.data.data import load_sim_h5_v2 as load_sim_h5\n",
    "file_ = 'diva_experiment_thesis_chap_5_toshi/proprio0_2018_03_13_00_48_01_sim_data.h5'\n",
    "data, foo = load_sim_h5(file_)\n",
    "\n",
    "sensor_data = data.sensor.data.as_matrix(columns=None)[:,[0,1,3,4]]\n",
    "hull = ConvexHull(sensor_data, qhull_options='Q12')\n",
    "print(hull.volume)"
   ]
  },
  {
   "cell_type": "code",
   "execution_count": 3,
   "metadata": {},
   "outputs": [],
   "source": []
  },
  {
   "cell_type": "code",
   "execution_count": 6,
   "metadata": {},
   "outputs": [
    {
     "data": {
      "text/plain": [
       "[<matplotlib.lines.Line2D at 0x213a33c8>]"
      ]
     },
     "execution_count": 6,
     "metadata": {},
     "output_type": "execute_result"
    },
    {
     "data": {
      "image/png": "[encoded data removed]",
      "text/plain": [
       "<matplotlib.figure.Figure at 0x211b7a58>"
      ]
     },
     "metadata": {},
     "output_type": "display_data"
    }
   ],
   "source": []
  },
  {
   "cell_type": "code",
   "execution_count": null,
   "metadata": {},
   "outputs": [],
   "source": []
  }
 ],
 "metadata": {
  "kernelspec": {
   "display_name": "Python 2",
   "language": "python",
   "name": "python2"
  },
  "language_info": {
   "codemirror_mode": {
    "name": "ipython",
    "version": 2
   },
   "file_extension": ".py",
   "mimetype": "text/x-python",
   "name": "python",
   "nbconvert_exporter": "python",
   "pygments_lexer": "ipython2",
   "version": "2.7.14"
  }
 },
 "nbformat": 4,
 "nbformat_minor": 2
}
