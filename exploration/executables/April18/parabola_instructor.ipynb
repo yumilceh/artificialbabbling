{
 "cells": [
  {
   "cell_type": "code",
   "execution_count": 2,
   "metadata": {
    "collapsed": true
   },
   "outputs": [],
   "source": [
    "%matplotlib inline\n",
    "from exploration.data.data import load_sim_h5_v2 as load_sim_h5\n",
    "import pylab as plt"
   ]
  },
  {
   "cell_type": "code",
   "execution_count": 12,
   "metadata": {},
   "outputs": [
    {
     "name": "stdout",
     "output_type": "stream",
     "text": [
      "Warning: Old version data file\n"
     ]
    },
    {
     "data": {
      "text/plain": [
       "[<matplotlib.lines.Line2D at 0x7f0e56a80fd0>]"
      ]
     },
     "execution_count": 12,
     "metadata": {},
     "output_type": "execute_result"
    },
    {
     "data": {
      "image/png": "[encoded data removed]",
      "text/plain": [
       "<matplotlib.figure.Figure at 0x7f0e5b856f90>"
      ]
     },
     "metadata": {},
     "output_type": "display_data"
    }
   ],
   "source": [
    "data, foo = load_sim_h5('../../systems/datasets/instructor_parabola_1.h5')\n",
    "plt.plot(data.sensor.data.as_matrix()[:,0],data.sensor.data.as_matrix()[:,1],'.b')"
   ]
  },
  {
   "cell_type": "code",
   "execution_count": 14,
   "metadata": {},
   "outputs": [
    {
     "name": "stdout",
     "output_type": "stream",
     "text": [
      "[[1.90000006 1.25000014]\n",
      " [4.15000007 1.99999988]\n",
      " [2.29999989 3.3999999 ]\n",
      " [5.27000014 6.23000001]\n",
      " [0.14999989 8.69999988]\n",
      " [2.35999985 7.4599999 ]\n",
      " [5.20000005 8.86999996]\n",
      " [2.99999994 0.50000007]]\n"
     ]
    }
   ],
   "source": [
    "print data.sensor.data.as_matrix()"
   ]
  },
  {
   "cell_type": "code",
   "execution_count": 16,
   "metadata": {},
   "outputs": [
    {
     "name": "stdout",
     "output_type": "stream",
     "text": [
      "[[1.9        4.11803399]\n",
      " [4.15       4.41421356]\n",
      " [2.3        4.84390889]\n",
      " [5.27       5.49599679]\n",
      " [0.15       5.94957624]\n",
      " [2.36       5.73130006]\n",
      " [5.2        5.97825452]\n",
      " [3.         3.70710678]]\n"
     ]
    }
   ],
   "source": [
    "print data.action.data.as_matrix()"
   ]
  },
  {
   "cell_type": "code",
   "execution_count": null,
   "metadata": {
    "collapsed": true
   },
   "outputs": [],
   "source": []
  }
 ],
 "metadata": {
  "kernelspec": {
   "display_name": "Python 2",
   "language": "python",
   "name": "python2"
  },
  "language_info": {
   "codemirror_mode": {
    "name": "ipython",
    "version": 2
   },
   "file_extension": ".py",
   "mimetype": "text/x-python",
   "name": "python",
   "nbconvert_exporter": "python",
   "pygments_lexer": "ipython2",
   "version": "2.7.12"
  }
 },
 "nbformat": 4,
 "nbformat_minor": 2
}
