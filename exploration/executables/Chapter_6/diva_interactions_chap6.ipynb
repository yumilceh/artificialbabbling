{
 "cells": [
  {
   "cell_type": "code",
   "execution_count": 6,
   "metadata": {},
   "outputs": [],
   "source": [
    "%matplotlib inline\n",
    "import os\n",
    "import itertools\n",
    "import matplotlib\n",
    "import numpy as np\n",
    "import matplotlib.pyplot as plt\n",
    "import matplotlib\n",
    "from scipy.stats import pearsonr, shapiro, anderson\n",
    "from scipy.spatial import ConvexHull\n",
    "import matplotlib.ticker as ticker\n",
    "from exploration.data.data import load_sim_h5\n",
    "from results_utils import *\n",
    "from exploration.algorithm.utils.logging import read_config_log\n",
    "\n",
    "colors_ = ['firebrick', 'darkgreen', 'navy',  'deepskyblue', 'm','goldenrod', 'black', 'grey']\n",
    "\n",
    "def get_num_interaction(final_thresh, original_thresh, slope):\n",
    "    interactions = 0\n",
    "    while final_thresh<original_thresh:\n",
    "        interactions += 1\n",
    "        final_thresh = final_thresh/slope\n",
    "    return interactions"
   ]
  },
  {
   "cell_type": "code",
   "execution_count": 21,
   "metadata": {},
   "outputs": [],
   "source": [
    "def analyze_agent(conf_file):\n",
    "    conf = read_config_log(conf_file)\n",
    "    \n",
    "    print(conf.keys())\n",
    "    print(conf['slope'])\n",
    "\n",
    "    slope = float(conf['slope'])\n",
    "    original_threshold = float(conf['threshold'][:-1])\n",
    "    \n",
    "    interactions_per_unit = []\n",
    "    with open(conf_file.replace('conf.txt', '_instructor_thresh.txt'), 'r') as f:\n",
    "        for line in f:\n",
    "            line.replace('\\n','')\n",
    "            line.replace('\\r', '')\n",
    "            interactions_per_unit += [get_num_interaction(float(line), original_threshold, slope)]\n",
    "    interactions_per_unit = np.array(interactions_per_unit)\n",
    "    plt.plot(interactions_per_unit,'ok')\n",
    "    total_interactions = np.sum(interactions_per_unit>0)\n",
    "    print(total_interactions)\n",
    "\n",
    "#         eva_cons_whole = []\n",
    "#         with open(data_file.replace('sim_data.h5', '_German_Vowels_eval_cons.txt'), 'r') as f:\n",
    "#             for line in f:\n",
    "#                 line.replace('\\n', '')\n",
    "#                 line.replace('\\r', '')\n",
    "#                 eva_cons_str = line.split(': ')\n",
    "#                 #In the newes version the ratio is returned already divided by the len of the eval dataset\n",
    "#                 eva_cons_whole += [float(eva_cons_str[1])]\n",
    "                \n",
    "#         key = conf['type'] + '_' + conf['mode']\n",
    "#         if 'slope' in directory:\n",
    "#             key =  key + '_slope'"
   ]
  },
  {
   "cell_type": "code",
   "execution_count": 23,
   "metadata": {},
   "outputs": [
    {
     "name": "stdout",
     "output_type": "stream",
     "text": [
      "['idx_sensor', 'slope', 'sm_model', 'German_Vowels_evaluation_file', 'cons_step', 'n_training_samples', 'n_motor', 'im_model', 'w0', 'threshold', 'duration_m2', 'eval_step', 'duration_m1', 'g_im_initialization_method', 'n_experiments', 'f_im', 'n_save_data', 'learner', 'system', 'n_initialization_experiments', 'sm_all_samples', 'f_sm', '{f_cons', 'type', 'damping_factor', 'cons_model', 'random_seed', 'n_sensor', 'sensor_space', 'instructor', 'sound', 'name', 'n_units', 'im_step', 'mode', 'sm_step', 'model_type']\n",
      "1.0\n",
      "0\n"
     ]
    },
    {
     "data": {
      "image/png": "[encoded data removed]",
      "text/plain": [
       "<matplotlib.figure.Figure at 0x7fe4cdc6c3d0>"
      ]
     },
     "metadata": {},
     "output_type": "display_data"
    }
   ],
   "source": [
    "matplotlib.rcParams['figure.figsize'] = (16.0, 7)\n",
    "matplotlib.rcParams.update({'font.size': 18})\n",
    "matplotlib.rcParams.update({'lines.linewidth': 2.5})\n",
    "\n",
    "conf_file = 'diva_results/diva_experiment_thesis_chap_6_social_all_no_slope/proprio0_2018_04_11_00_23_09_conf.txt'\n",
    "analyze_agent(conf_file)"
   ]
  },
  {
   "cell_type": "code",
   "execution_count": null,
   "metadata": {
    "collapsed": true
   },
   "outputs": [],
   "source": []
  }
 ],
 "metadata": {
  "kernelspec": {
   "display_name": "Python 2",
   "language": "python",
   "name": "python2"
  },
  "language_info": {
   "codemirror_mode": {
    "name": "ipython",
    "version": 2
   },
   "file_extension": ".py",
   "mimetype": "text/x-python",
   "name": "python",
   "nbconvert_exporter": "python",
   "pygments_lexer": "ipython2",
   "version": "2.7.12"
  }
 },
 "nbformat": 4,
 "nbformat_minor": 2
}
