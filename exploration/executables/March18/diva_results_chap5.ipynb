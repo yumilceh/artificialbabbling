{
 "cells": [
  {
   "cell_type": "markdown",
   "metadata": {},
   "source": [
    "DIVA"
   ]
  },
  {
   "cell_type": "code",
   "execution_count": 2,
   "metadata": {},
   "outputs": [],
   "source": [
    "%matplotlib inline\n",
    "import os\n",
    "import itertools\n",
    "import matplotlib\n",
    "import numpy as np\n",
    "import matplotlib.pyplot as plt\n",
    "import matplotlib\n",
    "from scipy.stats import pearsonr, shapiro, anderson\n",
    "from scipy.spatial import ConvexHull\n",
    "\n",
    "colors_ = ['firebrick', 'darkgreen', 'navy',  'deepskyblue', 'm','goldenrod', 'black', 'grey']\n",
    "\n",
    "from exploration.data.data import load_sim_h5\n",
    "from results_utils import *\n",
    "from exploration.algorithm.utils.logging import read_config_log"
   ]
  },
  {
   "cell_type": "code",
   "execution_count": 9,
   "metadata": {},
   "outputs": [],
   "source": [
    "def create_dict(groups_k):\n",
    "    return {k[0] + '_' + k[1]: [] for k in groups_k}\n",
    "\n",
    "def incremental_mean(arr_):\n",
    "    n_samples = len(arr_)\n",
    "    sum_ = 0\n",
    "    out = []\n",
    "    for i in range(n_samples):\n",
    "        sum_ += arr_[i]\n",
    "        out += [sum_/(i + 1.)]\n",
    "    out = np.array(out).flatten()\n",
    "    return out\n",
    "\n",
    "def moving_av(arr_, win_sz):\n",
    "    n_samples = len(arr_)\n",
    "    sum_ = 0\n",
    "    out = []\n",
    "    for i in range(win_sz):\n",
    "        sum_ += arr_[i]\n",
    "        out += [sum_/(i + 1.)]\n",
    "    for i in range(win_sz,n_samples):\n",
    "        sum_ = sum_ + arr_[i] - arr_[i-win_sz]\n",
    "        out += [sum_/win_sz]\n",
    "    out = np.array(out).flatten()\n",
    "    return out\n",
    "\n",
    "def std_markers(ax,y,m,sz,color='b'):\n",
    "    plt.sca(ax)\n",
    "    for i,(y_,ms_) in enumerate(zip(y,sz)):\n",
    "        plt.plot(i, y_, marker = m, ms = ms_, color = color)\n",
    "        \n",
    "def get_stat_test(dict_):\n",
    "    thresh = []\n",
    "    values  = []\n",
    "    for key in dict_.keys():\n",
    "        if 'autonomous' in key:\n",
    "            continue\n",
    "        values += [dict_[key]]\n",
    "        key = key.split('&')\n",
    "        key[0] = key[0].replace('_','.')\n",
    "        thresh += [float(key[0])]\n",
    "\n",
    "    return pearsonr(thresh, values)"
   ]
  },
  {
   "cell_type": "code",
   "execution_count": 11,
   "metadata": {},
   "outputs": [
    {
     "name": "stdout",
     "output_type": "stream",
     "text": [
      "('proprio', 'autonomous')\n",
      "('simple', 'autonomous')\n",
      "0.286845740733\n"
     ]
    },
    {
     "name": "stderr",
     "output_type": "stream",
     "text": [
      "c:\\python27\\lib\\site-packages\\numpy\\core\\fromnumeric.py:2909: RuntimeWarning: Mean of empty slice.\n",
      "  out=out, **kwargs)\n",
      "c:\\python27\\lib\\site-packages\\numpy\\core\\_methods.py:80: RuntimeWarning: invalid value encountered in double_scalars\n",
      "  ret = ret.dtype.type(ret / rcount)\n",
      "c:\\python27\\lib\\site-packages\\numpy\\core\\_methods.py:135: RuntimeWarning: Degrees of freedom <= 0 for slice\n",
      "  keepdims=keepdims)\n",
      "c:\\python27\\lib\\site-packages\\numpy\\core\\_methods.py:105: RuntimeWarning: invalid value encountered in true_divide\n",
      "  arrmean, rcount, out=arrmean, casting='unsafe', subok=False)\n",
      "c:\\python27\\lib\\site-packages\\numpy\\core\\_methods.py:127: RuntimeWarning: invalid value encountered in double_scalars\n",
      "  ret = ret.dtype.type(ret / rcount)\n"
     ]
    }
   ],
   "source": [
    "directory = 'diva_experiment_thesis_chap_5_toshi/'\n",
    "data_files = os.listdir(directory)\n",
    "\n",
    "n_samples = 102000\n",
    "# Group by:\n",
    "type_ops = ['proprio', 'simple']\n",
    "mode_ops = ['autonomous']\n",
    "\n",
    "groups_k = list(itertools.product(type_ops, mode_ops))\n",
    "\n",
    "\n",
    "#container for error\n",
    "means_e = create_dict(groups_k)\n",
    "means_av_e = create_dict(groups_k)\n",
    "\n",
    "#container for social error\n",
    "means_s = create_dict(groups_k)\n",
    "means_av_s = create_dict(groups_k)\n",
    "means_std_s = create_dict(groups_k)\n",
    "\n",
    "#container for whole evaluation error \n",
    "means_w = create_dict(groups_k)\n",
    "means_av_w = create_dict(groups_k)\n",
    "means_std_w = create_dict(groups_k)\n",
    "\n",
    "#container for convex hulls\n",
    "ch_ = create_dict(groups_k)\n",
    "ch_av = create_dict(groups_k)\n",
    "ch_std = create_dict(groups_k)\n",
    "\n",
    "#container for interactions social eval\n",
    "means_inter_s = create_dict(groups_k)\n",
    "means_inter_av_s = create_dict(groups_k)\n",
    "stds_inter_av_s = create_dict(groups_k)\n",
    "\n",
    "#container for interactions whole eval\n",
    "means_inter_w = create_dict(groups_k)\n",
    "means_inter_av_w = create_dict(groups_k)\n",
    "stds_inter_av_w = create_dict(groups_k)\n",
    "\n",
    "#container for acomulated collisions\n",
    "coll_e = create_dict(groups_k)\n",
    "coll_av_e = create_dict(groups_k)\n",
    "\n",
    "#container for collisions in social evaluation (not used)\n",
    "coll_s = create_dict(groups_k)\n",
    "coll_av_s = create_dict(groups_k)\n",
    "coll_std_s = create_dict(groups_k)\n",
    "\n",
    "#container for collisions in whole evaluation (not used)\n",
    "coll_w = create_dict(groups_k)\n",
    "coll_av_w = create_dict(groups_k)\n",
    "coll_std_w = create_dict(groups_k)\n",
    "\n",
    "#container for interactions data \n",
    "inter = create_dict(groups_k)\n",
    "inter_av = create_dict(groups_k)\n",
    "inter_std = create_dict(groups_k)\n",
    "\n",
    "inter_evo = create_dict(groups_k)\n",
    "inter_evo_av = create_dict(groups_k)\n",
    "\n",
    "#container for errors\n",
    "error_ev = create_dict(groups_k)\n",
    "error_ev_av = create_dict(groups_k)\n",
    "\n",
    "#container for standar deviations\n",
    "std_ev = create_dict(groups_k)\n",
    "\n",
    "#container for competence during exploration\n",
    "comp_w = create_dict(groups_k)\n",
    "comp_av_w = create_dict(groups_k)\n",
    "\n",
    "for data_file in (d_f for d_f in data_files if 'sim_data.h5' in d_f):\n",
    "    data_file = directory + data_file\n",
    "    conf_file = data_file.replace('sim_data.h5', 'conf.txt')\n",
    "    conf = read_config_log(conf_file)\n",
    "#     with open(conf_file) as f:\n",
    "#         for line in f:\n",
    "#             line = line.replace('\\n', '')\n",
    "#             line = line.replace('\\r', '')\n",
    "#             (key, val) = line.split(': ')\n",
    "#             conf[key] = val\n",
    "\n",
    "    #try:\n",
    "    #    if conf['instructor_slope']=='0.995':\n",
    "    #        pass\n",
    "    #except:\n",
    "    #    conf['instructor_slope']='0.995'\n",
    "    \n",
    "    try:\n",
    "        data,foo = load_sim_h5(data_file)\n",
    "        interaction_data = data.social.data.as_matrix(columns=None)\n",
    "        interactions = np.zeros((n_samples,))\n",
    "        interactions[~np.isnan(interaction_data[:n_samples, 0])] = 1.\n",
    "\n",
    "        social_data, foo = load_sim_h5(data_file.replace('sim_data.h5', '_German_Vowels_sensor_eva_valset.h5'))\n",
    "        \n",
    "        s_error_ = np.linalg.norm(social_data.sensor_goal.data.as_matrix() -\n",
    "                                  social_data.sensor.data.as_matrix(), axis=1)\n",
    "        \n",
    "        s_con_v = social_data.cons.data.as_matrix()\n",
    "    \n",
    "        e_con_v = data.cons.data.as_matrix()\n",
    "        \n",
    "        error_ = np.linalg.norm(data.sensor_goal.data.as_matrix() -\n",
    "                                          data.sensor.data.as_matrix(), axis=1)\n",
    "\n",
    "#         error_ss_ = np.linalg.norm(data.somato_goal.data.as_matrix() -\n",
    "#                                   data.somato.data.as_matrix(), axis=1)\n",
    "\n",
    "\n",
    "        eva_errors = []\n",
    "        with open(data_file.replace('sim_data.h5', '_German_Vowels_eval_error.txt'), 'r') as f:\n",
    "            for line in f:\n",
    "                line.replace('\\n', '')\n",
    "                eva_errors_str = line.split(': ')\n",
    "                eva_errors += [float(eva_errors_str[1])]\n",
    "            \n",
    "        means_s[conf['type'] + '_' + conf['mode']] += [np.mean(s_error_)]\n",
    " \n",
    "        coll_s[conf['type'] + '_' + conf['mode']] += [np.mean(s_con_v)]\n",
    "        coll_e[conf['type'] + '_' + conf['mode']] += [e_con_v[:n_samples]]\n",
    "        \n",
    "        # ch_[conf['instructor_slope'] + '&' + conf['mode']] += [ConvexHull(data.sensor.data.as_matrix(),qhull_options='Q12').volume]\n",
    "#         data = np.array(mat.get('SMdata'))\n",
    "#         hull = ConvexHull(np.transpose(sensor_data))\n",
    "\n",
    "#         hull_volumes[directory]=hull.volume\n",
    "        \n",
    "    \n",
    "        inter[conf['type'] + '_' + conf['mode']] += [np.sum(interactions)/float(n_samples)]\n",
    "        \n",
    "        inter_evo[conf['type'] + '_' + conf['mode']] += [interactions]\n",
    "\n",
    "        error_ev[conf['type'] + '_' + conf['mode']] += [eva_errors]\n",
    "\n",
    "        comp_w[conf['type'] + '_' + conf['mode']] += [error_[:n_samples]]\n",
    "        #wh_comp_w[conf['instructor_slope'] + '&' + conf['mode']] += [error_ss_[:2200]]  \n",
    "        \n",
    "    except IOError:\n",
    "        print(\"Something went wrong!\")\n",
    "\n",
    "legend = []\n",
    "max_std = 0\n",
    "for i, k in enumerate(groups_k):\n",
    "    print(k)\n",
    "    group = k[0] + '_' + k[1] \n",
    "    legend += [group]\n",
    "\n",
    "    means_av_s[group] = np.mean(np.array(means_s[group]))\n",
    "    means_std_s[group] = np.std(np.array(means_s[group]))\n",
    "    \n",
    "    ch_av[group] = np.mean(np.array(ch_[group]))\n",
    "    ch_std[group] = np.std(np.array(ch_[group]))\n",
    "    \n",
    "    coll_av_e[group] = np.mean(np.array(coll_e[group]), axis=0)\n",
    "    coll_av_s[group] = np.mean(np.array(coll_s[group]), axis=0)\n",
    "    coll_std_s[group] = np.std(np.array(coll_s[group]), axis=0)\n",
    "    \n",
    "    inter_av[group] = np.mean(np.array(inter[group]), axis=0)\n",
    "    inter_std[group] = np.std(np.array(inter[group]), axis=0)\n",
    "    \n",
    "    inter_evo_av[group] = np.mean(np.array(inter_evo[group]), axis=0)\n",
    "    \n",
    "    comp_av_w[group] = np.mean(np.array(comp_w[group]), axis=0)\n",
    "    #wh_comp_av_w[group] = np.mean(np.array(wh_comp_w[group]), axis=0)\n",
    "    \n",
    "    error_ev_av[group] = np.mean(np.array(error_ev[group]), axis=0)\n",
    "    std_ev[group] = np.std(np.array(error_ev[group]),axis=0)\n",
    "    max_std = max(max_std,max(std_ev[group].flatten()))\n",
    "    \n",
    "    \n",
    "print(max_std)"
   ]
  },
  {
   "cell_type": "code",
   "execution_count": null,
   "metadata": {},
   "outputs": [],
   "source": [
    "type_ops = ['proprio', 'simple']\n",
    "mode_ops = ['_autonomous']\n",
    "groups_to_plot = list(itertools.product(type_ops, mode_ops))\n",
    "\n",
    "matplotlib.rcParams['figure.figsize'] = (12.0, 11.0)\n",
    "matplotlib.rcParams.update({'font.size': 18})\n",
    "\n",
    "fig1, ax1 = plt.subplots(1,3)\n",
    "plt.sca(ax1[0])\n",
    "ax1[0,0].set_title('Average evaluation error')\n",
    "for key, color in zip(error_ev_av.keys(), colors_):\n",
    "    data_plt = error_ev_av[key]\n",
    "    plt.plot(data_plt, linestyle='-', marker='',lw = 1.5, color=color)\n",
    "    ms = [(x/max_std)*13 + 1 for x in std_ev[key]]\n",
    "    std_markers(ax1[0,0],error_ev_av[key],'o',ms,color=color)\n",
    "plt.xlabel('Evaluation step [$k_e$]')\n",
    "plt.ylabel('Evaluation error [$e_e$]')\n",
    "# ax1[0,1].set_xlim([200,n_samples])\n",
    "# ax1[0,1].set_ylim([0,0.25])\n",
    "\n",
    "plt.sca(ax1[0])\n",
    "ax1[0,1].set_title('Error evolution')\n",
    "win_sz=50\n",
    "for key, color in zip(error_ev_av.keys(), colors_):\n",
    "    data_plt = moving_av(comp_av_w[key],win_sz)\n",
    "    plt.plot(data_plt, linestyle='-', marker='', lw = 1.5, color=color)\n",
    "plt.xlabel('Experiment [$k$]')\n",
    "plt.ylabel('Error [$e_s$]')\n",
    "# ax1[0,1].set_xlim([200,n_samples])\n",
    "# ax1[0,1].set_ylim([0,0.25])\n",
    "\n",
    "\n",
    "plt.sca(ax1[2])\n",
    "ax1[1,0].set_title('Collisions ratio')\n",
    "for key, color in zip(error_ev_av.keys(), colors_):\n",
    "    data_plt = moving_av(coll_av_e[key],win_sz)\n",
    "    plt.plot(data_plt, linestyle='-', marker='',lw = 1.5,color=color)\n",
    "plt.xlabel('Experiment [$k$]')\n",
    "plt.ylabel('Collisions ratio')\n",
    "# ax1[1,0].set_xlim([0,n_samples])\n",
    "# ax1[1,0].set_ylim([0,0.8])\n",
    "\n",
    "lds_ = []\n",
    "for key, color in zip(error_ev_av.keys(), colors_):\n",
    "    key = key.replace('_','.')\n",
    "    key = key.replace('&',' & ')\n",
    "    key = key.replace('social','soc')\n",
    "    key = key.replace('autonomous','auto')\n",
    "    lds_ += [key]\n",
    "\n",
    "lgd = plt.legend(lds_,\\\n",
    "           ncol=4,loc='lower right', fontsize=18, bbox_to_anchor=(1., -0.4),\n",
    "          fancybox=True, shadow=True)\n",
    "for legobj in lgd.legendHandles:\n",
    "    legobj.set_linewidth(10.0)\n",
    "\n",
    "\n",
    "plt.tight_layout()\n",
    "\n",
    "# fig1.savefig('/home/yumilceh/Dropbox/Aplicaciones/ShareLaTeX/IEEE_TCDS_Special_Issue/images/parabola_results.eps',\\\n",
    "#              format='eps', dpi=1000, bbox_extra_artists=(lgd,), bbox_inches='tight')"
   ]
  },
  {
   "cell_type": "code",
   "execution_count": 19,
   "metadata": {},
   "outputs": [
    {
     "data": {
      "text/plain": [
       "{'proprio_autonomous': 1.5832749607418191,\n",
       " 'simple_autonomous': 1.7239120838270556}"
      ]
     },
     "execution_count": 19,
     "metadata": {},
     "output_type": "execute_result"
    }
   ],
   "source": [
    "means_av_s"
   ]
  },
  {
   "cell_type": "code",
   "execution_count": 20,
   "metadata": {},
   "outputs": [
    {
     "data": {
      "text/plain": [
       "{'proprio_autonomous': 0.77347781217750267,\n",
       " 'simple_autonomous': 0.84107327141382859}"
      ]
     },
     "execution_count": 20,
     "metadata": {},
     "output_type": "execute_result"
    }
   ],
   "source": [
    "coll_av_s"
   ]
  },
  {
   "cell_type": "code",
   "execution_count": 22,
   "metadata": {},
   "outputs": [],
   "source": [
    "# fig1.savefig('/home/yumilceh/Dropbox/Aplicaciones/ShareLaTeX/IEEE_TCDS_Special_Issue/images/diva_results.eps',\\\n",
    "#              format='eps', dpi=1000, bbox_extra_artists=(lgd,), bbox_inches='tight')\n",
    "\n",
    "# fig1.savefig('diva_results_323.eps',format='eps', dpi=1000, bbox_extra_artists=(lgd,), bbox_inches='tight')\n",
    "# fig1.savefig('diva_results_323.png',format='png', dpi=1000, bbox_extra_artists=(lgd,), bbox_inches='tight')"
   ]
  },
  {
   "cell_type": "code",
   "execution_count": null,
   "metadata": {},
   "outputs": [
    {
     "name": "stdout",
     "output_type": "stream",
     "text": [
      "model_type\n"
     ]
    }
   ],
   "source": [
    "# Processing slow descriptors\n",
    "\n",
    "#container for convex hulls\n",
    "ch_ = create_dict(groups_k)\n",
    "ch_av = create_dict(groups_k)\n",
    "ch_std = create_dict(groups_k)\n",
    "\n",
    "#container for unarticulated productions\n",
    "means_unart_s = create_dict(groups_k)\n",
    "means_unart_av_s = create_dict(groups_k)\n",
    "stds_unar_s = create_dict(groups_k)\n",
    "\n",
    "#container for coarticulated productions\n",
    "means_coart_s = create_dict(groups_k)\n",
    "means_coart_av_s = create_dict(groups_k)\n",
    "stds_coar_s = create_dict(groups_k)\n",
    "\n",
    "continue__ = True   #To skip corrupt simulation with 123\n",
    "for data_file in (d_f for d_f in data_files if 'sim_data.h5' in d_f):\n",
    "#     print \"Trying\"\n",
    "    data_file = directory + data_file\n",
    "    conf_file = data_file.replace('sim_data.h5', 'conf.txt')\n",
    "    conf = read_config_log(conf_file)\n",
    "#     with open(conf_file) as f:\n",
    "#         for line in f:\n",
    "#             line = line.replace('\\n', '')\n",
    "#             line = line.replace('\\r', '')\n",
    "#             (key, val) = line.split(': ')\n",
    "#             conf[key] = val\n",
    "#     if conf['mode'] == 'autonomous':\n",
    "#         conf['instructor_slope'] = '1'\n",
    "#     else:\n",
    "#         conf['instructor_slope'] = conf['instructor_slope'].replace('.','_')\n",
    "#     key = conf['instructor_slope'] + '&' + conf['mode']\n",
    "#     if key not in groups_to_plot:\n",
    "# #         print \"Not here\"\n",
    "#         continue\n",
    "#     if not continue__:\n",
    "#         continue__ = True\n",
    "#         continue\n",
    "# #     print \"Still trying\"\n",
    "\n",
    "    try:\n",
    "        print key\n",
    "        data,foo = load_sim_h5(data_file)\n",
    "        sensor_data = data.sensor.data.as_matrix(columns=None)\n",
    "                \n",
    "        ch_[conf['type'] + '_' + conf['mode']] += [ConvexHull(data.sensor.data.as_matrix(),qhull_options='Q12').volume]\n",
    "        means_unart_s[conf['type'] + '_' + conf['mode']] += [float(np.where(np.logical_xor(sensor_data[:,2]>0.1, sensor_data[:,5]>0.1))[0].shape[0])/float(n_samples)]\n",
    "        means_coart_s[conf['type'] + '_' + conf['mode']] += [float(np.where(np.logical_and(sensor_data[:,2]>0.1, sensor_data[:,5]>0.1))[0].shape[0])/float(n_samples)]\n",
    "\n",
    "    except IOError:\n",
    "        print(\"Something went terribly wrong!\")"
   ]
  },
  {
   "cell_type": "code",
   "execution_count": 122,
   "metadata": {
    "collapsed": true
   },
   "outputs": [],
   "source": [
    "legend = []\n",
    "max_std = 0\n",
    "for i, group in enumerate(groups_to_plot):\n",
    "    legend += [group]\n",
    "\n",
    "    ch_av[group] = np.mean(np.array(ch_[group]))\n",
    "    ch_std[group] = np.std(np.array(ch_[group]))\n",
    "    \n",
    "    means_unart_av_s[group] = np.mean(np.array(means_unart_s[group]))\n",
    "    stds_unar_s[group] = np.std(np.array(means_unart_s[group]))\n",
    "\n",
    "    means_coart_av_s[group] = np.mean(np.array(means_coart_s[group]))\n",
    "    stds_coar_s[group] = np.std(np.array(means_coart_s[group]))"
   ]
  },
  {
   "cell_type": "code",
   "execution_count": 123,
   "metadata": {},
   "outputs": [
    {
     "data": {
      "text/plain": [
       "{'0_93&social': [],\n",
       " '0_96&social': [],\n",
       " '0_99&social': [],\n",
       " '0_999999&social': [],\n",
       " '1&autonomous': [],\n",
       " '1_0&social': []}"
      ]
     },
     "execution_count": 123,
     "metadata": {},
     "output_type": "execute_result"
    }
   ],
   "source": [
    "ch_av"
   ]
  },
  {
   "cell_type": "code",
   "execution_count": 124,
   "metadata": {},
   "outputs": [
    {
     "data": {
      "text/plain": [
       "{'0_93&social': [],\n",
       " '0_96&social': [],\n",
       " '0_99&social': 0.41542647058823529,\n",
       " '0_999999&social': [],\n",
       " '1&autonomous': 0.57748366013071906,\n",
       " '1_0&social': []}"
      ]
     },
     "execution_count": 124,
     "metadata": {},
     "output_type": "execute_result"
    }
   ],
   "source": [
    "means_unart_av_s"
   ]
  },
  {
   "cell_type": "code",
   "execution_count": 125,
   "metadata": {},
   "outputs": [
    {
     "data": {
      "text/plain": [
       "{'0_93&social': [],\n",
       " '0_96&social': [],\n",
       " '0_99&social': 0.32349836601307186,\n",
       " '0_999999&social': [],\n",
       " '1&autonomous': 0.097390522875816996,\n",
       " '1_0&social': []}"
      ]
     },
     "execution_count": 125,
     "metadata": {},
     "output_type": "execute_result"
    }
   ],
   "source": [
    "means_coart_av_s"
   ]
  },
  {
   "cell_type": "code",
   "execution_count": 32,
   "metadata": {},
   "outputs": [
    {
     "data": {
      "text/plain": [
       "0.5218627450980392"
      ]
     },
     "execution_count": 32,
     "metadata": {},
     "output_type": "execute_result"
    }
   ],
   "source": [
    "# float(np.where(np.logical_xor(sensor_data[:,2]>0.1, sensor_data[:,5]>0.1))[0].shape[0])/float(n_samples)\n",
    "# float(np.where(np.logical_and(sensor_data[:,2]>0.1, sensor_data[:,5]>0.1))[0].shape[0])/float(n_samples)"
   ]
  },
  {
   "cell_type": "code",
   "execution_count": 118,
   "metadata": {},
   "outputs": [
    {
     "name": "stdout",
     "output_type": "stream",
     "text": [
      "0_99&social\n",
      "0_99&social\n",
      "0_99&social\n",
      "0_99&social\n",
      "0_99&social\n",
      "0_99&social\n",
      "0_99&social\n"
     ]
    },
    {
     "data": {
      "text/plain": [
       "(0, 1.01)"
      ]
     },
     "execution_count": 118,
     "metadata": {},
     "output_type": "execute_result"
    },
    {
     "data": {
      "image/png": "[encoded data removed]",
      "text/plain": [
       "<matplotlib.figure.Figure at 0x7f45b1926110>"
      ]
     },
     "metadata": {},
     "output_type": "display_data"
    }
   ],
   "source": [
    "# thresh_to_plot =  ['0_99&'] #['1_0&', '0_999999&','0_99&', '0_96&', '0_93&']\n",
    "# mode_to_plot = ['social']\n",
    "\n",
    "# custom = [] #['1&autonomous']\n",
    "\n",
    "# groups_to_plot = []\n",
    "# groups_to_plot_ = list(itertools.product(thresh_to_plot, mode_to_plot))\n",
    "# for group in groups_to_plot_:\n",
    "#     groups_to_plot += [group[0]+group[1]]\n",
    "# groups_to_plot = groups_to_plot + custom\n",
    "# # Processing slow descriptors\n",
    "\n",
    "#container for unarticulated productions\n",
    "means_unart_s = create_dict(groups_k)\n",
    "means_unart_av = create_dict(groups_k)\n",
    "\n",
    "#container for coarticulated productions\n",
    "means_coart_s = create_dict(groups_k)\n",
    "means_coart_av = create_dict(groups_k)\n",
    "\n",
    "continue__ = True\n",
    "for data_file in (d_f for d_f in data_files if 'sim_data.h5' in d_f):\n",
    "#     print \"Trying\"\n",
    "    data_file = directory + data_file\n",
    "    conf_file = data_file.replace('sim_data.h5', 'conf.txt')\n",
    "    conf = {}\n",
    "    with open(conf_file) as f:\n",
    "        for line in f:\n",
    "            line = line.replace('\\n', '')\n",
    "            line = line.replace('\\r', '')\n",
    "            (key, val) = line.split(': ')\n",
    "            conf[key] = val\n",
    "    if conf['mode'] == 'autonomous':\n",
    "        conf['instructor_slope'] = '1'\n",
    "    else:\n",
    "        conf['instructor_slope'] = conf['instructor_slope'].replace('.','_')\n",
    "    key = conf['instructor_slope'] + '&' + conf['mode']\n",
    "    if key not in groups_to_plot:\n",
    "#         print \"Not here\"\n",
    "        continue\n",
    "    if not continue__:\n",
    "        continue__ = True\n",
    "        continue\n",
    "#     print \"Still trying\"\n",
    "\n",
    "    try:\n",
    "        print key\n",
    "        data,foo = load_sim_h5(data_file)\n",
    "        sensor_data = data.sensor.data.as_matrix(columns=None)\n",
    "                \n",
    "        means_unart_s[conf['instructor_slope'] + '&' + conf['mode']] += [(np.logical_xor(sensor_data[:,2]>0.1, sensor_data[:,5]>0.1)).astype(np.float)[:n_samples]]\n",
    "        means_coart_s[conf['instructor_slope'] + '&' + conf['mode']] += [(np.logical_and(sensor_data[:,2]>0.1, sensor_data[:,5]>0.1)).astype(np.float)[:n_samples]]\n",
    "\n",
    "    except IOError:\n",
    "        print(\"Something went terribly wrong!\")\n",
    "        \n",
    "xfmt = matplotlib.ticker.ScalarFormatter(useMathText=True)\n",
    "xfmt.set_powerlimits((-3,3))\n",
    "\n",
    "matplotlib.rcParams['figure.figsize'] = (4.0, 3.7)\n",
    "matplotlib.rcParams.update({'font.size': 18})\n",
    "\n",
    "fig, axes = plt.subplots()\n",
    "for key, color in zip(groups_to_plot, colors_):\n",
    "    try:\n",
    "        print key\n",
    "        means_unart_av[key] = np.mean(np.array(means_unart_s[key]), axis=0)\n",
    "        means_coart_av[key] = np.mean(np.array(means_coart_s[key]), axis=0)\n",
    "        \n",
    "        data_plt_coart = incremental_mean(means_coart_av[key])\n",
    "        data_plt_unart = incremental_mean(means_unart_av[key])\n",
    "        data_plt_silence  = np.array([1-x for x in np.add(data_plt_coart,data_plt_unart)])\n",
    "        \n",
    "#         data_plt_unart = np.add(data_plt_coart,data_plt_unart)\n",
    "#         data_plt_silence = np.add(data_plt_silence,data_plt_unart)\n",
    "\n",
    "        data_plt_unart = np.add(data_plt_silence,data_plt_unart)\n",
    "        data_plt_coart = np.add(data_plt_coart,data_plt_unart)\n",
    "    \n",
    "        plt.plot(data_plt_coart, linestyle='-', marker='',lw = 1.5,color='maroon')\n",
    "        plt.plot(data_plt_unart, linestyle='-', marker='',lw = 1.5,color='darkgreen')\n",
    "        plt.plot(data_plt_silence, linestyle='-', marker='',lw = 1.5,color='navy')\n",
    "        \n",
    "    except:\n",
    "        print 'Wrong'\n",
    "        continue\n",
    "\n",
    "lgd = plt.legend(['Coart.', 'Unart', 'Silence'],\\\n",
    "           ncol=3,loc='lower right', fontsize=18, bbox_to_anchor=(1.2, -0.8),\n",
    "          fancybox=True, shadow=True)\n",
    "plt.gca().xaxis.set_major_formatter(xfmt)\n",
    "plt.xlabel('Experiment [$k$]')\n",
    "plt.ylabel('Ratio')\n",
    "axes.set_xlim([0,n_samples])\n",
    "axes.set_ylim([0,1.01])"
   ]
  },
  {
   "cell_type": "code",
   "execution_count": 116,
   "metadata": {},
   "outputs": [],
   "source": [
    "# fig.savefig('/home/yumilceh/Dropbox/Aplicaciones/ShareLaTeX/IEEE_TCDS_Special_Issue/images/legends.eps',\\\n",
    "#              format='eps', dpi=1000, bbox_extra_artists=(lgd,), bbox_inches='tight')"
   ]
  },
  {
   "cell_type": "code",
   "execution_count": 8,
   "metadata": {},
   "outputs": [
    {
     "data": {
      "text/plain": [
       "['proprio&autonomous', 'simple&autonomous']"
      ]
     },
     "execution_count": 8,
     "metadata": {},
     "output_type": "execute_result"
    }
   ],
   "source": [
    "means_av_e.keys()"
   ]
  }
 ],
 "metadata": {
  "kernelspec": {
   "display_name": "Python 2",
   "language": "python",
   "name": "python2"
  },
  "language_info": {
   "codemirror_mode": {
    "name": "ipython",
    "version": 2
   },
   "file_extension": ".py",
   "mimetype": "text/x-python",
   "name": "python",
   "nbconvert_exporter": "python",
   "pygments_lexer": "ipython2",
   "version": "2.7.14"
  }
 },
 "nbformat": 4,
 "nbformat_minor": 1
}
