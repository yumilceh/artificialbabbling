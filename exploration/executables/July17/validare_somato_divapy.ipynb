{
 "cells": [
  {
   "cell_type": "markdown",
   "metadata": {},
   "source": [
    "DIVA"
   ]
  },
  {
   "cell_type": "code",
   "execution_count": 2,
   "metadata": {
    "collapsed": true
   },
   "outputs": [],
   "source": [
    "%matplotlib inline\n",
    "import os\n",
    "import itertools\n",
    "import matplotlib\n",
    "import numpy as np\n",
    "import matplotlib.pyplot as plt\n",
    "import matplotlib"
   ]
  },
  {
   "cell_type": "code",
   "execution_count": 3,
   "metadata": {
    "collapsed": true
   },
   "outputs": [],
   "source": [
    "from SensorimotorExploration.DataManager.SimulationData import load_sim_h5_v2 as load_sim_h5\n",
    "from SensorimotorExploration.DataManager.PlotTools import *\n",
    "\n",
    "def incremental_mean(arr_):\n",
    "    n_samples = len(arr_)\n",
    "    sum_ = 0\n",
    "    out = []\n",
    "    for i in range(n_samples):\n",
    "        sum_ += arr_[i]\n",
    "        out += [sum_/(i + 1.)]\n",
    "    out = np.array(out).flatten()\n",
    "    return out\n",
    "\n",
    "def moving_av(arr_, win_sz):\n",
    "    n_samples = len(arr_)\n",
    "    sum_ = 0\n",
    "    out = []\n",
    "    for i in range(win_sz):\n",
    "        sum_ += arr_[i]\n",
    "        out += [sum_/(i + 1.)]\n",
    "    for i in range(win_sz,n_samples):\n",
    "        sum_ = sum_ + arr_[i] - arr_[i-win_sz]\n",
    "        out += [sum_/win_sz]\n",
    "    out = np.array(out).flatten()\n",
    "    return out"
   ]
  },
  {
   "cell_type": "code",
   "execution_count": 4,
   "metadata": {
    "collapsed": true
   },
   "outputs": [],
   "source": [
    "data_file = \"experiment_1/Vowels_Tree_0_2017_03_28_02_40_sim_data.h5\"\n",
    "\n",
    "#Simulation_data\n",
    "data, foo = load_sim_h5(data_file)"
   ]
  },
  {
   "cell_type": "code",
   "execution_count": 10,
   "metadata": {},
   "outputs": [
    {
     "name": "stdout",
     "output_type": "stream",
     "text": [
      "1 samples of 20000 processed.\n",
      "1001 samples of 20000 processed.\n",
      "2001 samples of 20000 processed.\n",
      "3001 samples of 20000 processed.\n",
      "4001 samples of 20000 processed.\n",
      "5001 samples of 20000 processed.\n",
      "6001 samples of 20000 processed.\n",
      "7001 samples of 20000 processed.\n",
      "8001 samples of 20000 processed.\n",
      "9001 samples of 20000 processed.\n",
      "10001 samples of 20000 processed.\n",
      "11001 samples of 20000 processed.\n",
      "12001 samples of 20000 processed.\n",
      "13001 samples of 20000 processed.\n",
      "14001 samples of 20000 processed.\n",
      "15001 samples of 20000 processed.\n",
      "16001 samples of 20000 processed.\n",
      "17001 samples of 20000 processed.\n",
      "18001 samples of 20000 processed.\n",
      "19001 samples of 20000 processed.\n"
     ]
    }
   ],
   "source": [
    "from SensorimotorExploration.Systems.Diva2016a import Diva2016a\n",
    "from SensorimotorExploration.Systems.Diva2017a import Diva2017a\n",
    "\n",
    "divaml = Diva2016a()\n",
    "divapy = Diva2017a()\n",
    "n_samples = 20000 #len(data.sensor.data.iloc[:])\n",
    "cons_ml = np.zeros((n_samples,))\n",
    "cons_py = np.zeros((n_samples,))\n",
    "for i in range(n_samples):\n",
    "    divaml.set_action(data.motor.data.iloc[i])\n",
    "    divaml.executeMotorCommand()\n",
    "    cons_ml[i] = divaml.somato_out\n",
    "    \n",
    "    divapy.set_action(data.motor.data.iloc[i])\n",
    "    divapy.execute_action()\n",
    "    cons_py[i] = divapy.cons_out\n",
    "    \n",
    "    if i%1000 == 0:\n",
    "        print('{} samples of {} processed.'.format(i+1,n_samples))"
   ]
  },
  {
   "cell_type": "code",
   "execution_count": 9,
   "metadata": {},
   "outputs": [
    {
     "name": "stdout",
     "output_type": "stream",
     "text": [
      "619.0\n",
      "619.0\n"
     ]
    }
   ],
   "source": [
    "# # fig1.savefig('/home/yumilceh/Dropbox/Aplicaciones/ShareLaTeX/Epirob 2017/images/vt_results.eps',\\\n",
    "# #              format='eps', dpi=1000,bbox_extra_artists=(lgd,), bbox_inches='tight')\n",
    "# fig1.savefig(directory + 'vt_results.eps',\\\n",
    "#              format='eps', dpi=1000,bbox_extra_artists=(lgd,), bbox_inches='tight')\n",
    "print(sum(cons_ml))\n",
    "print(sum(cons_py))"
   ]
  },
  {
   "cell_type": "code",
   "execution_count": 30,
   "metadata": {},
   "outputs": [
    {
     "data": {
      "text/plain": [
       "competence    0.167755\n",
       "dtype: float64"
      ]
     },
     "execution_count": 30,
     "metadata": {},
     "output_type": "execute_result"
    }
   ],
   "source": [
    "np.sum(data.competence.data)/20000"
   ]
  },
  {
   "cell_type": "code",
   "execution_count": 6,
   "metadata": {},
   "outputs": [
    {
     "data": {
      "text/plain": [
       "{'eval_step': '5000',\n",
       " 'expl_space': 'sensor',\n",
       " 'f_im_key': 'explauto_im',\n",
       " 'f_sm_key': 'igmm_sm',\n",
       " 'f_ss_key': 'igmm_ss',\n",
       " 'g_im_initialization_method': 'all',\n",
       " 'instructor': '[312, 142, 2, 294, 303, 188, 216, 27, 247, 76, 9, 254, 111, 201, 198]',\n",
       " 'learner': 'Diva2017a_py',\n",
       " 'mode': 'social',\n",
       " 'n_experiments': '40000',\n",
       " 'n_initialization_experiments': '1000',\n",
       " 'n_save_data': '8000.0',\n",
       " 'name': 'InteractionAlgorithm2017a',\n",
       " 'random_seed': '12243',\n",
       " 'sm_all_samples': 'False',\n",
       " 'type': 'proprio'}"
      ]
     },
     "execution_count": 6,
     "metadata": {},
     "output_type": "execute_result"
    }
   ],
   "source": [
    "conf"
   ]
  },
  {
   "cell_type": "code",
   "execution_count": 16,
   "metadata": {},
   "outputs": [
    {
     "data": {
      "text/plain": [
       "134.0"
      ]
     },
     "execution_count": 16,
     "metadata": {},
     "output_type": "execute_result"
    }
   ],
   "source": [
    "sum(interactions)"
   ]
  },
  {
   "cell_type": "code",
   "execution_count": 17,
   "metadata": {},
   "outputs": [
    {
     "data": {
      "text/plain": [
       "array([ 18127.])"
      ]
     },
     "execution_count": 17,
     "metadata": {},
     "output_type": "execute_result"
    }
   ],
   "source": [
    "sum(data.cons.data.as_matrix())"
   ]
  },
  {
   "cell_type": "code",
   "execution_count": null,
   "metadata": {
    "collapsed": true
   },
   "outputs": [],
   "source": [
    ""
   ]
  }
 ],
 "metadata": {
  "kernelspec": {
   "display_name": "Python 2",
   "language": "python",
   "name": "python2"
  },
  "language_info": {
   "codemirror_mode": {
    "name": "ipython",
    "version": 2.0
   },
   "file_extension": ".py",
   "mimetype": "text/x-python",
   "name": "python",
   "nbconvert_exporter": "python",
   "pygments_lexer": "ipython2",
   "version": "2.7.12"
  }
 },
 "nbformat": 4,
 "nbformat_minor": 0
}