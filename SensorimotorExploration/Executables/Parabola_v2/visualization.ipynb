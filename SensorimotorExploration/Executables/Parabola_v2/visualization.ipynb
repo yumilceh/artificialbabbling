{
 "cells": [
  {
   "cell_type": "code",
   "execution_count": 1,
   "metadata": {
    "collapsed": true,
    "deletable": true,
    "editable": true
   },
   "outputs": [],
   "source": [
    "%matplotlib inline\n",
    "import matplotlib.pyplot as plt\n",
    "import matplotlib\n",
    "\n",
    "from ipywidgets import HBox, VBox\n",
    "import ipywidgets as widgets\n",
    "from IPython import display\n",
    "import numpy as np\n",
    "\n",
    "import warnings\n",
    "warnings.filterwarnings('ignore')"
   ]
  },
  {
   "cell_type": "code",
   "execution_count": 2,
   "metadata": {
    "collapsed": true,
    "deletable": true,
    "editable": true
   },
   "outputs": [],
   "source": [
    "from SensorimotorExploration.Systems.Parabola_v2 import ParabolicRegion as System\n",
    "from SensorimotorExploration.Systems.Parabola_v2 import Instructor"
   ]
  },
  {
   "cell_type": "code",
   "execution_count": 6,
   "metadata": {
    "collapsed": false
   },
   "outputs": [],
   "source": [
    "f = 1.0\n",
    "system = System()\n",
    "system.set_f(f)\n",
    "instructor = Instructor()\n",
    "instructor.set_f(f)\n",
    "\n",
    "title_font = {'fontname':'Arial', 'size':'16', 'color':'black', 'weight':'normal',\n",
    "              'verticalalignment':'bottom'} # Bottom vertical alignment for more space\n",
    "axis_font = {'size':'30'}\n",
    "\n",
    "m_wdg = []\n",
    "for i in range(2):\n",
    "    m_wdg += [widgets.FloatSlider(value=0, min=0., max=6.,\n",
    "                                 step=0.1,\n",
    "                                 disabled=False,\n",
    "                                 continuous_update=False,\n",
    "                                 description = '$$m_'+str(i)+'$$',\n",
    "                                 orientation='vertical',\n",
    "                                 readout=True,\n",
    "                                 readout_format='f',\n",
    "                                 slider_color='white'\n",
    "                                 )]\n",
    "    \n",
    "    \n",
    "sensor1_lbl = widgets.Label( value=\"$$sensor_1$$\",disabled=False)\n",
    "sensor2_lbl = widgets.Label( value=\"$$sensor_2$$\",disabled=False)\n",
    "somato1_lbl = widgets.Label( value=\"$$somato_1$$\",disabled=False)\n",
    "somato2_lbl = widgets.Label( value=\"$$somato_2$$\",disabled=False)\n",
    "somato3_lbl = widgets.Label( value=\"$$somato_3$$\",disabled=False)\n",
    "somato4_lbl = widgets.Label( value=\"$$somato_4$$\",disabled=False)\n",
    "sensor1_txt = widgets.Text(value='Welcome',description='',disabled=True)\n",
    "sensor2_txt = widgets.Text(value='Welcome',description='',disabled=True)\n",
    "somato1_txt = widgets.Text(value='Welcome',description='',disabled=True)\n",
    "somato2_txt = widgets.Text(value='Welcome',description='',disabled=True)\n",
    "somato3_txt = widgets.Text(value='Welcome',description='',disabled=True)\n",
    "somato4_txt = widgets.Text(value='Welcome',description='',disabled=True)"
   ]
  },
  {
   "cell_type": "code",
   "execution_count": 7,
   "metadata": {
    "collapsed": true
   },
   "outputs": [],
   "source": [
    "def plot_sys(f):\n",
    "    system.set_f(f)\n",
    "    instructor.set_f(f)\n",
    "\n",
    "    matplotlib.rcParams['figure.figsize'] = (6.0, 9.0)\n",
    "    matplotlib.rcParams.update({'font.size': 18})\n",
    "\n",
    "    fig, ax = plt.subplots(1,1) \n",
    "    instructor.plot(axes=ax)\n",
    "    plt.hold(True)\n",
    "    system.drawSystem(axes=ax)\n",
    "    ax.set_xlim([0,6])\n",
    "    ax.set_ylim([system.min_sensor_values[1],system.max_sensor_values[1]])\n",
    "    plt.xlabel('$s_1$',**axis_font)\n",
    "    plt.ylabel('$s_2$',**axis_font)\n",
    "    plt.legend(['Sensor units','Constraints'],loc='upper center',fontsize=15)   \n",
    "    return fig, ax\n",
    "\n",
    "def plot_result(foo):\n",
    "    display.clear_output(wait=True)\n",
    "    fig, ax = plot_sys(f)\n",
    "    m = np.array([x.get_interact_value() for x in m_wdg])\n",
    "    system.set_action(m)\n",
    "    system.execute_action()\n",
    "    plt.plot(system.sensor_out[0],system.sensor_out[1],'or')\n",
    "    sensor1_txt.value = str(system.sensor_out[0])\n",
    "    sensor2_txt.value = str(system.sensor_out[1])\n",
    "    somato1_txt.value = str(system.somato_out[0])\n",
    "    somato2_txt.value = str(system.somato_out[1])\n",
    "    somato3_txt.value = str(system.somato_out[2])\n",
    "    somato4_txt.value = str(system.somato_out[3])\n",
    "#     print(system.sensor_out)\n",
    "#     print(system.somato_out)"
   ]
  },
  {
   "cell_type": "code",
   "execution_count": 8,
   "metadata": {
    "collapsed": false,
    "deletable": true,
    "editable": true
   },
   "outputs": [
    {
     "data": {
      "application/vnd.jupyter.widget-view+json": {
       "model_id": "54866eae5e3d4b41892935225b58174f"
      }
     },
     "metadata": {},
     "output_type": "display_data"
    }
   ],
   "source": [
    "for x in m_wdg: \n",
    "    x.observe(plot_result,names='value')\n",
    "display.display(HBox([HBox(m_wdg), \n",
    "                      VBox([HBox([sensor1_lbl,sensor1_txt]),\n",
    "                            HBox([sensor2_lbl,sensor2_txt]),\n",
    "                            HBox([somato1_lbl,somato1_txt]),\n",
    "                            HBox([somato2_lbl,somato2_txt]),\n",
    "                            HBox([somato3_lbl,somato3_txt]),\n",
    "                            HBox([somato4_lbl,somato4_txt]),\n",
    "                           ])]))\n",
    "\n",
    "#Check m=[0,6]"
   ]
  },
  {
   "cell_type": "markdown",
   "metadata": {
    "deletable": true,
    "editable": true
   },
   "source": []
  },
  {
   "cell_type": "code",
   "execution_count": 8,
   "metadata": {
    "collapsed": false,
    "deletable": true,
    "editable": true
   },
   "outputs": [],
   "source": [
    "# fig.savefig('/home/yumilceh/Dropbox/Aplicaciones/ShareLaTeX/Epirob 2017/images/system_parabola.eps',format='eps', dpi=1000)"
   ]
  }
 ],
 "metadata": {
  "kernelspec": {
   "display_name": "Python 2",
   "language": "python",
   "name": "python2"
  },
  "language_info": {
   "codemirror_mode": {
    "name": "ipython",
    "version": 2
   },
   "file_extension": ".py",
   "mimetype": "text/x-python",
   "name": "python",
   "nbconvert_exporter": "python",
   "pygments_lexer": "ipython2",
   "version": "2.7.12"
  },
  "widgets": {
   "application/vnd.jupyter.widget-state+json": {
    "state": {
     "004e4b996aff49f999ce5a54057e0baa": {
      "model_module": "jupyter-js-widgets",
      "model_module_version": "~2.1.4",
      "model_name": "FloatSliderModel",
      "state": {
       "_model_module_version": "~2.1.4",
       "_view_module_version": "~2.1.4",
       "continuous_update": false,
       "description": "M0",
       "layout": "IPY_MODEL_a27a0f5927ab405d866150e578566169",
       "max": 6,
       "orientation": "vertical",
       "readout_format": "f",
       "slider_color": "white",
       "step": 0.1,
       "value": 2
      }
     },
     "00deebf2c8d14b77b82def50a1150df8": {
      "model_module": "jupyter-js-widgets",
      "model_module_version": "~2.1.4",
      "model_name": "LayoutModel",
      "state": {
       "_model_module_version": "~2.1.4",
       "_view_module_version": "~2.1.4"
      }
     },
     "014ec482f2d84d999d03d06ecf70f0d1": {
      "model_module": "jupyter-js-widgets",
      "model_module_version": "~2.1.4",
      "model_name": "LayoutModel",
      "state": {
       "_model_module_version": "~2.1.4",
       "_view_module_version": "~2.1.4"
      }
     },
     "01b0e96efc6847b8a224e8af788979ca": {
      "model_module": "jupyter-js-widgets",
      "model_module_version": "~2.1.4",
      "model_name": "VBoxModel",
      "state": {
       "_model_module_version": "~2.1.4",
       "_view_module_version": "~2.1.4",
       "children": [
        "IPY_MODEL_744bf690682e4b1897c8fb3eb1e2fe83"
       ],
       "layout": "IPY_MODEL_7405e928292842788c01ced0bc2112aa"
      }
     },
     "0232f6e3d91c4333943646f1d3fa88d6": {
      "model_module": "jupyter-js-widgets",
      "model_module_version": "~2.1.4",
      "model_name": "VBoxModel",
      "state": {
       "_model_module_version": "~2.1.4",
       "_view_module_version": "~2.1.4",
       "children": [
        "IPY_MODEL_1c2ca8177f194c25aee75e6f1597531c",
        "IPY_MODEL_5ec6bc0d3d3048118449a46bd3e20935"
       ],
       "layout": "IPY_MODEL_2004baa0caac486d8dd7ade01a4facb6"
      }
     },
     "026863b1822a4074b384d0fe8439469d": {
      "model_module": "jupyter-js-widgets",
      "model_module_version": "~2.1.4",
      "model_name": "HBoxModel",
      "state": {
       "_model_module_version": "~2.1.4",
       "_view_module_version": "~2.1.4",
       "children": [
        "IPY_MODEL_c2702d2015c344a3832f512e2479614c",
        "IPY_MODEL_845de3c04cff49118ab6de9d3ae838fa"
       ],
       "layout": "IPY_MODEL_532bbd5ed9fc4ec1a429c64c1ec26271"
      }
     },
     "03a2303d905245a2afe20098015e1330": {
      "model_module": "jupyter-js-widgets",
      "model_module_version": "~2.1.4",
      "model_name": "HBoxModel",
      "state": {
       "_model_module_version": "~2.1.4",
       "_view_module_version": "~2.1.4",
       "children": [
        "IPY_MODEL_4f3563d261c244c0bae41061ef36b0e4",
        "IPY_MODEL_c5e08cdebf6144158e6916b2a6860e2a"
       ],
       "layout": "IPY_MODEL_75dd14843d534715bf9934c1b64cd458"
      }
     },
     "0440a8f025a647d09e834fd6922a3f58": {
      "model_module": "jupyter-js-widgets",
      "model_module_version": "~2.1.4",
      "model_name": "VBoxModel",
      "state": {
       "_model_module_version": "~2.1.4",
       "_view_module_version": "~2.1.4",
       "children": [
        "IPY_MODEL_4c3c3bf0ab1141769524679349612dec"
       ],
       "layout": "IPY_MODEL_2fe4e8275d494f838b2fb5f929f2221c"
      }
     },
     "045cf7850a6b4843a7cd905d0bf0b9ae": {
      "model_module": "jupyter-js-widgets",
      "model_module_version": "~2.1.4",
      "model_name": "LayoutModel",
      "state": {
       "_model_module_version": "~2.1.4",
       "_view_module_version": "~2.1.4"
      }
     },
     "04fa2e23b33546a281f5ccaba69c11ae": {
      "model_module": "jupyter-js-widgets",
      "model_module_version": "~2.1.4",
      "model_name": "HBoxModel",
      "state": {
       "_model_module_version": "~2.1.4",
       "_view_module_version": "~2.1.4",
       "children": [
        "IPY_MODEL_7fbe2da8a4464575b2b7a791d83bf5de",
        "IPY_MODEL_0232f6e3d91c4333943646f1d3fa88d6"
       ],
       "layout": "IPY_MODEL_34c507bae8a141a5886eb8873975f677"
      }
     },
     "06fd8f95cdea4415aef509fc437fb8e6": {
      "model_module": "jupyter-js-widgets",
      "model_module_version": "~2.1.4",
      "model_name": "VBoxModel",
      "state": {
       "_model_module_version": "~2.1.4",
       "_view_module_version": "~2.1.4",
       "children": [
        "IPY_MODEL_e8d6343aa8a642938b583cd37bcacb54",
        "IPY_MODEL_f883a6fde2ea4a6495fbd5bc791eb0c8"
       ],
       "layout": "IPY_MODEL_f99a82b2088f42fabe3693979b6a4fe3"
      }
     },
     "072c82f656904734a617910410afd72c": {
      "model_module": "jupyter-js-widgets",
      "model_module_version": "~2.1.4",
      "model_name": "LabelModel",
      "state": {
       "_model_module_version": "~2.1.4",
       "_view_module_version": "~2.1.4",
       "layout": "IPY_MODEL_4e091bfa45f141b791e5d4ce26cae8cc",
       "value": "$$sensor_2$$"
      }
     },
     "073882fc30ad425887786392e61e1e37": {
      "model_module": "jupyter-js-widgets",
      "model_module_version": "~2.1.4",
      "model_name": "LayoutModel",
      "state": {
       "_model_module_version": "~2.1.4",
       "_view_module_version": "~2.1.4"
      }
     },
     "088146a38d1d4bc6b17bb838665fc31c": {
      "model_module": "jupyter-js-widgets",
      "model_module_version": "~2.1.4",
      "model_name": "LayoutModel",
      "state": {
       "_model_module_version": "~2.1.4",
       "_view_module_version": "~2.1.4"
      }
     },
     "0932bb18413247a4a006d3bf6b8c0c91": {
      "model_module": "jupyter-js-widgets",
      "model_module_version": "~2.1.4",
      "model_name": "LayoutModel",
      "state": {
       "_model_module_version": "~2.1.4",
       "_view_module_version": "~2.1.4"
      }
     },
     "093b1e1b104d4a0fb138daa34b1094de": {
      "model_module": "jupyter-js-widgets",
      "model_module_version": "~2.1.4",
      "model_name": "LayoutModel",
      "state": {
       "_model_module_version": "~2.1.4",
       "_view_module_version": "~2.1.4"
      }
     },
     "0a0a9c25b7c14354b08005c2feb0502c": {
      "model_module": "jupyter-js-widgets",
      "model_module_version": "~2.1.4",
      "model_name": "HBoxModel",
      "state": {
       "_model_module_version": "~2.1.4",
       "_view_module_version": "~2.1.4",
       "children": [
        "IPY_MODEL_0a30a3f18afc4be49b2f145da058b457",
        "IPY_MODEL_dfe2106e24504f89bca419f0b32422a4"
       ],
       "layout": "IPY_MODEL_8fb24d6fc48040e182eb55bd5f681e41"
      }
     },
     "0a30a3f18afc4be49b2f145da058b457": {
      "model_module": "jupyter-js-widgets",
      "model_module_version": "~2.1.4",
      "model_name": "LabelModel",
      "state": {
       "_model_module_version": "~2.1.4",
       "_view_module_version": "~2.1.4",
       "layout": "IPY_MODEL_1cc88f91411740b5893ab00050ef8486",
       "value": "$$sensor_1$$"
      }
     },
     "0b9f5cad154449b3aa1ac5da51a9221a": {
      "model_module": "jupyter-js-widgets",
      "model_module_version": "~2.1.4",
      "model_name": "TextModel",
      "state": {
       "_model_module_version": "~2.1.4",
       "_view_module_version": "~2.1.4",
       "disabled": true,
       "layout": "IPY_MODEL_59e80c97e712433a9a021b893e2ea323",
       "value": "2.47083789722"
      }
     },
     "0ba70f72692c401d9cccba73a877f9c9": {
      "model_module": "jupyter-js-widgets",
      "model_module_version": "~2.1.4",
      "model_name": "VBoxModel",
      "state": {
       "_model_module_version": "~2.1.4",
       "_view_module_version": "~2.1.4",
       "children": [
        "IPY_MODEL_8f3c81bd953b4555a74f88e4d79538df",
        "IPY_MODEL_4fc1253d8b9a4f1c99142e242f554cff",
        "IPY_MODEL_57c436d11bb7461fa78f1b22843938e6",
        "IPY_MODEL_3669243ed1b341f0ad43f75664701c3b",
        "IPY_MODEL_8936bf7dc8354584b2b28a71da4b7b51",
        "IPY_MODEL_925b0d942eb44324bcc80ebcbc0b4380"
       ],
       "layout": "IPY_MODEL_00deebf2c8d14b77b82def50a1150df8"
      }
     },
     "0bc2d6fc34bc4f7092bfb3d62bd2c292": {
      "model_module": "jupyter-js-widgets",
      "model_module_version": "~2.1.4",
      "model_name": "LabelModel",
      "state": {
       "_model_module_version": "~2.1.4",
       "_view_module_version": "~2.1.4",
       "layout": "IPY_MODEL_4f495709ada048fe848e203130eeaef7",
       "value": "$$sensor_1$$"
      }
     },
     "0ce1c9dd50c14469b51d9ae05f434fcf": {
      "model_module": "jupyter-js-widgets",
      "model_module_version": "~2.1.4",
      "model_name": "LayoutModel",
      "state": {
       "_model_module_version": "~2.1.4",
       "_view_module_version": "~2.1.4"
      }
     },
     "0d53f0a8430b4616bf3f1aebc34193af": {
      "model_module": "jupyter-js-widgets",
      "model_module_version": "~2.1.4",
      "model_name": "LayoutModel",
      "state": {
       "_model_module_version": "~2.1.4",
       "_view_module_version": "~2.1.4"
      }
     },
     "0d955735055848c79e8f85bab2696389": {
      "model_module": "jupyter-js-widgets",
      "model_module_version": "~2.1.4",
      "model_name": "HBoxModel",
      "state": {
       "_model_module_version": "~2.1.4",
       "_view_module_version": "~2.1.4",
       "children": [
        "IPY_MODEL_74188a0e639a41b7ac86c2b3afe5459f",
        "IPY_MODEL_c3314ea612bd45e984b101078a775870"
       ],
       "layout": "IPY_MODEL_7072feb234f74eef90d3fd64d7098cac"
      }
     },
     "0dbb4f0ec04646b9b9b224bff049af5e": {
      "model_module": "jupyter-js-widgets",
      "model_module_version": "~2.1.4",
      "model_name": "LayoutModel",
      "state": {
       "_model_module_version": "~2.1.4",
       "_view_module_version": "~2.1.4"
      }
     },
     "0fe28a96eecc43e2b1c63488ed1163af": {
      "model_module": "jupyter-js-widgets",
      "model_module_version": "~2.1.4",
      "model_name": "LayoutModel",
      "state": {
       "_model_module_version": "~2.1.4",
       "_view_module_version": "~2.1.4"
      }
     },
     "1063520805994bc991b49aecb03c246a": {
      "model_module": "jupyter-js-widgets",
      "model_module_version": "~2.1.4",
      "model_name": "LabelModel",
      "state": {
       "_model_module_version": "~2.1.4",
       "_view_module_version": "~2.1.4",
       "layout": "IPY_MODEL_8a1d79033eb44da69f29e08f1345ce8d",
       "value": "$$somato_4$$"
      }
     },
     "1089a28e5b4f4681bb93ae23cabb0398": {
      "model_module": "jupyter-js-widgets",
      "model_module_version": "~2.1.4",
      "model_name": "LabelModel",
      "state": {
       "_model_module_version": "~2.1.4",
       "_view_module_version": "~2.1.4",
       "layout": "IPY_MODEL_d80abd48ecb240cf96e7f2cc8010277b",
       "value": "$$somato_4$$"
      }
     },
     "11aa0173619d46508ea798afe7acc1dd": {
      "model_module": "jupyter-js-widgets",
      "model_module_version": "~2.1.4",
      "model_name": "FloatSliderModel",
      "state": {
       "_model_module_version": "~2.1.4",
       "_view_module_version": "~2.1.4",
       "continuous_update": false,
       "description": "M1",
       "layout": "IPY_MODEL_cf912cd176bc4f65a2c8fc48c86b3e69",
       "max": 6,
       "orientation": "vertical",
       "readout_format": "f",
       "slider_color": "white",
       "step": 0.1,
       "value": 2.6
      }
     },
     "11f410910c7b4d11825205b8e11c61ce": {
      "model_module": "jupyter-js-widgets",
      "model_module_version": "~2.1.4",
      "model_name": "TextModel",
      "state": {
       "_model_module_version": "~2.1.4",
       "_view_module_version": "~2.1.4",
       "disabled": true,
       "layout": "IPY_MODEL_65bf44ebec2546f9ba0bcf3fe09fffd0",
       "value": "1.33226762955e-15"
      }
     },
     "122fa509255d410495a2377c44f9e461": {
      "model_module": "jupyter-js-widgets",
      "model_module_version": "~2.1.4",
      "model_name": "LayoutModel",
      "state": {
       "_model_module_version": "~2.1.4",
       "_view_module_version": "~2.1.4"
      }
     },
     "1272d1631bb04cfebfb8cf8512e55817": {
      "model_module": "jupyter-js-widgets",
      "model_module_version": "~2.1.4",
      "model_name": "HBoxModel",
      "state": {
       "_model_module_version": "~2.1.4",
       "_view_module_version": "~2.1.4",
       "children": [
        "IPY_MODEL_8a41711480ce41d59f3bcc77821c61cd",
        "IPY_MODEL_15984f6cff63495998d8714d63f2d9f0"
       ],
       "layout": "IPY_MODEL_f1457b66be784188bba35ebbffc8dc2a"
      }
     },
     "12db0b2c4a284d1da00c56d836082583": {
      "model_module": "jupyter-js-widgets",
      "model_module_version": "~2.1.4",
      "model_name": "FloatSliderModel",
      "state": {
       "_model_module_version": "~2.1.4",
       "_view_module_version": "~2.1.4",
       "continuous_update": false,
       "description": "M1",
       "layout": "IPY_MODEL_4f388f2ccb16467a82ff1d16449f8836",
       "max": 6,
       "orientation": "vertical",
       "readout_format": "f",
       "slider_color": "white",
       "step": 0.1,
       "value": 1.2
      }
     },
     "137f4a6a6c8244eabe034aafe9e09b08": {
      "model_module": "jupyter-js-widgets",
      "model_module_version": "~2.1.4",
      "model_name": "HBoxModel",
      "state": {
       "_model_module_version": "~2.1.4",
       "_view_module_version": "~2.1.4",
       "children": [
        "IPY_MODEL_c74d645fac214255be0e3dc07a7f133b",
        "IPY_MODEL_4478272758b2457fbfadb12caff7e845"
       ],
       "layout": "IPY_MODEL_c71ce560ec1841d78fc334ae97867768"
      }
     },
     "13a31859b4b6444cb435c1f310c2b8e5": {
      "model_module": "jupyter-js-widgets",
      "model_module_version": "~2.1.4",
      "model_name": "LayoutModel",
      "state": {
       "_model_module_version": "~2.1.4",
       "_view_module_version": "~2.1.4"
      }
     },
     "13afe5e5ce8f4fb48dced2b98ed6331f": {
      "model_module": "jupyter-js-widgets",
      "model_module_version": "~2.1.4",
      "model_name": "LayoutModel",
      "state": {
       "_model_module_version": "~2.1.4",
       "_view_module_version": "~2.1.4"
      }
     },
     "13f6962706cd4fe5afe7c32838d4fe81": {
      "model_module": "jupyter-js-widgets",
      "model_module_version": "~2.1.4",
      "model_name": "VBoxModel",
      "state": {
       "_model_module_version": "~2.1.4",
       "_view_module_version": "~2.1.4",
       "children": [
        "IPY_MODEL_1272d1631bb04cfebfb8cf8512e55817",
        "IPY_MODEL_ab270876655f4c328a40611f9b23f4ff",
        "IPY_MODEL_f089d89bcdeb4e6cba5d911291b38715",
        "IPY_MODEL_497cc902aa484aaea774dde7c857a541",
        "IPY_MODEL_3077973995b64d9c93d224e60b72d3c1",
        "IPY_MODEL_d896c538a90c4b10b4a10b41f703fa98"
       ],
       "layout": "IPY_MODEL_b904051dcd56462ab0db42d8411de77f"
      }
     },
     "13ff045646b94a12822cb36d7e626633": {
      "model_module": "jupyter-js-widgets",
      "model_module_version": "~2.1.4",
      "model_name": "LabelModel",
      "state": {
       "_model_module_version": "~2.1.4",
       "_view_module_version": "~2.1.4",
       "layout": "IPY_MODEL_92cc7aee4b85423ab70b464098f805f7",
       "value": "$$sensor_1$$"
      }
     },
     "140e1e9456694ad980c7526829ff482a": {
      "model_module": "jupyter-js-widgets",
      "model_module_version": "~2.1.4",
      "model_name": "TextModel",
      "state": {
       "_model_module_version": "~2.1.4",
       "_view_module_version": "~2.1.4",
       "disabled": true,
       "layout": "IPY_MODEL_d2ce4aca5c8d4570965fa771e03a81b5",
       "value": "2.67433316868"
      }
     },
     "151c8e5fbc2244d4a76c1bf5e7f4b42d": {
      "model_module": "jupyter-js-widgets",
      "model_module_version": "~2.1.4",
      "model_name": "LayoutModel",
      "state": {
       "_model_module_version": "~2.1.4",
       "_view_module_version": "~2.1.4"
      }
     },
     "15352bc9fc5f42c08b661858f8fca277": {
      "model_module": "jupyter-js-widgets",
      "model_module_version": "~2.1.4",
      "model_name": "LayoutModel",
      "state": {
       "_model_module_version": "~2.1.4",
       "_view_module_version": "~2.1.4"
      }
     },
     "158fef03806c494ba592467962625187": {
      "model_module": "jupyter-js-widgets",
      "model_module_version": "~2.1.4",
      "model_name": "HBoxModel",
      "state": {
       "_model_module_version": "~2.1.4",
       "_view_module_version": "~2.1.4",
       "children": [
        "IPY_MODEL_aeb5326e53904930b1e3f88f9d69f6b8",
        "IPY_MODEL_c3314ea612bd45e984b101078a775870"
       ],
       "layout": "IPY_MODEL_439be0f56afc4f71932242e4f6df68aa"
      }
     },
     "15984f6cff63495998d8714d63f2d9f0": {
      "model_module": "jupyter-js-widgets",
      "model_module_version": "~2.1.4",
      "model_name": "TextModel",
      "state": {
       "_model_module_version": "~2.1.4",
       "_view_module_version": "~2.1.4",
       "disabled": true,
       "layout": "IPY_MODEL_185fa6fe36c64338b9bfcbad98a3ff32",
       "value": "2.37941643091"
      }
     },
     "15f294de67144868ab20c7b4f3e45bca": {
      "model_module": "jupyter-js-widgets",
      "model_module_version": "~2.1.4",
      "model_name": "TextModel",
      "state": {
       "_model_module_version": "~2.1.4",
       "_view_module_version": "~2.1.4",
       "disabled": true,
       "layout": "IPY_MODEL_23e2b20013fe4989975cb4a4826e0179",
       "value": "Welcome"
      }
     },
     "16fb3279e4d54ddda7cf387d9eb69113": {
      "model_module": "jupyter-js-widgets",
      "model_module_version": "~2.1.4",
      "model_name": "HBoxModel",
      "state": {
       "_model_module_version": "~2.1.4",
       "_view_module_version": "~2.1.4",
       "children": [
        "IPY_MODEL_7018aacfb2e84aa49f14ef1f2d116649",
        "IPY_MODEL_c3314ea612bd45e984b101078a775870"
       ],
       "layout": "IPY_MODEL_45e2fdaf4aa740f88871827380ec24a6"
      }
     },
     "1713a5e2bb3d48a3af82e102fc2c41aa": {
      "model_module": "jupyter-js-widgets",
      "model_module_version": "~2.1.4",
      "model_name": "HBoxModel",
      "state": {
       "_model_module_version": "~2.1.4",
       "_view_module_version": "~2.1.4",
       "children": [
        "IPY_MODEL_3e030564d70c4b6e90da59f90053110d",
        "IPY_MODEL_a854868dea5b4d1998444d71fdc39f3d"
       ],
       "layout": "IPY_MODEL_dd87bd6576a94e3bb956673f48035f27"
      }
     },
     "17676f3acab74cd995060b33a960c430": {
      "model_module": "jupyter-js-widgets",
      "model_module_version": "~2.1.4",
      "model_name": "HBoxModel",
      "state": {
       "_model_module_version": "~2.1.4",
       "_view_module_version": "~2.1.4",
       "children": [
        "IPY_MODEL_4ea4e822e3f24b179bfc092710bcdaea",
        "IPY_MODEL_f1d9ae75c4184d88be1c9639f6fe5a01"
       ],
       "layout": "IPY_MODEL_644785a4d05948b3bdb4c171bcaaadb9"
      }
     },
     "185fa6fe36c64338b9bfcbad98a3ff32": {
      "model_module": "jupyter-js-widgets",
      "model_module_version": "~2.1.4",
      "model_name": "LayoutModel",
      "state": {
       "_model_module_version": "~2.1.4",
       "_view_module_version": "~2.1.4"
      }
     },
     "18849a80e59d4e7d82930587701e5b68": {
      "model_module": "jupyter-js-widgets",
      "model_module_version": "~2.1.4",
      "model_name": "FloatSliderModel",
      "state": {
       "_model_module_version": "~2.1.4",
       "_view_module_version": "~2.1.4",
       "continuous_update": false,
       "description": "M0",
       "layout": "IPY_MODEL_5341c4c49d83475b815071b9431ec215",
       "max": 6,
       "orientation": "vertical",
       "readout_format": "f",
       "slider_color": "white",
       "step": 0.1
      }
     },
     "19751c33ece341e49aa821244e16197f": {
      "model_module": "jupyter-js-widgets",
      "model_module_version": "~2.1.4",
      "model_name": "HBoxModel",
      "state": {
       "_model_module_version": "~2.1.4",
       "_view_module_version": "~2.1.4",
       "children": [
        "IPY_MODEL_557243f6b3784ce38a0965f4f6962f6c",
        "IPY_MODEL_47d89ae357494dcd95180a8dec6aa6c6"
       ],
       "layout": "IPY_MODEL_96695cad43464a1c8e09e3d5bbe85438"
      }
     },
     "199af30d67474f0e9f58fb8af914701a": {
      "model_module": "jupyter-js-widgets",
      "model_module_version": "~2.1.4",
      "model_name": "HBoxModel",
      "state": {
       "_model_module_version": "~2.1.4",
       "_view_module_version": "~2.1.4",
       "children": [
        "IPY_MODEL_f46edf4cfbac466d9698ca456ef56887",
        "IPY_MODEL_c3314ea612bd45e984b101078a775870"
       ],
       "layout": "IPY_MODEL_3ad23630323a4e39944ba5d7b0bfaacb"
      }
     },
     "19a1f0d71192427b8e506ab5cbc3703e": {
      "model_module": "jupyter-js-widgets",
      "model_module_version": "~2.1.4",
      "model_name": "HBoxModel",
      "state": {
       "_model_module_version": "~2.1.4",
       "_view_module_version": "~2.1.4",
       "children": [
        "IPY_MODEL_a6d8258e4bc447c3b88a1e3fc0384b3d",
        "IPY_MODEL_825f7d732fa14bc9b61a1ef079082305"
       ],
       "layout": "IPY_MODEL_fbd59e55067749ffaa4d4d44982f4bcd"
      }
     },
     "1bfc5450fff24113aa4e70ccea25ba11": {
      "model_module": "jupyter-js-widgets",
      "model_module_version": "~2.1.4",
      "model_name": "LayoutModel",
      "state": {
       "_model_module_version": "~2.1.4",
       "_view_module_version": "~2.1.4"
      }
     },
     "1c2ca8177f194c25aee75e6f1597531c": {
      "model_module": "jupyter-js-widgets",
      "model_module_version": "~2.1.4",
      "model_name": "HBoxModel",
      "state": {
       "_model_module_version": "~2.1.4",
       "_view_module_version": "~2.1.4",
       "children": [
        "IPY_MODEL_0a30a3f18afc4be49b2f145da058b457",
        "IPY_MODEL_dfe2106e24504f89bca419f0b32422a4"
       ],
       "layout": "IPY_MODEL_9d0c88ef71394408a01189a0e290ea2b"
      }
     },
     "1c9449e8476b4f2d9e994697d20a2734": {
      "model_module": "jupyter-js-widgets",
      "model_module_version": "~2.1.4",
      "model_name": "FloatSliderModel",
      "state": {
       "_model_module_version": "~2.1.4",
       "_view_module_version": "~2.1.4",
       "continuous_update": false,
       "description": "M0",
       "layout": "IPY_MODEL_4262ef78d03248bfa2a72060cddb527f",
       "max": 6,
       "orientation": "vertical",
       "readout_format": "f",
       "slider_color": "white",
       "step": 0.1,
       "value": 3.3
      }
     },
     "1cc88f91411740b5893ab00050ef8486": {
      "model_module": "jupyter-js-widgets",
      "model_module_version": "~2.1.4",
      "model_name": "LayoutModel",
      "state": {
       "_model_module_version": "~2.1.4",
       "_view_module_version": "~2.1.4"
      }
     },
     "1cde7eef41f148d898e7ea083d5a17a7": {
      "model_module": "jupyter-js-widgets",
      "model_module_version": "~2.1.4",
      "model_name": "LayoutModel",
      "state": {
       "_model_module_version": "~2.1.4",
       "_view_module_version": "~2.1.4"
      }
     },
     "1dae36007784477a9e593434688309af": {
      "model_module": "jupyter-js-widgets",
      "model_module_version": "~2.1.4",
      "model_name": "LayoutModel",
      "state": {
       "_model_module_version": "~2.1.4",
       "_view_module_version": "~2.1.4"
      }
     },
     "1daed8f8e6a64cd09c93870afe684061": {
      "model_module": "jupyter-js-widgets",
      "model_module_version": "~2.1.4",
      "model_name": "LabelModel",
      "state": {
       "_model_module_version": "~2.1.4",
       "_view_module_version": "~2.1.4",
       "layout": "IPY_MODEL_4805899505a444268f623c25e8bcac29",
       "value": "$$somato_4$$"
      }
     },
     "1e1a8fb595724c87ba47354806827aeb": {
      "model_module": "jupyter-js-widgets",
      "model_module_version": "~2.1.4",
      "model_name": "LayoutModel",
      "state": {
       "_model_module_version": "~2.1.4",
       "_view_module_version": "~2.1.4"
      }
     },
     "1e1ec03a46dd4388bc13c2aad7115c1c": {
      "model_module": "jupyter-js-widgets",
      "model_module_version": "~2.1.4",
      "model_name": "LabelModel",
      "state": {
       "_model_module_version": "~2.1.4",
       "_view_module_version": "~2.1.4",
       "layout": "IPY_MODEL_5924d9d5ef8a41db9437db4a51c20c1a",
       "value": "$$somato_2$$"
      }
     },
     "1e220d15f6b540c6a858264cbac513fa": {
      "model_module": "jupyter-js-widgets",
      "model_module_version": "~2.1.4",
      "model_name": "LayoutModel",
      "state": {
       "_model_module_version": "~2.1.4",
       "_view_module_version": "~2.1.4"
      }
     },
     "1f21cb4283304cd0a2a93c4e5b8f5458": {
      "model_module": "jupyter-js-widgets",
      "model_module_version": "~2.1.4",
      "model_name": "TextModel",
      "state": {
       "_model_module_version": "~2.1.4",
       "_view_module_version": "~2.1.4",
       "disabled": true,
       "layout": "IPY_MODEL_dd3efaf9bcbd4ae3bd6be975590bdf2c",
       "value": "Welcome"
      }
     },
     "1f516a327663432c9b501d4f4e74a56d": {
      "model_module": "jupyter-js-widgets",
      "model_module_version": "~2.1.4",
      "model_name": "LayoutModel",
      "state": {
       "_model_module_version": "~2.1.4",
       "_view_module_version": "~2.1.4"
      }
     },
     "1fd914f42c554259ace2ef7c0f906038": {
      "model_module": "jupyter-js-widgets",
      "model_module_version": "~2.1.4",
      "model_name": "LabelModel",
      "state": {
       "_model_module_version": "~2.1.4",
       "_view_module_version": "~2.1.4",
       "layout": "IPY_MODEL_519641e6cbc74715806ddc574d25d9f2",
       "value": "$$sensor_2$$"
      }
     },
     "2004baa0caac486d8dd7ade01a4facb6": {
      "model_module": "jupyter-js-widgets",
      "model_module_version": "~2.1.4",
      "model_name": "LayoutModel",
      "state": {
       "_model_module_version": "~2.1.4",
       "_view_module_version": "~2.1.4"
      }
     },
     "204b796966b643b6a405474f7c2d777a": {
      "model_module": "jupyter-js-widgets",
      "model_module_version": "~2.1.4",
      "model_name": "TextModel",
      "state": {
       "_model_module_version": "~2.1.4",
       "_view_module_version": "~2.1.4",
       "disabled": true,
       "layout": "IPY_MODEL_a6a8c137d0db476d87fd9516f1556853",
       "value": "Welcome"
      }
     },
     "207b5c62c2b643af95cf9c1ecc4b879b": {
      "model_module": "jupyter-js-widgets",
      "model_module_version": "~2.1.4",
      "model_name": "LayoutModel",
      "state": {
       "_model_module_version": "~2.1.4",
       "_view_module_version": "~2.1.4"
      }
     },
     "20f0916ca6d54a788639e73c1a106a73": {
      "model_module": "jupyter-js-widgets",
      "model_module_version": "~2.1.4",
      "model_name": "LabelModel",
      "state": {
       "_model_module_version": "~2.1.4",
       "_view_module_version": "~2.1.4",
       "layout": "IPY_MODEL_093b1e1b104d4a0fb138daa34b1094de",
       "value": "$$somato_3$$"
      }
     },
     "21803fe81ec947c8bef742a43cbb7737": {
      "model_module": "jupyter-js-widgets",
      "model_module_version": "~2.1.4",
      "model_name": "TextModel",
      "state": {
       "_model_module_version": "~2.1.4",
       "_view_module_version": "~2.1.4",
       "disabled": true,
       "layout": "IPY_MODEL_b7f7e97e83b54e7b8c5c9236095327a1",
       "value": "Welcome"
      }
     },
     "2194cbfa656f4bb1b84d501209f8ff67": {
      "model_module": "jupyter-js-widgets",
      "model_module_version": "~2.1.4",
      "model_name": "LayoutModel",
      "state": {
       "_model_module_version": "~2.1.4",
       "_view_module_version": "~2.1.4"
      }
     },
     "228e98c6368b47368f78dbfbc42bb6f1": {
      "model_module": "jupyter-js-widgets",
      "model_module_version": "~2.1.4",
      "model_name": "LayoutModel",
      "state": {
       "_model_module_version": "~2.1.4",
       "_view_module_version": "~2.1.4"
      }
     },
     "22a18413a37b42329c9cb6b2048f3d0e": {
      "model_module": "jupyter-js-widgets",
      "model_module_version": "~2.1.4",
      "model_name": "LayoutModel",
      "state": {
       "_model_module_version": "~2.1.4",
       "_view_module_version": "~2.1.4"
      }
     },
     "22b00cf2dca64e1dbe0edf23a49e1266": {
      "model_module": "jupyter-js-widgets",
      "model_module_version": "~2.1.4",
      "model_name": "HBoxModel",
      "state": {
       "_model_module_version": "~2.1.4",
       "_view_module_version": "~2.1.4",
       "children": [
        "IPY_MODEL_1089a28e5b4f4681bb93ae23cabb0398",
        "IPY_MODEL_c3314ea612bd45e984b101078a775870"
       ],
       "layout": "IPY_MODEL_ba03c302c4854105b66e5d0ad46982e8"
      }
     },
     "230f414f4dc34c9c8453ecb0cf516109": {
      "model_module": "jupyter-js-widgets",
      "model_module_version": "~2.1.4",
      "model_name": "LayoutModel",
      "state": {
       "_model_module_version": "~2.1.4",
       "_view_module_version": "~2.1.4"
      }
     },
     "23c6a837f41e4034ba80b690545f7274": {
      "model_module": "jupyter-js-widgets",
      "model_module_version": "~2.1.4",
      "model_name": "LayoutModel",
      "state": {
       "_model_module_version": "~2.1.4",
       "_view_module_version": "~2.1.4"
      }
     },
     "23e2b20013fe4989975cb4a4826e0179": {
      "model_module": "jupyter-js-widgets",
      "model_module_version": "~2.1.4",
      "model_name": "LayoutModel",
      "state": {
       "_model_module_version": "~2.1.4",
       "_view_module_version": "~2.1.4"
      }
     },
     "243832776195455ab41aa7eef42a92cb": {
      "model_module": "jupyter-js-widgets",
      "model_module_version": "~2.1.4",
      "model_name": "TextModel",
      "state": {
       "_model_module_version": "~2.1.4",
       "_view_module_version": "~2.1.4",
       "disabled": true,
       "layout": "IPY_MODEL_85abed24feff4e288cae1ef5c0123a14",
       "value": "Welcome"
      }
     },
     "257ee9316fca4cabbd8fdbd6f32fa278": {
      "model_module": "jupyter-js-widgets",
      "model_module_version": "~2.1.4",
      "model_name": "LayoutModel",
      "state": {
       "_model_module_version": "~2.1.4",
       "_view_module_version": "~2.1.4"
      }
     },
     "262ecf15a31448d9ae78f256acd2ac3f": {
      "model_module": "jupyter-js-widgets",
      "model_module_version": "~2.1.4",
      "model_name": "FloatSliderModel",
      "state": {
       "_model_module_version": "~2.1.4",
       "_view_module_version": "~2.1.4",
       "continuous_update": false,
       "description": "M1",
       "layout": "IPY_MODEL_b5cdbb7f84c042c4a31118231c44a334",
       "max": 6,
       "orientation": "vertical",
       "readout_format": "f",
       "slider_color": "white",
       "step": 0.1,
       "value": 3
      }
     },
     "26cb2a1c149f478e85b7a569404aa8f6": {
      "model_module": "jupyter-js-widgets",
      "model_module_version": "~2.1.4",
      "model_name": "LayoutModel",
      "state": {
       "_model_module_version": "~2.1.4",
       "_view_module_version": "~2.1.4"
      }
     },
     "26f4057afecb49939d2b4e787620d5c8": {
      "model_module": "jupyter-js-widgets",
      "model_module_version": "~2.1.4",
      "model_name": "HBoxModel",
      "state": {
       "_model_module_version": "~2.1.4",
       "_view_module_version": "~2.1.4",
       "children": [
        "IPY_MODEL_0a30a3f18afc4be49b2f145da058b457",
        "IPY_MODEL_dfe2106e24504f89bca419f0b32422a4"
       ],
       "layout": "IPY_MODEL_98490f5c65224f1bb3c4914c762c402b"
      }
     },
     "27c0cb24def34f01aca8b1941c3792e2": {
      "model_module": "jupyter-js-widgets",
      "model_module_version": "~2.1.4",
      "model_name": "TextModel",
      "state": {
       "_model_module_version": "~2.1.4",
       "_view_module_version": "~2.1.4",
       "layout": "IPY_MODEL_122fa509255d410495a2377c44f9e461",
       "value": "0.903943156486"
      }
     },
     "289b4eea826f4453a31b65b2e2e74506": {
      "model_module": "jupyter-js-widgets",
      "model_module_version": "~2.1.4",
      "model_name": "LayoutModel",
      "state": {
       "_model_module_version": "~2.1.4",
       "_view_module_version": "~2.1.4"
      }
     },
     "291f4693976045fba69d08b5cfd20e80": {
      "model_module": "jupyter-js-widgets",
      "model_module_version": "~2.1.4",
      "model_name": "LayoutModel",
      "state": {
       "_model_module_version": "~2.1.4",
       "_view_module_version": "~2.1.4"
      }
     },
     "293e0b7f261c418ba5e299122dd3dccd": {
      "model_module": "jupyter-js-widgets",
      "model_module_version": "~2.1.4",
      "model_name": "TextModel",
      "state": {
       "_model_module_version": "~2.1.4",
       "_view_module_version": "~2.1.4",
       "disabled": true,
       "layout": "IPY_MODEL_8357f0f33a1b4e049b54392e7e6bfabf",
       "value": "Welcome"
      }
     },
     "29d5a6c795624debbde81de4039f5ff8": {
      "model_module": "jupyter-js-widgets",
      "model_module_version": "~2.1.4",
      "model_name": "TextModel",
      "state": {
       "_model_module_version": "~2.1.4",
       "_view_module_version": "~2.1.4",
       "disabled": true,
       "layout": "IPY_MODEL_3eacd97a3daa45b392db0e6c6384cd03",
       "value": "3.88505145959"
      }
     },
     "2a56043aa6d84619a6ba66e2c0b81fd8": {
      "model_module": "jupyter-js-widgets",
      "model_module_version": "~2.1.4",
      "model_name": "LayoutModel",
      "state": {
       "_model_module_version": "~2.1.4",
       "_view_module_version": "~2.1.4"
      }
     },
     "2a60561e3e06412cb292d49a3432c8d9": {
      "model_module": "jupyter-js-widgets",
      "model_module_version": "~2.1.4",
      "model_name": "LayoutModel",
      "state": {
       "_model_module_version": "~2.1.4",
       "_view_module_version": "~2.1.4"
      }
     },
     "2aeaec04ad104854b950213f1a27d650": {
      "model_module": "jupyter-js-widgets",
      "model_module_version": "~2.1.4",
      "model_name": "HBoxModel",
      "state": {
       "_model_module_version": "~2.1.4",
       "_view_module_version": "~2.1.4",
       "children": [
        "IPY_MODEL_a48864a8db294cedbd25523861dd8a5d",
        "IPY_MODEL_f1d9ae75c4184d88be1c9639f6fe5a01"
       ],
       "layout": "IPY_MODEL_e7b31005a5954b70a2dd0920cb049891"
      }
     },
     "2c2638c66e3148178f524cc6c01fcb8c": {
      "model_module": "jupyter-js-widgets",
      "model_module_version": "~2.1.4",
      "model_name": "LayoutModel",
      "state": {
       "_model_module_version": "~2.1.4",
       "_view_module_version": "~2.1.4"
      }
     },
     "2c8f7ab63b0b429ea5188785f113e5b2": {
      "model_module": "jupyter-js-widgets",
      "model_module_version": "~2.1.4",
      "model_name": "FloatSliderModel",
      "state": {
       "_model_module_version": "~2.1.4",
       "_view_module_version": "~2.1.4",
       "continuous_update": false,
       "description": "M1",
       "layout": "IPY_MODEL_fad95e44fddb4d71883a5a7de9bfdc38",
       "max": 6,
       "orientation": "vertical",
       "readout_format": "f",
       "slider_color": "white",
       "step": 0.1
      }
     },
     "2d1031ade33047adaec729b1aa119205": {
      "model_module": "jupyter-js-widgets",
      "model_module_version": "~2.1.4",
      "model_name": "LayoutModel",
      "state": {
       "_model_module_version": "~2.1.4",
       "_view_module_version": "~2.1.4"
      }
     },
     "2e6344df60a44d2594392beb066502cb": {
      "model_module": "jupyter-js-widgets",
      "model_module_version": "~2.1.4",
      "model_name": "HBoxModel",
      "state": {
       "_model_module_version": "~2.1.4",
       "_view_module_version": "~2.1.4",
       "children": [
        [
         "IPY_MODEL_85f57eb1b3c04ba79d4983e5c8d51d70",
         "IPY_MODEL_262ecf15a31448d9ae78f256acd2ac3f"
        ]
       ],
       "layout": "IPY_MODEL_8a1475282edf4f0b9714f959e7a6cafc"
      }
     },
     "2ea60a5914374f53aa900ca9fb486858": {
      "model_module": "jupyter-js-widgets",
      "model_module_version": "~2.1.4",
      "model_name": "FloatSliderModel",
      "state": {
       "_model_module_version": "~2.1.4",
       "_view_module_version": "~2.1.4",
       "continuous_update": false,
       "description": "M1",
       "layout": "IPY_MODEL_63d0d2243ada488883d141b88b039ebb",
       "max": 6,
       "orientation": "vertical",
       "readout_format": "f",
       "slider_color": "white",
       "step": 0.1,
       "value": 2.3
      }
     },
     "2fa7598731a04646b281750d34da9f56": {
      "model_module": "jupyter-js-widgets",
      "model_module_version": "~2.1.4",
      "model_name": "LayoutModel",
      "state": {
       "_model_module_version": "~2.1.4",
       "_view_module_version": "~2.1.4"
      }
     },
     "2fe4e8275d494f838b2fb5f929f2221c": {
      "model_module": "jupyter-js-widgets",
      "model_module_version": "~2.1.4",
      "model_name": "LayoutModel",
      "state": {
       "_model_module_version": "~2.1.4",
       "_view_module_version": "~2.1.4"
      }
     },
     "2ffdabff36ad424f80c35f67fa2b7f9e": {
      "model_module": "jupyter-js-widgets",
      "model_module_version": "~2.1.4",
      "model_name": "LayoutModel",
      "state": {
       "_model_module_version": "~2.1.4",
       "_view_module_version": "~2.1.4"
      }
     },
     "3077973995b64d9c93d224e60b72d3c1": {
      "model_module": "jupyter-js-widgets",
      "model_module_version": "~2.1.4",
      "model_name": "HBoxModel",
      "state": {
       "_model_module_version": "~2.1.4",
       "_view_module_version": "~2.1.4",
       "children": [
        "IPY_MODEL_20f0916ca6d54a788639e73c1a106a73",
        "IPY_MODEL_0b9f5cad154449b3aa1ac5da51a9221a"
       ],
       "layout": "IPY_MODEL_5a0cd73a6b4f49fdbe62a1a2910ed295"
      }
     },
     "30abb1aab43348eab122c51a58f36e88": {
      "model_module": "jupyter-js-widgets",
      "model_module_version": "~2.1.4",
      "model_name": "TextModel",
      "state": {
       "_model_module_version": "~2.1.4",
       "_view_module_version": "~2.1.4",
       "layout": "IPY_MODEL_073882fc30ad425887786392e61e1e37",
       "value": "2.25000003968"
      }
     },
     "313f614365d9498f81812544d9c98d38": {
      "model_module": "jupyter-js-widgets",
      "model_module_version": "~2.1.4",
      "model_name": "TextModel",
      "state": {
       "_model_module_version": "~2.1.4",
       "_view_module_version": "~2.1.4",
       "disabled": true,
       "layout": "IPY_MODEL_dd42647e59ea441abc01a41bb596eae6",
       "value": "Welcome"
      }
     },
     "31ee2f848a684c39b9766f9fa374692c": {
      "model_module": "jupyter-js-widgets",
      "model_module_version": "~2.1.4",
      "model_name": "FloatSliderModel",
      "state": {
       "_model_module_version": "~2.1.4",
       "_view_module_version": "~2.1.4",
       "continuous_update": false,
       "description": "M0",
       "layout": "IPY_MODEL_aba2dd1e40a9455caba3ac1e77d47c24",
       "max": 6,
       "orientation": "vertical",
       "readout_format": "f",
       "slider_color": "white",
       "step": 0.1,
       "value": 2.1
      }
     },
     "33074a9a234b4d95b253bddb10c3376c": {
      "model_module": "jupyter-js-widgets",
      "model_module_version": "~2.1.4",
      "model_name": "LayoutModel",
      "state": {
       "_model_module_version": "~2.1.4",
       "_view_module_version": "~2.1.4"
      }
     },
     "334610aeb8e74f63bab00e9fe503e7b9": {
      "model_module": "jupyter-js-widgets",
      "model_module_version": "~2.1.4",
      "model_name": "FloatSliderModel",
      "state": {
       "_model_module_version": "~2.1.4",
       "_view_module_version": "~2.1.4",
       "continuous_update": false,
       "description": "M1",
       "layout": "IPY_MODEL_33074a9a234b4d95b253bddb10c3376c",
       "max": 6,
       "orientation": "vertical",
       "readout_format": "f",
       "slider_color": "white",
       "step": 0.1
      }
     },
     "3365bc81781942bf93bad2075fa8950d": {
      "model_module": "jupyter-js-widgets",
      "model_module_version": "~2.1.4",
      "model_name": "HBoxModel",
      "state": {
       "_model_module_version": "~2.1.4",
       "_view_module_version": "~2.1.4",
       "children": [
        "IPY_MODEL_bdf6ac79943b4ea2b9ef78d5a27b9f44",
        "IPY_MODEL_06fd8f95cdea4415aef509fc437fb8e6"
       ],
       "layout": "IPY_MODEL_2c2638c66e3148178f524cc6c01fcb8c"
      }
     },
     "342c6e7fa5a649ebaedc566f23ec00e4": {
      "model_module": "jupyter-js-widgets",
      "model_module_version": "~2.1.4",
      "model_name": "TextModel",
      "state": {
       "_model_module_version": "~2.1.4",
       "_view_module_version": "~2.1.4",
       "disabled": true,
       "layout": "IPY_MODEL_825a49c2f3f146fea09e4bf791553d97",
       "value": "Welcome"
      }
     },
     "3454cab49832430dab297e9f2590802e": {
      "model_module": "jupyter-js-widgets",
      "model_module_version": "~2.1.4",
      "model_name": "TextModel",
      "state": {
       "_model_module_version": "~2.1.4",
       "_view_module_version": "~2.1.4",
       "disabled": true,
       "layout": "IPY_MODEL_1cde7eef41f148d898e7ea083d5a17a7",
       "value": "Welcome"
      }
     },
     "346417f91a0041af97a0091ae5f07d92": {
      "model_module": "jupyter-js-widgets",
      "model_module_version": "~2.1.4",
      "model_name": "LayoutModel",
      "state": {
       "_model_module_version": "~2.1.4",
       "_view_module_version": "~2.1.4"
      }
     },
     "34777fb1b5be431b8f153dc9f1b1c4d8": {
      "model_module": "jupyter-js-widgets",
      "model_module_version": "~2.1.4",
      "model_name": "LayoutModel",
      "state": {
       "_model_module_version": "~2.1.4",
       "_view_module_version": "~2.1.4"
      }
     },
     "34c507bae8a141a5886eb8873975f677": {
      "model_module": "jupyter-js-widgets",
      "model_module_version": "~2.1.4",
      "model_name": "LayoutModel",
      "state": {
       "_model_module_version": "~2.1.4",
       "_view_module_version": "~2.1.4"
      }
     },
     "36255fe654ad41c190d056bb6e6097fe": {
      "model_module": "jupyter-js-widgets",
      "model_module_version": "~2.1.4",
      "model_name": "FloatSliderModel",
      "state": {
       "_model_module_version": "~2.1.4",
       "_view_module_version": "~2.1.4",
       "continuous_update": false,
       "description": "M1",
       "layout": "IPY_MODEL_0ce1c9dd50c14469b51d9ae05f434fcf",
       "max": 6,
       "orientation": "vertical",
       "readout_format": "f",
       "slider_color": "white",
       "step": 0.1,
       "value": 1
      }
     },
     "3669243ed1b341f0ad43f75664701c3b": {
      "model_module": "jupyter-js-widgets",
      "model_module_version": "~2.1.4",
      "model_name": "HBoxModel",
      "state": {
       "_model_module_version": "~2.1.4",
       "_view_module_version": "~2.1.4",
       "children": [
        "IPY_MODEL_6a18863295d245878b08f5f4587b2f68",
        "IPY_MODEL_b8ba7c12c4f744db9116f1d5efe9d9c8"
       ],
       "layout": "IPY_MODEL_ccc73d37f8b14e30ba5d2ba0489fb86a"
      }
     },
     "387ae5d3742d470aa73833a143644d53": {
      "model_module": "jupyter-js-widgets",
      "model_module_version": "~2.1.4",
      "model_name": "HBoxModel",
      "state": {
       "_model_module_version": "~2.1.4",
       "_view_module_version": "~2.1.4",
       "children": [
        "IPY_MODEL_d5dfff5c38fb4770a8bf39cbe3417d32",
        "IPY_MODEL_6e1900ada58d484a87fa84e57eb69db0"
       ],
       "layout": "IPY_MODEL_ac3f57640abf444caf5dd13a28772b97"
      }
     },
     "3a4bc71b706448ea91f40e9a1047b0ae": {
      "model_module": "jupyter-js-widgets",
      "model_module_version": "~2.1.4",
      "model_name": "HBoxModel",
      "state": {
       "_model_module_version": "~2.1.4",
       "_view_module_version": "~2.1.4",
       "children": [
        "IPY_MODEL_31ee2f848a684c39b9766f9fa374692c",
        "IPY_MODEL_e5c39329f7ea4465b6df3252376e3276"
       ],
       "layout": "IPY_MODEL_151c8e5fbc2244d4a76c1bf5e7f4b42d"
      }
     },
     "3ad23630323a4e39944ba5d7b0bfaacb": {
      "model_module": "jupyter-js-widgets",
      "model_module_version": "~2.1.4",
      "model_name": "LayoutModel",
      "state": {
       "_model_module_version": "~2.1.4",
       "_view_module_version": "~2.1.4"
      }
     },
     "3b7d23b7d67d473081719290f3b8c36d": {
      "model_module": "jupyter-js-widgets",
      "model_module_version": "~2.1.4",
      "model_name": "LayoutModel",
      "state": {
       "_model_module_version": "~2.1.4",
       "_view_module_version": "~2.1.4"
      }
     },
     "3bfd11c2a3b148eebd96b0d9cfc9dbce": {
      "model_module": "jupyter-js-widgets",
      "model_module_version": "~2.1.4",
      "model_name": "FloatSliderModel",
      "state": {
       "_model_module_version": "~2.1.4",
       "_view_module_version": "~2.1.4",
       "continuous_update": false,
       "description": "M0",
       "layout": "IPY_MODEL_1bfc5450fff24113aa4e70ccea25ba11",
       "max": 6,
       "orientation": "vertical",
       "readout_format": "f",
       "slider_color": "white",
       "step": 0.1
      }
     },
     "3e030564d70c4b6e90da59f90053110d": {
      "model_module": "jupyter-js-widgets",
      "model_module_version": "~2.1.4",
      "model_name": "LabelModel",
      "state": {
       "_model_module_version": "~2.1.4",
       "_view_module_version": "~2.1.4",
       "layout": "IPY_MODEL_34777fb1b5be431b8f153dc9f1b1c4d8",
       "value": "$$sensor_2$$"
      }
     },
     "3eacd97a3daa45b392db0e6c6384cd03": {
      "model_module": "jupyter-js-widgets",
      "model_module_version": "~2.1.4",
      "model_name": "LayoutModel",
      "state": {
       "_model_module_version": "~2.1.4",
       "_view_module_version": "~2.1.4"
      }
     },
     "3efd972d970e4f78920a4499d4953064": {
      "model_module": "jupyter-js-widgets",
      "model_module_version": "~2.1.4",
      "model_name": "LayoutModel",
      "state": {
       "_model_module_version": "~2.1.4",
       "_view_module_version": "~2.1.4"
      }
     },
     "3fac539ed80e4e89a62558bbc1caa18b": {
      "model_module": "jupyter-js-widgets",
      "model_module_version": "~2.1.4",
      "model_name": "LayoutModel",
      "state": {
       "_model_module_version": "~2.1.4",
       "_view_module_version": "~2.1.4"
      }
     },
     "407fa050c9b848589f37b41d483681a4": {
      "model_module": "jupyter-js-widgets",
      "model_module_version": "~2.1.4",
      "model_name": "HBoxModel",
      "state": {
       "_model_module_version": "~2.1.4",
       "_view_module_version": "~2.1.4",
       "children": [
        "IPY_MODEL_a6d8258e4bc447c3b88a1e3fc0384b3d",
        "IPY_MODEL_825f7d732fa14bc9b61a1ef079082305"
       ],
       "layout": "IPY_MODEL_5948955be6c04105a302c068af8e0521"
      }
     },
     "408a2158ccff4d0da6c827525c9e2601": {
      "model_module": "jupyter-js-widgets",
      "model_module_version": "~2.1.4",
      "model_name": "TextModel",
      "state": {
       "_model_module_version": "~2.1.4",
       "_view_module_version": "~2.1.4",
       "disabled": true,
       "layout": "IPY_MODEL_5a7b4ffce76a49659336406fe37c1aa1",
       "value": "7.83209609084e-08"
      }
     },
     "4156faed85bf4bca82ae71424acb8b42": {
      "model_module": "jupyter-js-widgets",
      "model_module_version": "~2.1.4",
      "model_name": "LabelModel",
      "state": {
       "_model_module_version": "~2.1.4",
       "_view_module_version": "~2.1.4",
       "layout": "IPY_MODEL_ec71a1d32bcd448e89a871aba044ab76",
       "value": "$$somato_1$$"
      }
     },
     "417908920ffd44f8b2239c32d76b7ec4": {
      "model_module": "jupyter-js-widgets",
      "model_module_version": "~2.1.4",
      "model_name": "LayoutModel",
      "state": {
       "_model_module_version": "~2.1.4",
       "_view_module_version": "~2.1.4"
      }
     },
     "41897e2b07f44a81955a3102992c5b76": {
      "model_module": "jupyter-js-widgets",
      "model_module_version": "~2.1.4",
      "model_name": "LayoutModel",
      "state": {
       "_model_module_version": "~2.1.4",
       "_view_module_version": "~2.1.4"
      }
     },
     "420421e1ff954835ad656b2f762dc7c1": {
      "model_module": "jupyter-js-widgets",
      "model_module_version": "~2.1.4",
      "model_name": "LayoutModel",
      "state": {
       "_model_module_version": "~2.1.4",
       "_view_module_version": "~2.1.4"
      }
     },
     "4262ef78d03248bfa2a72060cddb527f": {
      "model_module": "jupyter-js-widgets",
      "model_module_version": "~2.1.4",
      "model_name": "LayoutModel",
      "state": {
       "_model_module_version": "~2.1.4",
       "_view_module_version": "~2.1.4"
      }
     },
     "439be0f56afc4f71932242e4f6df68aa": {
      "model_module": "jupyter-js-widgets",
      "model_module_version": "~2.1.4",
      "model_name": "LayoutModel",
      "state": {
       "_model_module_version": "~2.1.4",
       "_view_module_version": "~2.1.4"
      }
     },
     "43ac1f0cea1b4a5e9c20343a33b028f2": {
      "model_module": "jupyter-js-widgets",
      "model_module_version": "~2.1.4",
      "model_name": "LayoutModel",
      "state": {
       "_model_module_version": "~2.1.4",
       "_view_module_version": "~2.1.4"
      }
     },
     "4478272758b2457fbfadb12caff7e845": {
      "model_module": "jupyter-js-widgets",
      "model_module_version": "~2.1.4",
      "model_name": "VBoxModel",
      "state": {
       "_model_module_version": "~2.1.4",
       "_view_module_version": "~2.1.4",
       "children": [
        "IPY_MODEL_761d1e5a5baa4e9694b6f88f31e17534",
        "IPY_MODEL_9e96077bfc134061a7d4f948db1ef0ee",
        "IPY_MODEL_f99f0df020be40a482cb20c6a769d203",
        "IPY_MODEL_69aaa37359f0441786d9bb0a5817b00c",
        "IPY_MODEL_66ff1c8e7398483eaf40349f393ee728",
        "IPY_MODEL_b8763728a67247df9bbc0ebd2426ea8f"
       ],
       "layout": "IPY_MODEL_289b4eea826f4453a31b65b2e2e74506"
      }
     },
     "45e2fdaf4aa740f88871827380ec24a6": {
      "model_module": "jupyter-js-widgets",
      "model_module_version": "~2.1.4",
      "model_name": "LayoutModel",
      "state": {
       "_model_module_version": "~2.1.4",
       "_view_module_version": "~2.1.4"
      }
     },
     "45f4f4836d314e52aa9a00d4e439acf2": {
      "model_module": "jupyter-js-widgets",
      "model_module_version": "~2.1.4",
      "model_name": "LayoutModel",
      "state": {
       "_model_module_version": "~2.1.4",
       "_view_module_version": "~2.1.4"
      }
     },
     "46ff6d96e54c4d65853e2b60003a4e3e": {
      "model_module": "jupyter-js-widgets",
      "model_module_version": "~2.1.4",
      "model_name": "LayoutModel",
      "state": {
       "_model_module_version": "~2.1.4",
       "_view_module_version": "~2.1.4"
      }
     },
     "47d89ae357494dcd95180a8dec6aa6c6": {
      "model_module": "jupyter-js-widgets",
      "model_module_version": "~2.1.4",
      "model_name": "VBoxModel",
      "state": {
       "_model_module_version": "~2.1.4",
       "_view_module_version": "~2.1.4",
       "children": [
        "IPY_MODEL_0a0a9c25b7c14354b08005c2feb0502c",
        "IPY_MODEL_2aeaec04ad104854b950213f1a27d650",
        "IPY_MODEL_f8b34b3e03504d0393da4b1be3d8aa42",
        "IPY_MODEL_17676f3acab74cd995060b33a960c430",
        "IPY_MODEL_a3535626a1b249bb95cfb7efce123770",
        "IPY_MODEL_8b6ca34fac4a4545b5326870493d5df8"
       ],
       "layout": "IPY_MODEL_7eca1e6823f14ebeb42771ec4f5e2931"
      }
     },
     "4805899505a444268f623c25e8bcac29": {
      "model_module": "jupyter-js-widgets",
      "model_module_version": "~2.1.4",
      "model_name": "LayoutModel",
      "state": {
       "_model_module_version": "~2.1.4",
       "_view_module_version": "~2.1.4"
      }
     },
     "481d2ec552da4dcbb7117da8c460c4f5": {
      "model_module": "jupyter-js-widgets",
      "model_module_version": "~2.1.4",
      "model_name": "TextModel",
      "state": {
       "_model_module_version": "~2.1.4",
       "_view_module_version": "~2.1.4",
       "disabled": true,
       "layout": "IPY_MODEL_f83d2fb42a994a7d941832541e3be5f4",
       "value": "Welcome"
      }
     },
     "495a5a60d5a5440aa74efa3f17873967": {
      "model_module": "jupyter-js-widgets",
      "model_module_version": "~2.1.4",
      "model_name": "TextModel",
      "state": {
       "_model_module_version": "~2.1.4",
       "_view_module_version": "~2.1.4",
       "disabled": true,
       "layout": "IPY_MODEL_b35128d9bf734d0b85e10284e561b418",
       "value": "Welcome"
      }
     },
     "497cc902aa484aaea774dde7c857a541": {
      "model_module": "jupyter-js-widgets",
      "model_module_version": "~2.1.4",
      "model_name": "HBoxModel",
      "state": {
       "_model_module_version": "~2.1.4",
       "_view_module_version": "~2.1.4",
       "children": [
        "IPY_MODEL_1e1ec03a46dd4388bc13c2aad7115c1c",
        "IPY_MODEL_565c56a8d54d4a9bae4e03699d43edbb"
       ],
       "layout": "IPY_MODEL_6e306caf98e049728ec68b8a87254138"
      }
     },
     "497f4f7fafc441b3857e563105b64227": {
      "model_module": "jupyter-js-widgets",
      "model_module_version": "~2.1.4",
      "model_name": "LayoutModel",
      "state": {
       "_model_module_version": "~2.1.4",
       "_view_module_version": "~2.1.4"
      }
     },
     "4a61462f541349709b5b4a69fc656d19": {
      "model_module": "jupyter-js-widgets",
      "model_module_version": "~2.1.4",
      "model_name": "LayoutModel",
      "state": {
       "_model_module_version": "~2.1.4",
       "_view_module_version": "~2.1.4"
      }
     },
     "4c2fb9971e014773aa7a159ba30e650e": {
      "model_module": "jupyter-js-widgets",
      "model_module_version": "~2.1.4",
      "model_name": "LayoutModel",
      "state": {
       "_model_module_version": "~2.1.4",
       "_view_module_version": "~2.1.4"
      }
     },
     "4c38b78c2562422d86050625a7bc90de": {
      "model_module": "jupyter-js-widgets",
      "model_module_version": "~2.1.4",
      "model_name": "LayoutModel",
      "state": {
       "_model_module_version": "~2.1.4",
       "_view_module_version": "~2.1.4"
      }
     },
     "4c3c3bf0ab1141769524679349612dec": {
      "model_module": "jupyter-js-widgets",
      "model_module_version": "~2.1.4",
      "model_name": "HBoxModel",
      "state": {
       "_model_module_version": "~2.1.4",
       "_view_module_version": "~2.1.4",
       "children": [
        "IPY_MODEL_0a30a3f18afc4be49b2f145da058b457",
        "IPY_MODEL_dfe2106e24504f89bca419f0b32422a4"
       ],
       "layout": "IPY_MODEL_5453702b46ff4b7a99f1fef431809c08"
      }
     },
     "4c6e8e90b79d45a8a747099b4411bc1e": {
      "model_module": "jupyter-js-widgets",
      "model_module_version": "~2.1.4",
      "model_name": "LayoutModel",
      "state": {
       "_model_module_version": "~2.1.4",
       "_view_module_version": "~2.1.4"
      }
     },
     "4dffbd594d9c4b3abcdcc5d0626cd134": {
      "model_module": "jupyter-js-widgets",
      "model_module_version": "~2.1.4",
      "model_name": "TextModel",
      "state": {
       "_model_module_version": "~2.1.4",
       "_view_module_version": "~2.1.4",
       "disabled": true,
       "layout": "IPY_MODEL_78ab8daa25dc48de96f14afebd676378",
       "value": "Welcome"
      }
     },
     "4e091bfa45f141b791e5d4ce26cae8cc": {
      "model_module": "jupyter-js-widgets",
      "model_module_version": "~2.1.4",
      "model_name": "LayoutModel",
      "state": {
       "_model_module_version": "~2.1.4",
       "_view_module_version": "~2.1.4"
      }
     },
     "4ea4e822e3f24b179bfc092710bcdaea": {
      "model_module": "jupyter-js-widgets",
      "model_module_version": "~2.1.4",
      "model_name": "LabelModel",
      "state": {
       "_model_module_version": "~2.1.4",
       "_view_module_version": "~2.1.4",
       "layout": "IPY_MODEL_6fd390267b344b7aa42e3cfd0724af21",
       "value": "$$somato_2$$"
      }
     },
     "4ee2c6d5bfb34a879d4db8fd6f1ad149": {
      "model_module": "jupyter-js-widgets",
      "model_module_version": "~2.1.4",
      "model_name": "HBoxModel",
      "state": {
       "_model_module_version": "~2.1.4",
       "_view_module_version": "~2.1.4",
       "children": [
        "IPY_MODEL_63e8da9ba4cc49ba83608785afc37455",
        "IPY_MODEL_b1cb29973a4a42dd95afdcbf37581a15"
       ],
       "layout": "IPY_MODEL_c8f5202541a24b8faa53655bb64d6ab9"
      }
     },
     "4f3563d261c244c0bae41061ef36b0e4": {
      "model_module": "jupyter-js-widgets",
      "model_module_version": "~2.1.4",
      "model_name": "HBoxModel",
      "state": {
       "_model_module_version": "~2.1.4",
       "_view_module_version": "~2.1.4",
       "children": [
        "IPY_MODEL_004e4b996aff49f999ce5a54057e0baa",
        "IPY_MODEL_36255fe654ad41c190d056bb6e6097fe"
       ],
       "layout": "IPY_MODEL_da6558812fd840808567960cda0a045f"
      }
     },
     "4f388f2ccb16467a82ff1d16449f8836": {
      "model_module": "jupyter-js-widgets",
      "model_module_version": "~2.1.4",
      "model_name": "LayoutModel",
      "state": {
       "_model_module_version": "~2.1.4",
       "_view_module_version": "~2.1.4"
      }
     },
     "4f495709ada048fe848e203130eeaef7": {
      "model_module": "jupyter-js-widgets",
      "model_module_version": "~2.1.4",
      "model_name": "LayoutModel",
      "state": {
       "_model_module_version": "~2.1.4",
       "_view_module_version": "~2.1.4"
      }
     },
     "4fc1253d8b9a4f1c99142e242f554cff": {
      "model_module": "jupyter-js-widgets",
      "model_module_version": "~2.1.4",
      "model_name": "HBoxModel",
      "state": {
       "_model_module_version": "~2.1.4",
       "_view_module_version": "~2.1.4",
       "children": [
        "IPY_MODEL_1fd914f42c554259ace2ef7c0f906038",
        "IPY_MODEL_b8ba7c12c4f744db9116f1d5efe9d9c8"
       ],
       "layout": "IPY_MODEL_088146a38d1d4bc6b17bb838665fc31c"
      }
     },
     "502ba423bb0847d2930cae9c2c4a7bd8": {
      "model_module": "jupyter-js-widgets",
      "model_module_version": "~2.1.4",
      "model_name": "LabelModel",
      "state": {
       "_model_module_version": "~2.1.4",
       "_view_module_version": "~2.1.4",
       "layout": "IPY_MODEL_9fca0e796a634bc885399e3e82db58bf",
       "value": "$$sensor_1$$"
      }
     },
     "50b2f388c71843dc9a845105475ac912": {
      "model_module": "jupyter-js-widgets",
      "model_module_version": "~2.1.4",
      "model_name": "LayoutModel",
      "state": {
       "_model_module_version": "~2.1.4",
       "_view_module_version": "~2.1.4"
      }
     },
     "519641e6cbc74715806ddc574d25d9f2": {
      "model_module": "jupyter-js-widgets",
      "model_module_version": "~2.1.4",
      "model_name": "LayoutModel",
      "state": {
       "_model_module_version": "~2.1.4",
       "_view_module_version": "~2.1.4"
      }
     },
     "520ec2492a27455aa61079b345ede1e9": {
      "model_module": "jupyter-js-widgets",
      "model_module_version": "~2.1.4",
      "model_name": "LayoutModel",
      "state": {
       "_model_module_version": "~2.1.4",
       "_view_module_version": "~2.1.4"
      }
     },
     "532bbd5ed9fc4ec1a429c64c1ec26271": {
      "model_module": "jupyter-js-widgets",
      "model_module_version": "~2.1.4",
      "model_name": "LayoutModel",
      "state": {
       "_model_module_version": "~2.1.4",
       "_view_module_version": "~2.1.4"
      }
     },
     "5341c4c49d83475b815071b9431ec215": {
      "model_module": "jupyter-js-widgets",
      "model_module_version": "~2.1.4",
      "model_name": "LayoutModel",
      "state": {
       "_model_module_version": "~2.1.4",
       "_view_module_version": "~2.1.4"
      }
     },
     "53553ff1e5fb40878b95dc28b377c6da": {
      "model_module": "jupyter-js-widgets",
      "model_module_version": "~2.1.4",
      "model_name": "LayoutModel",
      "state": {
       "_model_module_version": "~2.1.4",
       "_view_module_version": "~2.1.4"
      }
     },
     "53ee732caca6408cb0f63c76c8798332": {
      "model_module": "jupyter-js-widgets",
      "model_module_version": "~2.1.4",
      "model_name": "HBoxModel",
      "state": {
       "_model_module_version": "~2.1.4",
       "_view_module_version": "~2.1.4",
       "children": [
        "IPY_MODEL_a18706ce020743cebfd50f5764366d42",
        "IPY_MODEL_bcfc8407e4a5404abb80e6fe7b1815bf"
       ],
       "layout": "IPY_MODEL_b4ebd3dc877145cf96f27a86240e0c98"
      }
     },
     "5453702b46ff4b7a99f1fef431809c08": {
      "model_module": "jupyter-js-widgets",
      "model_module_version": "~2.1.4",
      "model_name": "LayoutModel",
      "state": {
       "_model_module_version": "~2.1.4",
       "_view_module_version": "~2.1.4"
      }
     },
     "54866eae5e3d4b41892935225b58174f": {
      "model_module": "jupyter-js-widgets",
      "model_module_version": "~2.1.4",
      "model_name": "HBoxModel",
      "state": {
       "_model_module_version": "~2.1.4",
       "_view_module_version": "~2.1.4",
       "children": [
        "IPY_MODEL_4ee2c6d5bfb34a879d4db8fd6f1ad149",
        "IPY_MODEL_7ec931492b7041a39bf04595b0fc1213"
       ],
       "layout": "IPY_MODEL_e5ae74b9c125428fa921e645e8a63d6f"
      }
     },
     "54a45d7f881249af90bee93fdb7223ff": {
      "model_module": "jupyter-js-widgets",
      "model_module_version": "~2.1.4",
      "model_name": "LayoutModel",
      "state": {
       "_model_module_version": "~2.1.4",
       "_view_module_version": "~2.1.4"
      }
     },
     "54f7775aa5764b40b5ac8944fc5b09d8": {
      "model_module": "jupyter-js-widgets",
      "model_module_version": "~2.1.4",
      "model_name": "LabelModel",
      "state": {
       "_model_module_version": "~2.1.4",
       "_view_module_version": "~2.1.4",
       "layout": "IPY_MODEL_6d4811639f18496b93d12568c0fac54e",
       "value": "$$sensor_1$$"
      }
     },
     "557243f6b3784ce38a0965f4f6962f6c": {
      "model_module": "jupyter-js-widgets",
      "model_module_version": "~2.1.4",
      "model_name": "HBoxModel",
      "state": {
       "_model_module_version": "~2.1.4",
       "_view_module_version": "~2.1.4",
       "children": [
        "IPY_MODEL_85f57eb1b3c04ba79d4983e5c8d51d70",
        "IPY_MODEL_262ecf15a31448d9ae78f256acd2ac3f"
       ],
       "layout": "IPY_MODEL_6e0be7ddf6b7483999dbdb3c9019ea6c"
      }
     },
     "55843c99f00b47848ef275650db19018": {
      "model_module": "jupyter-js-widgets",
      "model_module_version": "~2.1.4",
      "model_name": "TextModel",
      "state": {
       "_model_module_version": "~2.1.4",
       "_view_module_version": "~2.1.4",
       "disabled": true,
       "layout": "IPY_MODEL_46ff6d96e54c4d65853e2b60003a4e3e",
       "value": "2.74370311461"
      }
     },
     "55864bec28984db7afcd2654b002b010": {
      "model_module": "jupyter-js-widgets",
      "model_module_version": "~2.1.4",
      "model_name": "HBoxModel",
      "state": {
       "_model_module_version": "~2.1.4",
       "_view_module_version": "~2.1.4",
       "children": [
        "IPY_MODEL_1c9449e8476b4f2d9e994697d20a2734",
        "IPY_MODEL_2ea60a5914374f53aa900ca9fb486858"
       ],
       "layout": "IPY_MODEL_26cb2a1c149f478e85b7a569404aa8f6"
      }
     },
     "56012420bd1946e6a60d51b73eb559dc": {
      "model_module": "jupyter-js-widgets",
      "model_module_version": "~2.1.4",
      "model_name": "HBoxModel",
      "state": {
       "_model_module_version": "~2.1.4",
       "_view_module_version": "~2.1.4",
       "children": [
        "IPY_MODEL_1063520805994bc991b49aecb03c246a",
        "IPY_MODEL_55843c99f00b47848ef275650db19018"
       ],
       "layout": "IPY_MODEL_affdfccacf424c6e8a60fe0fa289012c"
      }
     },
     "561d073ab0394168b9e084007c3ff3e6": {
      "model_module": "jupyter-js-widgets",
      "model_module_version": "~2.1.4",
      "model_name": "LayoutModel",
      "state": {
       "_model_module_version": "~2.1.4",
       "_view_module_version": "~2.1.4"
      }
     },
     "565c56a8d54d4a9bae4e03699d43edbb": {
      "model_module": "jupyter-js-widgets",
      "model_module_version": "~2.1.4",
      "model_name": "TextModel",
      "state": {
       "_model_module_version": "~2.1.4",
       "_view_module_version": "~2.1.4",
       "disabled": true,
       "layout": "IPY_MODEL_65e3dbcc64da44b3a3cb2f4d86dbc24c",
       "value": "0.73001403771"
      }
     },
     "57c436d11bb7461fa78f1b22843938e6": {
      "model_module": "jupyter-js-widgets",
      "model_module_version": "~2.1.4",
      "model_name": "HBoxModel",
      "state": {
       "_model_module_version": "~2.1.4",
       "_view_module_version": "~2.1.4",
       "children": [
        "IPY_MODEL_7b6d24085cd74e849652e25626510bd5",
        "IPY_MODEL_b8ba7c12c4f744db9116f1d5efe9d9c8"
       ],
       "layout": "IPY_MODEL_64b4bd08f2284e01b7f02e9b71c20400"
      }
     },
     "5836d8eec7b947c0ba5e67c2ed88640d": {
      "model_module": "jupyter-js-widgets",
      "model_module_version": "~2.1.4",
      "model_name": "LayoutModel",
      "state": {
       "_model_module_version": "~2.1.4",
       "_view_module_version": "~2.1.4"
      }
     },
     "5924d9d5ef8a41db9437db4a51c20c1a": {
      "model_module": "jupyter-js-widgets",
      "model_module_version": "~2.1.4",
      "model_name": "LayoutModel",
      "state": {
       "_model_module_version": "~2.1.4",
       "_view_module_version": "~2.1.4"
      }
     },
     "5948955be6c04105a302c068af8e0521": {
      "model_module": "jupyter-js-widgets",
      "model_module_version": "~2.1.4",
      "model_name": "LayoutModel",
      "state": {
       "_model_module_version": "~2.1.4",
       "_view_module_version": "~2.1.4"
      }
     },
     "59de6da4f0514a839665012e6d9aa216": {
      "model_module": "jupyter-js-widgets",
      "model_module_version": "~2.1.4",
      "model_name": "TextModel",
      "state": {
       "_model_module_version": "~2.1.4",
       "_view_module_version": "~2.1.4",
       "layout": "IPY_MODEL_84ba76af7d194f7e834d103f561c1950",
       "value": "1.57784445658"
      }
     },
     "59e80c97e712433a9a021b893e2ea323": {
      "model_module": "jupyter-js-widgets",
      "model_module_version": "~2.1.4",
      "model_name": "LayoutModel",
      "state": {
       "_model_module_version": "~2.1.4",
       "_view_module_version": "~2.1.4"
      }
     },
     "59e903c53e8142bba739a7ea2eed9eaa": {
      "model_module": "jupyter-js-widgets",
      "model_module_version": "~2.1.4",
      "model_name": "LayoutModel",
      "state": {
       "_model_module_version": "~2.1.4",
       "_view_module_version": "~2.1.4"
      }
     },
     "5a0cd73a6b4f49fdbe62a1a2910ed295": {
      "model_module": "jupyter-js-widgets",
      "model_module_version": "~2.1.4",
      "model_name": "LayoutModel",
      "state": {
       "_model_module_version": "~2.1.4",
       "_view_module_version": "~2.1.4"
      }
     },
     "5a7b4ffce76a49659336406fe37c1aa1": {
      "model_module": "jupyter-js-widgets",
      "model_module_version": "~2.1.4",
      "model_name": "LayoutModel",
      "state": {
       "_model_module_version": "~2.1.4",
       "_view_module_version": "~2.1.4"
      }
     },
     "5a95763a478346bda3f0a8a30a99dba1": {
      "model_module": "jupyter-js-widgets",
      "model_module_version": "~2.1.4",
      "model_name": "LayoutModel",
      "state": {
       "_model_module_version": "~2.1.4",
       "_view_module_version": "~2.1.4"
      }
     },
     "5bc5b486c83a4a53bab96de416feba2e": {
      "model_module": "jupyter-js-widgets",
      "model_module_version": "~2.1.4",
      "model_name": "HBoxModel",
      "state": {
       "_model_module_version": "~2.1.4",
       "_view_module_version": "~2.1.4",
       "children": [
        "IPY_MODEL_bccb8e009b1943b3a16360c673dcab18",
        "IPY_MODEL_12db0b2c4a284d1da00c56d836082583"
       ],
       "layout": "IPY_MODEL_5d26f203adea4b74a25264a1ee931acb"
      }
     },
     "5c40b05315474a65859287681725f8fc": {
      "model_module": "jupyter-js-widgets",
      "model_module_version": "~2.1.4",
      "model_name": "LayoutModel",
      "state": {
       "_model_module_version": "~2.1.4",
       "_view_module_version": "~2.1.4"
      }
     },
     "5c7b46f3ee87465bbaf740cee1ea4c4f": {
      "model_module": "jupyter-js-widgets",
      "model_module_version": "~2.1.4",
      "model_name": "LayoutModel",
      "state": {
       "_model_module_version": "~2.1.4",
       "_view_module_version": "~2.1.4"
      }
     },
     "5ce33f33f3b341bdb0f4215c6f4c4c54": {
      "model_module": "jupyter-js-widgets",
      "model_module_version": "~2.1.4",
      "model_name": "LayoutModel",
      "state": {
       "_model_module_version": "~2.1.4",
       "_view_module_version": "~2.1.4"
      }
     },
     "5ce7aca27f2e4c6b8d8aa52f2753a765": {
      "model_module": "jupyter-js-widgets",
      "model_module_version": "~2.1.4",
      "model_name": "LayoutModel",
      "state": {
       "_model_module_version": "~2.1.4",
       "_view_module_version": "~2.1.4"
      }
     },
     "5d1efc3ca7da454f8ee26d2e262def51": {
      "model_module": "jupyter-js-widgets",
      "model_module_version": "~2.1.4",
      "model_name": "LayoutModel",
      "state": {
       "_model_module_version": "~2.1.4",
       "_view_module_version": "~2.1.4"
      }
     },
     "5d26f203adea4b74a25264a1ee931acb": {
      "model_module": "jupyter-js-widgets",
      "model_module_version": "~2.1.4",
      "model_name": "LayoutModel",
      "state": {
       "_model_module_version": "~2.1.4",
       "_view_module_version": "~2.1.4"
      }
     },
     "5e46726502544bf1b7d0dd556d6d35d1": {
      "model_module": "jupyter-js-widgets",
      "model_module_version": "~2.1.4",
      "model_name": "LabelModel",
      "state": {
       "_model_module_version": "~2.1.4",
       "_view_module_version": "~2.1.4",
       "layout": "IPY_MODEL_7c1494d65a774286ac31751c8793d395",
       "value": "$$sensor_1$$"
      }
     },
     "5ea66c6ca3694935acb989fc95d093a1": {
      "model_module": "jupyter-js-widgets",
      "model_module_version": "~2.1.4",
      "model_name": "LabelModel",
      "state": {
       "_model_module_version": "~2.1.4",
       "_view_module_version": "~2.1.4",
       "layout": "IPY_MODEL_823ed55ec1fb449dacd0201a6c0f2f91",
       "value": "$$somato_3$$"
      }
     },
     "5ec6bc0d3d3048118449a46bd3e20935": {
      "model_module": "jupyter-js-widgets",
      "model_module_version": "~2.1.4",
      "model_name": "HBoxModel",
      "state": {
       "_model_module_version": "~2.1.4",
       "_view_module_version": "~2.1.4",
       "children": [
        "IPY_MODEL_a48864a8db294cedbd25523861dd8a5d",
        "IPY_MODEL_f1d9ae75c4184d88be1c9639f6fe5a01"
       ],
       "layout": "IPY_MODEL_c35ba7d50c804e4da01b69b902595dd8"
      }
     },
     "5ed238ce044a445884c0cee20b53de8e": {
      "model_module": "jupyter-js-widgets",
      "model_module_version": "~2.1.4",
      "model_name": "LayoutModel",
      "state": {
       "_model_module_version": "~2.1.4",
       "_view_module_version": "~2.1.4"
      }
     },
     "5fae019b0c6647c0862202eee7b3a73a": {
      "model_module": "jupyter-js-widgets",
      "model_module_version": "~2.1.4",
      "model_name": "HBoxModel",
      "state": {
       "_model_module_version": "~2.1.4",
       "_view_module_version": "~2.1.4",
       "children": [
        "IPY_MODEL_5ea66c6ca3694935acb989fc95d093a1",
        "IPY_MODEL_9699005f6926444482b7431de0dede82"
       ],
       "layout": "IPY_MODEL_43ac1f0cea1b4a5e9c20343a33b028f2"
      }
     },
     "5fd55f14677d41b2b0d7613da26eb181": {
      "model_module": "jupyter-js-widgets",
      "model_module_version": "~2.1.4",
      "model_name": "VBoxModel",
      "state": {
       "_model_module_version": "~2.1.4",
       "_view_module_version": "~2.1.4",
       "children": [
        "IPY_MODEL_e367df7014224728bd52d49836171ce0"
       ],
       "layout": "IPY_MODEL_6b1c139b69964197bda99971f3202c7f"
      }
     },
     "6064f3503b884d47a071b32d3bf21426": {
      "model_module": "jupyter-js-widgets",
      "model_module_version": "~2.1.4",
      "model_name": "HBoxModel",
      "state": {
       "_model_module_version": "~2.1.4",
       "_view_module_version": "~2.1.4",
       "children": [
        [
         "IPY_MODEL_85f57eb1b3c04ba79d4983e5c8d51d70",
         "IPY_MODEL_262ecf15a31448d9ae78f256acd2ac3f"
        ],
        "IPY_MODEL_b2844f3098ca4c50a5fad31589778f8c"
       ],
       "layout": "IPY_MODEL_618fcd299f0f419491f6fe0f8e916efc"
      }
     },
     "60aac88a16f2410d9678faa7a69c2b73": {
      "model_module": "jupyter-js-widgets",
      "model_module_version": "~2.1.4",
      "model_name": "TextModel",
      "state": {
       "_model_module_version": "~2.1.4",
       "_view_module_version": "~2.1.4",
       "disabled": true,
       "layout": "IPY_MODEL_777ce9a6df3f4f5f87b50e1d847a136b",
       "value": "Welcome"
      }
     },
     "618fcd299f0f419491f6fe0f8e916efc": {
      "model_module": "jupyter-js-widgets",
      "model_module_version": "~2.1.4",
      "model_name": "LayoutModel",
      "state": {
       "_model_module_version": "~2.1.4",
       "_view_module_version": "~2.1.4"
      }
     },
     "635d62a4e4534fe497fe2575978970e0": {
      "model_module": "jupyter-js-widgets",
      "model_module_version": "~2.1.4",
      "model_name": "LayoutModel",
      "state": {
       "_model_module_version": "~2.1.4",
       "_view_module_version": "~2.1.4"
      }
     },
     "63d0d2243ada488883d141b88b039ebb": {
      "model_module": "jupyter-js-widgets",
      "model_module_version": "~2.1.4",
      "model_name": "LayoutModel",
      "state": {
       "_model_module_version": "~2.1.4",
       "_view_module_version": "~2.1.4"
      }
     },
     "63e8da9ba4cc49ba83608785afc37455": {
      "model_module": "jupyter-js-widgets",
      "model_module_version": "~2.1.4",
      "model_name": "FloatSliderModel",
      "state": {
       "_model_module_version": "~2.1.4",
       "_view_module_version": "~2.1.4",
       "continuous_update": false,
       "description": "$$m_0$$",
       "layout": "IPY_MODEL_45f4f4836d314e52aa9a00d4e439acf2",
       "max": 6,
       "orientation": "vertical",
       "readout_format": "f",
       "slider_color": "white",
       "step": 0.1
      }
     },
     "644785a4d05948b3bdb4c171bcaaadb9": {
      "model_module": "jupyter-js-widgets",
      "model_module_version": "~2.1.4",
      "model_name": "LayoutModel",
      "state": {
       "_model_module_version": "~2.1.4",
       "_view_module_version": "~2.1.4"
      }
     },
     "647f3b13ec664e9ea6a5aeb737822631": {
      "model_module": "jupyter-js-widgets",
      "model_module_version": "~2.1.4",
      "model_name": "FloatSliderModel",
      "state": {
       "_model_module_version": "~2.1.4",
       "_view_module_version": "~2.1.4",
       "continuous_update": false,
       "description": "M0",
       "layout": "IPY_MODEL_4c2fb9971e014773aa7a159ba30e650e",
       "max": 6,
       "orientation": "vertical",
       "readout_format": "f",
       "slider_color": "white",
       "step": 0.1,
       "value": 1.8
      }
     },
     "64b4bd08f2284e01b7f02e9b71c20400": {
      "model_module": "jupyter-js-widgets",
      "model_module_version": "~2.1.4",
      "model_name": "LayoutModel",
      "state": {
       "_model_module_version": "~2.1.4",
       "_view_module_version": "~2.1.4"
      }
     },
     "6529b5490f454197ab18c9e318502412": {
      "model_module": "jupyter-js-widgets",
      "model_module_version": "~2.1.4",
      "model_name": "VBoxModel",
      "state": {
       "_model_module_version": "~2.1.4",
       "_view_module_version": "~2.1.4",
       "children": [
        "IPY_MODEL_026863b1822a4074b384d0fe8439469d",
        "IPY_MODEL_b89274b75eab49a5a86681ee019c05f7",
        "IPY_MODEL_387ae5d3742d470aa73833a143644d53",
        "IPY_MODEL_8f1ee8521dee420588ff4191cdd63ba8",
        "IPY_MODEL_cc6047833ed94c8ebcd6012c776ac85f",
        "IPY_MODEL_f170e34af8c24d9a895f0f4f7a3ba071"
       ],
       "layout": "IPY_MODEL_c7ca75c578dc4683bb41579dfb243bb8"
      }
     },
     "65bf44ebec2546f9ba0bcf3fe09fffd0": {
      "model_module": "jupyter-js-widgets",
      "model_module_version": "~2.1.4",
      "model_name": "LayoutModel",
      "state": {
       "_model_module_version": "~2.1.4",
       "_view_module_version": "~2.1.4"
      }
     },
     "65e3dbcc64da44b3a3cb2f4d86dbc24c": {
      "model_module": "jupyter-js-widgets",
      "model_module_version": "~2.1.4",
      "model_name": "LayoutModel",
      "state": {
       "_model_module_version": "~2.1.4",
       "_view_module_version": "~2.1.4"
      }
     },
     "66ff1c8e7398483eaf40349f393ee728": {
      "model_module": "jupyter-js-widgets",
      "model_module_version": "~2.1.4",
      "model_name": "HBoxModel",
      "state": {
       "_model_module_version": "~2.1.4",
       "_view_module_version": "~2.1.4",
       "children": [
        "IPY_MODEL_95c5d9902c284f0d807c26fc3ef5e8e9",
        "IPY_MODEL_bec40f4981c84faa8c45cb6a7ed75697"
       ],
       "layout": "IPY_MODEL_6c2214ba8acb45fd88c8419c2053781e"
      }
     },
     "676236d283b447bfb8d889c25fe8e137": {
      "model_module": "jupyter-js-widgets",
      "model_module_version": "~2.1.4",
      "model_name": "LayoutModel",
      "state": {
       "_model_module_version": "~2.1.4",
       "_view_module_version": "~2.1.4"
      }
     },
     "69aaa37359f0441786d9bb0a5817b00c": {
      "model_module": "jupyter-js-widgets",
      "model_module_version": "~2.1.4",
      "model_name": "HBoxModel",
      "state": {
       "_model_module_version": "~2.1.4",
       "_view_module_version": "~2.1.4",
       "children": [
        "IPY_MODEL_8344ca3adc4c46ada7ae4a98c3f8bd49",
        "IPY_MODEL_d1a0138c9e15451999de246861a78b6f"
       ],
       "layout": "IPY_MODEL_df8c339b09cf496e931a03c51ad1249c"
      }
     },
     "6a18863295d245878b08f5f4587b2f68": {
      "model_module": "jupyter-js-widgets",
      "model_module_version": "~2.1.4",
      "model_name": "LabelModel",
      "state": {
       "_model_module_version": "~2.1.4",
       "_view_module_version": "~2.1.4",
       "layout": "IPY_MODEL_ece451cf2f0b47f59461fa14580fff83",
       "value": "$$somato_2$$"
      }
     },
     "6a4d3a999aba4d9084bd00b98aa999b3": {
      "model_module": "jupyter-js-widgets",
      "model_module_version": "~2.1.4",
      "model_name": "LayoutModel",
      "state": {
       "_model_module_version": "~2.1.4",
       "_view_module_version": "~2.1.4"
      }
     },
     "6ac2bb0defce4fdbbbf11143ac5573fa": {
      "model_module": "jupyter-js-widgets",
      "model_module_version": "~2.1.4",
      "model_name": "LayoutModel",
      "state": {
       "_model_module_version": "~2.1.4",
       "_view_module_version": "~2.1.4"
      }
     },
     "6b1c139b69964197bda99971f3202c7f": {
      "model_module": "jupyter-js-widgets",
      "model_module_version": "~2.1.4",
      "model_name": "LayoutModel",
      "state": {
       "_model_module_version": "~2.1.4",
       "_view_module_version": "~2.1.4"
      }
     },
     "6c2214ba8acb45fd88c8419c2053781e": {
      "model_module": "jupyter-js-widgets",
      "model_module_version": "~2.1.4",
      "model_name": "LayoutModel",
      "state": {
       "_model_module_version": "~2.1.4",
       "_view_module_version": "~2.1.4"
      }
     },
     "6ccbe3289d0d4f20bf2ec91e522dff6e": {
      "model_module": "jupyter-js-widgets",
      "model_module_version": "~2.1.4",
      "model_name": "LayoutModel",
      "state": {
       "_model_module_version": "~2.1.4",
       "_view_module_version": "~2.1.4"
      }
     },
     "6d4811639f18496b93d12568c0fac54e": {
      "model_module": "jupyter-js-widgets",
      "model_module_version": "~2.1.4",
      "model_name": "LayoutModel",
      "state": {
       "_model_module_version": "~2.1.4",
       "_view_module_version": "~2.1.4"
      }
     },
     "6e0be7ddf6b7483999dbdb3c9019ea6c": {
      "model_module": "jupyter-js-widgets",
      "model_module_version": "~2.1.4",
      "model_name": "LayoutModel",
      "state": {
       "_model_module_version": "~2.1.4",
       "_view_module_version": "~2.1.4"
      }
     },
     "6e1900ada58d484a87fa84e57eb69db0": {
      "model_module": "jupyter-js-widgets",
      "model_module_version": "~2.1.4",
      "model_name": "TextModel",
      "state": {
       "_model_module_version": "~2.1.4",
       "_view_module_version": "~2.1.4",
       "layout": "IPY_MODEL_2194cbfa656f4bb1b84d501209f8ff67",
       "value": "1.44224018842"
      }
     },
     "6e306caf98e049728ec68b8a87254138": {
      "model_module": "jupyter-js-widgets",
      "model_module_version": "~2.1.4",
      "model_name": "LayoutModel",
      "state": {
       "_model_module_version": "~2.1.4",
       "_view_module_version": "~2.1.4"
      }
     },
     "6ed81a0c0ed749f4bc09109c1dbfaa2d": {
      "model_module": "jupyter-js-widgets",
      "model_module_version": "~2.1.4",
      "model_name": "LayoutModel",
      "state": {
       "_model_module_version": "~2.1.4",
       "_view_module_version": "~2.1.4"
      }
     },
     "6ee7bb926e9b4c758b5dd3854ef211d7": {
      "model_module": "jupyter-js-widgets",
      "model_module_version": "~2.1.4",
      "model_name": "HBoxModel",
      "state": {
       "_model_module_version": "~2.1.4",
       "_view_module_version": "~2.1.4",
       "children": [
        "IPY_MODEL_2e6344df60a44d2594392beb066502cb",
        "IPY_MODEL_5fd55f14677d41b2b0d7613da26eb181"
       ],
       "layout": "IPY_MODEL_822bb9468dd1464bbeb8d1f18a54ca1f"
      }
     },
     "6fd390267b344b7aa42e3cfd0724af21": {
      "model_module": "jupyter-js-widgets",
      "model_module_version": "~2.1.4",
      "model_name": "LayoutModel",
      "state": {
       "_model_module_version": "~2.1.4",
       "_view_module_version": "~2.1.4"
      }
     },
     "7018aacfb2e84aa49f14ef1f2d116649": {
      "model_module": "jupyter-js-widgets",
      "model_module_version": "~2.1.4",
      "model_name": "LabelModel",
      "state": {
       "_model_module_version": "~2.1.4",
       "_view_module_version": "~2.1.4",
       "layout": "IPY_MODEL_c0ad5e238b614a929eb39ebbcdcac400",
       "value": "$$sensor_2$$"
      }
     },
     "7072feb234f74eef90d3fd64d7098cac": {
      "model_module": "jupyter-js-widgets",
      "model_module_version": "~2.1.4",
      "model_name": "LayoutModel",
      "state": {
       "_model_module_version": "~2.1.4",
       "_view_module_version": "~2.1.4"
      }
     },
     "70e1e957bf16443cbb2766e5b03c47bc": {
      "model_module": "jupyter-js-widgets",
      "model_module_version": "~2.1.4",
      "model_name": "TextModel",
      "state": {
       "_model_module_version": "~2.1.4",
       "_view_module_version": "~2.1.4",
       "disabled": true,
       "layout": "IPY_MODEL_2a60561e3e06412cb292d49a3432c8d9",
       "value": "Welcome"
      }
     },
     "73b40381ab404039bec3f71e4c9a2bd2": {
      "model_module": "jupyter-js-widgets",
      "model_module_version": "~2.1.4",
      "model_name": "LayoutModel",
      "state": {
       "_model_module_version": "~2.1.4",
       "_view_module_version": "~2.1.4"
      }
     },
     "7405e928292842788c01ced0bc2112aa": {
      "model_module": "jupyter-js-widgets",
      "model_module_version": "~2.1.4",
      "model_name": "LayoutModel",
      "state": {
       "_model_module_version": "~2.1.4",
       "_view_module_version": "~2.1.4"
      }
     },
     "74091e94208447e2a8965b3cb580a4bd": {
      "model_module": "jupyter-js-widgets",
      "model_module_version": "~2.1.4",
      "model_name": "LayoutModel",
      "state": {
       "_model_module_version": "~2.1.4",
       "_view_module_version": "~2.1.4"
      }
     },
     "74188a0e639a41b7ac86c2b3afe5459f": {
      "model_module": "jupyter-js-widgets",
      "model_module_version": "~2.1.4",
      "model_name": "LabelModel",
      "state": {
       "_model_module_version": "~2.1.4",
       "_view_module_version": "~2.1.4",
       "layout": "IPY_MODEL_0932bb18413247a4a006d3bf6b8c0c91",
       "value": "$$somato_1$$"
      }
     },
     "744bf690682e4b1897c8fb3eb1e2fe83": {
      "model_module": "jupyter-js-widgets",
      "model_module_version": "~2.1.4",
      "model_name": "HBoxModel",
      "state": {
       "_model_module_version": "~2.1.4",
       "_view_module_version": "~2.1.4",
       "children": [
        "IPY_MODEL_1c9449e8476b4f2d9e994697d20a2734",
        "IPY_MODEL_2ea60a5914374f53aa900ca9fb486858"
       ],
       "layout": "IPY_MODEL_c36f088c0f6a4f26838601842892e44c"
      }
     },
     "759a491fa5874afa93422ef239b3df0d": {
      "model_module": "jupyter-js-widgets",
      "model_module_version": "~2.1.4",
      "model_name": "LayoutModel",
      "state": {
       "_model_module_version": "~2.1.4",
       "_view_module_version": "~2.1.4"
      }
     },
     "75dd14843d534715bf9934c1b64cd458": {
      "model_module": "jupyter-js-widgets",
      "model_module_version": "~2.1.4",
      "model_name": "LayoutModel",
      "state": {
       "_model_module_version": "~2.1.4",
       "_view_module_version": "~2.1.4"
      }
     },
     "761d1e5a5baa4e9694b6f88f31e17534": {
      "model_module": "jupyter-js-widgets",
      "model_module_version": "~2.1.4",
      "model_name": "HBoxModel",
      "state": {
       "_model_module_version": "~2.1.4",
       "_view_module_version": "~2.1.4",
       "children": [
        "IPY_MODEL_c2702d2015c344a3832f512e2479614c",
        "IPY_MODEL_845de3c04cff49118ab6de9d3ae838fa"
       ],
       "layout": "IPY_MODEL_8c08a3188ee74904a14b09b3ca470a4c"
      }
     },
     "777363fbb247464580fbc627789d5e90": {
      "model_module": "jupyter-js-widgets",
      "model_module_version": "~2.1.4",
      "model_name": "TextModel",
      "state": {
       "_model_module_version": "~2.1.4",
       "_view_module_version": "~2.1.4",
       "disabled": true,
       "layout": "IPY_MODEL_1e220d15f6b540c6a858264cbac513fa",
       "value": "Welcome"
      }
     },
     "777ce9a6df3f4f5f87b50e1d847a136b": {
      "model_module": "jupyter-js-widgets",
      "model_module_version": "~2.1.4",
      "model_name": "LayoutModel",
      "state": {
       "_model_module_version": "~2.1.4",
       "_view_module_version": "~2.1.4"
      }
     },
     "778d0e86ac6049c3b94d6b297bfe060d": {
      "model_module": "jupyter-js-widgets",
      "model_module_version": "~2.1.4",
      "model_name": "HBoxModel",
      "state": {
       "_model_module_version": "~2.1.4",
       "_view_module_version": "~2.1.4",
       "children": [
        "IPY_MODEL_e8d1cdd29b7148168bfe1d8c43b0fffb",
        "IPY_MODEL_6529b5490f454197ab18c9e318502412"
       ],
       "layout": "IPY_MODEL_9e79e306be5c48bb8cf4b361a9ab28a4"
      }
     },
     "78a2c84f542e4a40b8838df160a0458a": {
      "model_module": "jupyter-js-widgets",
      "model_module_version": "~2.1.4",
      "model_name": "LayoutModel",
      "state": {
       "_model_module_version": "~2.1.4",
       "_view_module_version": "~2.1.4"
      }
     },
     "78ab8daa25dc48de96f14afebd676378": {
      "model_module": "jupyter-js-widgets",
      "model_module_version": "~2.1.4",
      "model_name": "LayoutModel",
      "state": {
       "_model_module_version": "~2.1.4",
       "_view_module_version": "~2.1.4"
      }
     },
     "7962310d21d44e89a71a79b4f01e8455": {
      "model_module": "jupyter-js-widgets",
      "model_module_version": "~2.1.4",
      "model_name": "LayoutModel",
      "state": {
       "_model_module_version": "~2.1.4",
       "_view_module_version": "~2.1.4"
      }
     },
     "7a5fce2348d042fcaeeee2ea377dc172": {
      "model_module": "jupyter-js-widgets",
      "model_module_version": "~2.1.4",
      "model_name": "LayoutModel",
      "state": {
       "_model_module_version": "~2.1.4",
       "_view_module_version": "~2.1.4"
      }
     },
     "7a63a262d2b044e8811e463c4c5c7a8f": {
      "model_module": "jupyter-js-widgets",
      "model_module_version": "~2.1.4",
      "model_name": "TextModel",
      "state": {
       "_model_module_version": "~2.1.4",
       "_view_module_version": "~2.1.4",
       "disabled": true,
       "layout": "IPY_MODEL_2ffdabff36ad424f80c35f67fa2b7f9e",
       "value": "1.38512396623"
      }
     },
     "7a95d0dbfedf4bb09e8896527bfd554d": {
      "model_module": "jupyter-js-widgets",
      "model_module_version": "~2.1.4",
      "model_name": "TextModel",
      "state": {
       "_model_module_version": "~2.1.4",
       "_view_module_version": "~2.1.4",
       "disabled": true,
       "layout": "IPY_MODEL_53553ff1e5fb40878b95dc28b377c6da",
       "value": "Welcome"
      }
     },
     "7b4a4f5347404b0bb06c18d8458703ca": {
      "model_module": "jupyter-js-widgets",
      "model_module_version": "~2.1.4",
      "model_name": "HBoxModel",
      "state": {
       "_model_module_version": "~2.1.4",
       "_view_module_version": "~2.1.4",
       "children": [
        [
         "IPY_MODEL_85f57eb1b3c04ba79d4983e5c8d51d70",
         "IPY_MODEL_262ecf15a31448d9ae78f256acd2ac3f"
        ]
       ],
       "layout": "IPY_MODEL_1dae36007784477a9e593434688309af"
      }
     },
     "7b6d24085cd74e849652e25626510bd5": {
      "model_module": "jupyter-js-widgets",
      "model_module_version": "~2.1.4",
      "model_name": "LabelModel",
      "state": {
       "_model_module_version": "~2.1.4",
       "_view_module_version": "~2.1.4",
       "layout": "IPY_MODEL_dd981c68bcc7489ca64d91d11c8104a3",
       "value": "$$somato_1$$"
      }
     },
     "7c1494d65a774286ac31751c8793d395": {
      "model_module": "jupyter-js-widgets",
      "model_module_version": "~2.1.4",
      "model_name": "LayoutModel",
      "state": {
       "_model_module_version": "~2.1.4",
       "_view_module_version": "~2.1.4"
      }
     },
     "7eb80362dbf94cf59f2d4e05be55a74e": {
      "model_module": "jupyter-js-widgets",
      "model_module_version": "~2.1.4",
      "model_name": "HBoxModel",
      "state": {
       "_model_module_version": "~2.1.4",
       "_view_module_version": "~2.1.4",
       "children": [
        "IPY_MODEL_7f4033dacfa54853bfce7fa006c37f30",
        "IPY_MODEL_7a95d0dbfedf4bb09e8896527bfd554d"
       ],
       "layout": "IPY_MODEL_bd18c3cda23b427986a03c64a04f6e60"
      }
     },
     "7ec931492b7041a39bf04595b0fc1213": {
      "model_module": "jupyter-js-widgets",
      "model_module_version": "~2.1.4",
      "model_name": "VBoxModel",
      "state": {
       "_model_module_version": "~2.1.4",
       "_view_module_version": "~2.1.4",
       "children": [
        "IPY_MODEL_d55555e066dd42d8ad41398fa35f04bc",
        "IPY_MODEL_1713a5e2bb3d48a3af82e102fc2c41aa",
        "IPY_MODEL_e933db7264724b1d9c3b934ccc48a5b1",
        "IPY_MODEL_c03892d3cd58480f99a462d77985aaab",
        "IPY_MODEL_7eb80362dbf94cf59f2d4e05be55a74e",
        "IPY_MODEL_8827800f734c4f55846b08c34ea4908c"
       ],
       "layout": "IPY_MODEL_6a4d3a999aba4d9084bd00b98aa999b3"
      }
     },
     "7eca1e6823f14ebeb42771ec4f5e2931": {
      "model_module": "jupyter-js-widgets",
      "model_module_version": "~2.1.4",
      "model_name": "LayoutModel",
      "state": {
       "_model_module_version": "~2.1.4",
       "_view_module_version": "~2.1.4"
      }
     },
     "7f4033dacfa54853bfce7fa006c37f30": {
      "model_module": "jupyter-js-widgets",
      "model_module_version": "~2.1.4",
      "model_name": "LabelModel",
      "state": {
       "_model_module_version": "~2.1.4",
       "_view_module_version": "~2.1.4",
       "layout": "IPY_MODEL_d57df681be8d4d7b8b2aad78e72cc655",
       "value": "$$somato_3$$"
      }
     },
     "7f98feaa28f84da89dde4ac0389a8d6c": {
      "model_module": "jupyter-js-widgets",
      "model_module_version": "~2.1.4",
      "model_name": "LayoutModel",
      "state": {
       "_model_module_version": "~2.1.4",
       "_view_module_version": "~2.1.4"
      }
     },
     "7fbe2da8a4464575b2b7a791d83bf5de": {
      "model_module": "jupyter-js-widgets",
      "model_module_version": "~2.1.4",
      "model_name": "HBoxModel",
      "state": {
       "_model_module_version": "~2.1.4",
       "_view_module_version": "~2.1.4",
       "children": [
        "IPY_MODEL_85f57eb1b3c04ba79d4983e5c8d51d70",
        "IPY_MODEL_262ecf15a31448d9ae78f256acd2ac3f"
       ],
       "layout": "IPY_MODEL_0fe28a96eecc43e2b1c63488ed1163af"
      }
     },
     "822bb9468dd1464bbeb8d1f18a54ca1f": {
      "model_module": "jupyter-js-widgets",
      "model_module_version": "~2.1.4",
      "model_name": "LayoutModel",
      "state": {
       "_model_module_version": "~2.1.4",
       "_view_module_version": "~2.1.4"
      }
     },
     "823ed55ec1fb449dacd0201a6c0f2f91": {
      "model_module": "jupyter-js-widgets",
      "model_module_version": "~2.1.4",
      "model_name": "LayoutModel",
      "state": {
       "_model_module_version": "~2.1.4",
       "_view_module_version": "~2.1.4"
      }
     },
     "825a49c2f3f146fea09e4bf791553d97": {
      "model_module": "jupyter-js-widgets",
      "model_module_version": "~2.1.4",
      "model_name": "LayoutModel",
      "state": {
       "_model_module_version": "~2.1.4",
       "_view_module_version": "~2.1.4"
      }
     },
     "825f7d732fa14bc9b61a1ef079082305": {
      "model_module": "jupyter-js-widgets",
      "model_module_version": "~2.1.4",
      "model_name": "FloatSliderModel",
      "state": {
       "_model_module_version": "~2.1.4",
       "_view_module_version": "~2.1.4",
       "continuous_update": false,
       "description": "M1",
       "layout": "IPY_MODEL_1e1a8fb595724c87ba47354806827aeb",
       "max": 6,
       "orientation": "vertical",
       "readout_format": "f",
       "slider_color": "white",
       "step": 0.1
      }
     },
     "82d7de39c98349958dbcd7577ff79d62": {
      "model_module": "jupyter-js-widgets",
      "model_module_version": "~2.1.4",
      "model_name": "LayoutModel",
      "state": {
       "_model_module_version": "~2.1.4",
       "_view_module_version": "~2.1.4"
      }
     },
     "8344ca3adc4c46ada7ae4a98c3f8bd49": {
      "model_module": "jupyter-js-widgets",
      "model_module_version": "~2.1.4",
      "model_name": "LabelModel",
      "state": {
       "_model_module_version": "~2.1.4",
       "_view_module_version": "~2.1.4",
       "layout": "IPY_MODEL_ab315ec8f3cf4e66ba1997f5f03e41b0",
       "value": "$$somato_2$$"
      }
     },
     "8357f0f33a1b4e049b54392e7e6bfabf": {
      "model_module": "jupyter-js-widgets",
      "model_module_version": "~2.1.4",
      "model_name": "LayoutModel",
      "state": {
       "_model_module_version": "~2.1.4",
       "_view_module_version": "~2.1.4"
      }
     },
     "8373cfa1385344eda6283fb37539aca0": {
      "model_module": "jupyter-js-widgets",
      "model_module_version": "~2.1.4",
      "model_name": "LabelModel",
      "state": {
       "_model_module_version": "~2.1.4",
       "_view_module_version": "~2.1.4",
       "layout": "IPY_MODEL_6ccbe3289d0d4f20bf2ec91e522dff6e",
       "value": "$$somato_2$$"
      }
     },
     "83c3097208d8493ca377b30518081077": {
      "model_module": "jupyter-js-widgets",
      "model_module_version": "~2.1.4",
      "model_name": "HBoxModel",
      "state": {
       "_model_module_version": "~2.1.4",
       "_view_module_version": "~2.1.4",
       "children": [
        "IPY_MODEL_072c82f656904734a617910410afd72c",
        "IPY_MODEL_140e1e9456694ad980c7526829ff482a"
       ],
       "layout": "IPY_MODEL_73b40381ab404039bec3f71e4c9a2bd2"
      }
     },
     "843d2a8872fb4d7ebacb7862dd7718f4": {
      "model_module": "jupyter-js-widgets",
      "model_module_version": "~2.1.4",
      "model_name": "LayoutModel",
      "state": {
       "_model_module_version": "~2.1.4",
       "_view_module_version": "~2.1.4"
      }
     },
     "845de3c04cff49118ab6de9d3ae838fa": {
      "model_module": "jupyter-js-widgets",
      "model_module_version": "~2.1.4",
      "model_name": "TextModel",
      "state": {
       "_model_module_version": "~2.1.4",
       "_view_module_version": "~2.1.4",
       "layout": "IPY_MODEL_207b5c62c2b643af95cf9c1ecc4b879b",
       "value": "kjb2.33498860298"
      }
     },
     "84986d45fe7545049643779fb61ab77c": {
      "model_module": "jupyter-js-widgets",
      "model_module_version": "~2.1.4",
      "model_name": "LayoutModel",
      "state": {
       "_model_module_version": "~2.1.4",
       "_view_module_version": "~2.1.4"
      }
     },
     "84ba76af7d194f7e834d103f561c1950": {
      "model_module": "jupyter-js-widgets",
      "model_module_version": "~2.1.4",
      "model_name": "LayoutModel",
      "state": {
       "_model_module_version": "~2.1.4",
       "_view_module_version": "~2.1.4"
      }
     },
     "85699e28cd2d43a9afa8430657105bec": {
      "model_module": "jupyter-js-widgets",
      "model_module_version": "~2.1.4",
      "model_name": "TextModel",
      "state": {
       "_model_module_version": "~2.1.4",
       "_view_module_version": "~2.1.4",
       "disabled": true,
       "layout": "IPY_MODEL_014ec482f2d84d999d03d06ecf70f0d1",
       "value": "0.422333936847"
      }
     },
     "85abed24feff4e288cae1ef5c0123a14": {
      "model_module": "jupyter-js-widgets",
      "model_module_version": "~2.1.4",
      "model_name": "LayoutModel",
      "state": {
       "_model_module_version": "~2.1.4",
       "_view_module_version": "~2.1.4"
      }
     },
     "85bcace0e43141bd9ed8af0ca0012ede": {
      "model_module": "jupyter-js-widgets",
      "model_module_version": "~2.1.4",
      "model_name": "LayoutModel",
      "state": {
       "_model_module_version": "~2.1.4",
       "_view_module_version": "~2.1.4"
      }
     },
     "85e07b4cd4e44694a25625db4db7e8f3": {
      "model_module": "jupyter-js-widgets",
      "model_module_version": "~2.1.4",
      "model_name": "FloatSliderModel",
      "state": {
       "_model_module_version": "~2.1.4",
       "_view_module_version": "~2.1.4",
       "continuous_update": false,
       "description": "M0",
       "layout": "IPY_MODEL_2d1031ade33047adaec729b1aa119205",
       "max": 6,
       "orientation": "vertical",
       "readout_format": "f",
       "slider_color": "white",
       "step": 0.1,
       "value": 2.1
      }
     },
     "85f57eb1b3c04ba79d4983e5c8d51d70": {
      "model_module": "jupyter-js-widgets",
      "model_module_version": "~2.1.4",
      "model_name": "FloatSliderModel",
      "state": {
       "_model_module_version": "~2.1.4",
       "_view_module_version": "~2.1.4",
       "continuous_update": false,
       "description": "M0",
       "layout": "IPY_MODEL_b17006a7092e4536b99dd2764c02dbf2",
       "max": 6,
       "orientation": "vertical",
       "readout_format": "f",
       "slider_color": "white",
       "step": 0.1
      }
     },
     "8601bdc85edc44808cb62f745bffe0d8": {
      "model_module": "jupyter-js-widgets",
      "model_module_version": "~2.1.4",
      "model_name": "LabelModel",
      "state": {
       "_model_module_version": "~2.1.4",
       "_view_module_version": "~2.1.4",
       "layout": "IPY_MODEL_cea79d28cd3b4db786eee39f098cd44f",
       "value": "$$somato_2$$"
      }
     },
     "8827800f734c4f55846b08c34ea4908c": {
      "model_module": "jupyter-js-widgets",
      "model_module_version": "~2.1.4",
      "model_name": "HBoxModel",
      "state": {
       "_model_module_version": "~2.1.4",
       "_view_module_version": "~2.1.4",
       "children": [
        "IPY_MODEL_1daed8f8e6a64cd09c93870afe684061",
        "IPY_MODEL_8839a994e0ef42bc933d9d1ff85e5a5f"
       ],
       "layout": "IPY_MODEL_2a56043aa6d84619a6ba66e2c0b81fd8"
      }
     },
     "8839a994e0ef42bc933d9d1ff85e5a5f": {
      "model_module": "jupyter-js-widgets",
      "model_module_version": "~2.1.4",
      "model_name": "TextModel",
      "state": {
       "_model_module_version": "~2.1.4",
       "_view_module_version": "~2.1.4",
       "disabled": true,
       "layout": "IPY_MODEL_23c6a837f41e4034ba80b690545f7274",
       "value": "Welcome"
      }
     },
     "888b4ccee1f74ad982ccc2e335a65e9b": {
      "model_module": "jupyter-js-widgets",
      "model_module_version": "~2.1.4",
      "model_name": "LayoutModel",
      "state": {
       "_model_module_version": "~2.1.4",
       "_view_module_version": "~2.1.4"
      }
     },
     "88dd4cfcf59b4505a5789843e9d23014": {
      "model_module": "jupyter-js-widgets",
      "model_module_version": "~2.1.4",
      "model_name": "LabelModel",
      "state": {
       "_model_module_version": "~2.1.4",
       "_view_module_version": "~2.1.4",
       "layout": "IPY_MODEL_cbc194aa1e9448829266ef67f4712695",
       "value": "$$sensor_2$$"
      }
     },
     "8936bf7dc8354584b2b28a71da4b7b51": {
      "model_module": "jupyter-js-widgets",
      "model_module_version": "~2.1.4",
      "model_name": "HBoxModel",
      "state": {
       "_model_module_version": "~2.1.4",
       "_view_module_version": "~2.1.4",
       "children": [
        "IPY_MODEL_ab5f659970ec461d97d05b5834241fe7",
        "IPY_MODEL_b8ba7c12c4f744db9116f1d5efe9d9c8"
       ],
       "layout": "IPY_MODEL_a970e9aa2d3c4fef9fda2eb5ff74b832"
      }
     },
     "8a1475282edf4f0b9714f959e7a6cafc": {
      "model_module": "jupyter-js-widgets",
      "model_module_version": "~2.1.4",
      "model_name": "LayoutModel",
      "state": {
       "_model_module_version": "~2.1.4",
       "_view_module_version": "~2.1.4"
      }
     },
     "8a1d79033eb44da69f29e08f1345ce8d": {
      "model_module": "jupyter-js-widgets",
      "model_module_version": "~2.1.4",
      "model_name": "LayoutModel",
      "state": {
       "_model_module_version": "~2.1.4",
       "_view_module_version": "~2.1.4"
      }
     },
     "8a41711480ce41d59f3bcc77821c61cd": {
      "model_module": "jupyter-js-widgets",
      "model_module_version": "~2.1.4",
      "model_name": "LabelModel",
      "state": {
       "_model_module_version": "~2.1.4",
       "_view_module_version": "~2.1.4",
       "layout": "IPY_MODEL_4a61462f541349709b5b4a69fc656d19",
       "value": "$$sensor_1$$"
      }
     },
     "8a89906c4bfd407dad168ebe6f1e028a": {
      "model_module": "jupyter-js-widgets",
      "model_module_version": "~2.1.4",
      "model_name": "LabelModel",
      "state": {
       "_model_module_version": "~2.1.4",
       "_view_module_version": "~2.1.4",
       "layout": "IPY_MODEL_59e903c53e8142bba739a7ea2eed9eaa",
       "value": "$$sensor_1$$"
      }
     },
     "8aeb01d1156641f4880199b419e8b0dc": {
      "model_module": "jupyter-js-widgets",
      "model_module_version": "~2.1.4",
      "model_name": "LayoutModel",
      "state": {
       "_model_module_version": "~2.1.4",
       "_view_module_version": "~2.1.4"
      }
     },
     "8b6ca34fac4a4545b5326870493d5df8": {
      "model_module": "jupyter-js-widgets",
      "model_module_version": "~2.1.4",
      "model_name": "HBoxModel",
      "state": {
       "_model_module_version": "~2.1.4",
       "_view_module_version": "~2.1.4",
       "children": [
        "IPY_MODEL_aff8e95e4e314702bc4d8f749e61fdd7",
        "IPY_MODEL_f1d9ae75c4184d88be1c9639f6fe5a01"
       ],
       "layout": "IPY_MODEL_13a31859b4b6444cb435c1f310c2b8e5"
      }
     },
     "8c08a3188ee74904a14b09b3ca470a4c": {
      "model_module": "jupyter-js-widgets",
      "model_module_version": "~2.1.4",
      "model_name": "LayoutModel",
      "state": {
       "_model_module_version": "~2.1.4",
       "_view_module_version": "~2.1.4"
      }
     },
     "8df5ab5528054dd5b442c4b1a2064e0d": {
      "model_module": "jupyter-js-widgets",
      "model_module_version": "~2.1.4",
      "model_name": "HBoxModel",
      "state": {
       "_model_module_version": "~2.1.4",
       "_view_module_version": "~2.1.4",
       "children": [
        "IPY_MODEL_a1720230ccff4722aa310284a50d40fc",
        "IPY_MODEL_6e1900ada58d484a87fa84e57eb69db0"
       ],
       "layout": "IPY_MODEL_497f4f7fafc441b3857e563105b64227"
      }
     },
     "8e060cfd78e844e0bc4969cd30b3f3c1": {
      "model_module": "jupyter-js-widgets",
      "model_module_version": "~2.1.4",
      "model_name": "LayoutModel",
      "state": {
       "_model_module_version": "~2.1.4",
       "_view_module_version": "~2.1.4"
      }
     },
     "8f1ee8521dee420588ff4191cdd63ba8": {
      "model_module": "jupyter-js-widgets",
      "model_module_version": "~2.1.4",
      "model_name": "HBoxModel",
      "state": {
       "_model_module_version": "~2.1.4",
       "_view_module_version": "~2.1.4",
       "children": [
        "IPY_MODEL_8344ca3adc4c46ada7ae4a98c3f8bd49",
        "IPY_MODEL_6e1900ada58d484a87fa84e57eb69db0"
       ],
       "layout": "IPY_MODEL_74091e94208447e2a8965b3cb580a4bd"
      }
     },
     "8f3c81bd953b4555a74f88e4d79538df": {
      "model_module": "jupyter-js-widgets",
      "model_module_version": "~2.1.4",
      "model_name": "HBoxModel",
      "state": {
       "_model_module_version": "~2.1.4",
       "_view_module_version": "~2.1.4",
       "children": [
        "IPY_MODEL_0bc2d6fc34bc4f7092bfb3d62bd2c292",
        "IPY_MODEL_59de6da4f0514a839665012e6d9aa216"
       ],
       "layout": "IPY_MODEL_a6d742ba577f493d95d6728bfa5180fc"
      }
     },
     "8fb24d6fc48040e182eb55bd5f681e41": {
      "model_module": "jupyter-js-widgets",
      "model_module_version": "~2.1.4",
      "model_name": "LayoutModel",
      "state": {
       "_model_module_version": "~2.1.4",
       "_view_module_version": "~2.1.4"
      }
     },
     "9225258f565b4c61b75b008c0c64a392": {
      "model_module": "jupyter-js-widgets",
      "model_module_version": "~2.1.4",
      "model_name": "HBoxModel",
      "state": {
       "_model_module_version": "~2.1.4",
       "_view_module_version": "~2.1.4",
       "children": [
        "IPY_MODEL_0a30a3f18afc4be49b2f145da058b457",
        "IPY_MODEL_dfe2106e24504f89bca419f0b32422a4"
       ],
       "layout": "IPY_MODEL_520ec2492a27455aa61079b345ede1e9"
      }
     },
     "925b0d942eb44324bcc80ebcbc0b4380": {
      "model_module": "jupyter-js-widgets",
      "model_module_version": "~2.1.4",
      "model_name": "HBoxModel",
      "state": {
       "_model_module_version": "~2.1.4",
       "_view_module_version": "~2.1.4",
       "children": [
        "IPY_MODEL_ff9ad94ec030482e9c5c91eb788405a9",
        "IPY_MODEL_b8ba7c12c4f744db9116f1d5efe9d9c8"
       ],
       "layout": "IPY_MODEL_85bcace0e43141bd9ed8af0ca0012ede"
      }
     },
     "92cc7aee4b85423ab70b464098f805f7": {
      "model_module": "jupyter-js-widgets",
      "model_module_version": "~2.1.4",
      "model_name": "LayoutModel",
      "state": {
       "_model_module_version": "~2.1.4",
       "_view_module_version": "~2.1.4"
      }
     },
     "92d7f1fa460a434183f05aadb0936cee": {
      "model_module": "jupyter-js-widgets",
      "model_module_version": "~2.1.4",
      "model_name": "LayoutModel",
      "state": {
       "_model_module_version": "~2.1.4",
       "_view_module_version": "~2.1.4"
      }
     },
     "934cdc5d1bd64812a9d2194b4dd47173": {
      "model_module": "jupyter-js-widgets",
      "model_module_version": "~2.1.4",
      "model_name": "LayoutModel",
      "state": {
       "_model_module_version": "~2.1.4",
       "_view_module_version": "~2.1.4"
      }
     },
     "93ec86fb0a4943a79ba45e8a65c101fc": {
      "model_module": "jupyter-js-widgets",
      "model_module_version": "~2.1.4",
      "model_name": "LayoutModel",
      "state": {
       "_model_module_version": "~2.1.4",
       "_view_module_version": "~2.1.4"
      }
     },
     "953b7dc5182f4ae7beb66cb431e8a66f": {
      "model_module": "jupyter-js-widgets",
      "model_module_version": "~2.1.4",
      "model_name": "FloatSliderModel",
      "state": {
       "_model_module_version": "~2.1.4",
       "_view_module_version": "~2.1.4",
       "continuous_update": false,
       "description": "M1",
       "layout": "IPY_MODEL_5c7b46f3ee87465bbaf740cee1ea4c4f",
       "max": 6,
       "orientation": "vertical",
       "readout_format": "f",
       "slider_color": "white",
       "step": 0.1,
       "value": 3.2
      }
     },
     "95c5d9902c284f0d807c26fc3ef5e8e9": {
      "model_module": "jupyter-js-widgets",
      "model_module_version": "~2.1.4",
      "model_name": "LabelModel",
      "state": {
       "_model_module_version": "~2.1.4",
       "_view_module_version": "~2.1.4",
       "layout": "IPY_MODEL_6ed81a0c0ed749f4bc09109c1dbfaa2d",
       "value": "$$somato_3$$"
      }
     },
     "95cdb0d9c0064cc3bb730cd15a9c083a": {
      "model_module": "jupyter-js-widgets",
      "model_module_version": "~2.1.4",
      "model_name": "LabelModel",
      "state": {
       "_model_module_version": "~2.1.4",
       "_view_module_version": "~2.1.4",
       "layout": "IPY_MODEL_96fb236f06ac4d90b53f4082b1b4cc89",
       "value": "$$sensor_2$$"
      }
     },
     "95cef67f0755438fa1df2e531e48ab3a": {
      "model_module": "jupyter-js-widgets",
      "model_module_version": "~2.1.4",
      "model_name": "LayoutModel",
      "state": {
       "_model_module_version": "~2.1.4",
       "_view_module_version": "~2.1.4"
      }
     },
     "95e1ffcf3e134dab877f7c6785d10e26": {
      "model_module": "jupyter-js-widgets",
      "model_module_version": "~2.1.4",
      "model_name": "LayoutModel",
      "state": {
       "_model_module_version": "~2.1.4",
       "_view_module_version": "~2.1.4"
      }
     },
     "96695cad43464a1c8e09e3d5bbe85438": {
      "model_module": "jupyter-js-widgets",
      "model_module_version": "~2.1.4",
      "model_name": "LayoutModel",
      "state": {
       "_model_module_version": "~2.1.4",
       "_view_module_version": "~2.1.4"
      }
     },
     "9699005f6926444482b7431de0dede82": {
      "model_module": "jupyter-js-widgets",
      "model_module_version": "~2.1.4",
      "model_name": "TextModel",
      "state": {
       "_model_module_version": "~2.1.4",
       "_view_module_version": "~2.1.4",
       "disabled": true,
       "layout": "IPY_MODEL_9eba46502dbe41c59407d4f485d65d41",
       "value": "1.32948955224"
      }
     },
     "96fb236f06ac4d90b53f4082b1b4cc89": {
      "model_module": "jupyter-js-widgets",
      "model_module_version": "~2.1.4",
      "model_name": "LayoutModel",
      "state": {
       "_model_module_version": "~2.1.4",
       "_view_module_version": "~2.1.4"
      }
     },
     "97fa0035e1294784ae138b260c80e7fa": {
      "model_module": "jupyter-js-widgets",
      "model_module_version": "~2.1.4",
      "model_name": "HBoxModel",
      "state": {
       "_model_module_version": "~2.1.4",
       "_view_module_version": "~2.1.4",
       "children": [
        "IPY_MODEL_b66f2f22a05f42d7b7a9d192e4e776c4",
        "IPY_MODEL_0ba70f72692c401d9cccba73a877f9c9"
       ],
       "layout": "IPY_MODEL_faae3007c5324afb91eca6c62f633899"
      }
     },
     "982012f357104ef19e6a4e5a1f31affb": {
      "model_module": "jupyter-js-widgets",
      "model_module_version": "~2.1.4",
      "model_name": "FloatSliderModel",
      "state": {
       "_model_module_version": "~2.1.4",
       "_view_module_version": "~2.1.4",
       "continuous_update": false,
       "description": "M1",
       "layout": "IPY_MODEL_d3bafde6c9e4403f92813e39c508277f",
       "max": 6,
       "orientation": "vertical",
       "readout_format": "f",
       "slider_color": "white",
       "step": 0.1
      }
     },
     "98490f5c65224f1bb3c4914c762c402b": {
      "model_module": "jupyter-js-widgets",
      "model_module_version": "~2.1.4",
      "model_name": "LayoutModel",
      "state": {
       "_model_module_version": "~2.1.4",
       "_view_module_version": "~2.1.4"
      }
     },
     "985b05b7cd45475d874da9df34043744": {
      "model_module": "jupyter-js-widgets",
      "model_module_version": "~2.1.4",
      "model_name": "LayoutModel",
      "state": {
       "_model_module_version": "~2.1.4",
       "_view_module_version": "~2.1.4"
      }
     },
     "99f229eaf2a6454f836f71bb3261b3aa": {
      "model_module": "jupyter-js-widgets",
      "model_module_version": "~2.1.4",
      "model_name": "LayoutModel",
      "state": {
       "_model_module_version": "~2.1.4",
       "_view_module_version": "~2.1.4"
      }
     },
     "9a5b36218d7849148dd369090570c96f": {
      "model_module": "jupyter-js-widgets",
      "model_module_version": "~2.1.4",
      "model_name": "LayoutModel",
      "state": {
       "_model_module_version": "~2.1.4",
       "_view_module_version": "~2.1.4"
      }
     },
     "9afde2d20ad14f61b118312690727e0d": {
      "model_module": "jupyter-js-widgets",
      "model_module_version": "~2.1.4",
      "model_name": "LayoutModel",
      "state": {
       "_model_module_version": "~2.1.4",
       "_view_module_version": "~2.1.4"
      }
     },
     "9c170032ce394bb78fc6f325a138e905": {
      "model_module": "jupyter-js-widgets",
      "model_module_version": "~2.1.4",
      "model_name": "LabelModel",
      "state": {
       "_model_module_version": "~2.1.4",
       "_view_module_version": "~2.1.4",
       "layout": "IPY_MODEL_edcb44a7394f4aa5b5de4fc484404a58",
       "value": "$$somato_4$$"
      }
     },
     "9c5af3744f4a4c85a5d7e40a2185d86c": {
      "model_module": "jupyter-js-widgets",
      "model_module_version": "~2.1.4",
      "model_name": "LayoutModel",
      "state": {
       "_model_module_version": "~2.1.4",
       "_view_module_version": "~2.1.4"
      }
     },
     "9d0c88ef71394408a01189a0e290ea2b": {
      "model_module": "jupyter-js-widgets",
      "model_module_version": "~2.1.4",
      "model_name": "LayoutModel",
      "state": {
       "_model_module_version": "~2.1.4",
       "_view_module_version": "~2.1.4"
      }
     },
     "9d7ea3fc776a4286a4480d517bb1d788": {
      "model_module": "jupyter-js-widgets",
      "model_module_version": "~2.1.4",
      "model_name": "LabelModel",
      "state": {
       "_model_module_version": "~2.1.4",
       "_view_module_version": "~2.1.4",
       "layout": "IPY_MODEL_bf63984bddd04eb0a4f3e205a944f15a",
       "value": "$$sensor_2$$"
      }
     },
     "9e45ca4f094b43a7a652f7c929308476": {
      "model_module": "jupyter-js-widgets",
      "model_module_version": "~2.1.4",
      "model_name": "VBoxModel",
      "state": {
       "_model_module_version": "~2.1.4",
       "_view_module_version": "~2.1.4",
       "children": [
        "IPY_MODEL_26f4057afecb49939d2b4e787620d5c8"
       ],
       "layout": "IPY_MODEL_230f414f4dc34c9c8453ecb0cf516109"
      }
     },
     "9e79e306be5c48bb8cf4b361a9ab28a4": {
      "model_module": "jupyter-js-widgets",
      "model_module_version": "~2.1.4",
      "model_name": "LayoutModel",
      "state": {
       "_model_module_version": "~2.1.4",
       "_view_module_version": "~2.1.4"
      }
     },
     "9e96077bfc134061a7d4f948db1ef0ee": {
      "model_module": "jupyter-js-widgets",
      "model_module_version": "~2.1.4",
      "model_name": "HBoxModel",
      "state": {
       "_model_module_version": "~2.1.4",
       "_view_module_version": "~2.1.4",
       "children": [
        "IPY_MODEL_a1720230ccff4722aa310284a50d40fc",
        "IPY_MODEL_6e1900ada58d484a87fa84e57eb69db0"
       ],
       "layout": "IPY_MODEL_ff3160a0aa81436f85554c5aafd5d320"
      }
     },
     "9eba46502dbe41c59407d4f485d65d41": {
      "model_module": "jupyter-js-widgets",
      "model_module_version": "~2.1.4",
      "model_name": "LayoutModel",
      "state": {
       "_model_module_version": "~2.1.4",
       "_view_module_version": "~2.1.4"
      }
     },
     "9f164180ca8a4ee1a67d4a9789885ec9": {
      "model_module": "jupyter-js-widgets",
      "model_module_version": "~2.1.4",
      "model_name": "LabelModel",
      "state": {
       "_model_module_version": "~2.1.4",
       "_view_module_version": "~2.1.4",
       "layout": "IPY_MODEL_41897e2b07f44a81955a3102992c5b76",
       "value": "$$somato_1$$"
      }
     },
     "9fa6934dc1044de8ad222042866fcbe5": {
      "model_module": "jupyter-js-widgets",
      "model_module_version": "~2.1.4",
      "model_name": "TextModel",
      "state": {
       "_model_module_version": "~2.1.4",
       "_view_module_version": "~2.1.4",
       "layout": "IPY_MODEL_22a18413a37b42329c9cb6b2048f3d0e",
       "value": "1.14733177185"
      }
     },
     "9fca0e796a634bc885399e3e82db58bf": {
      "model_module": "jupyter-js-widgets",
      "model_module_version": "~2.1.4",
      "model_name": "LayoutModel",
      "state": {
       "_model_module_version": "~2.1.4",
       "_view_module_version": "~2.1.4"
      }
     },
     "a084232f43fa4034b48927abcfb2cbb3": {
      "model_module": "jupyter-js-widgets",
      "model_module_version": "~2.1.4",
      "model_name": "HBoxModel",
      "state": {
       "_model_module_version": "~2.1.4",
       "_view_module_version": "~2.1.4",
       "children": [
        "IPY_MODEL_0a30a3f18afc4be49b2f145da058b457",
        "IPY_MODEL_dfe2106e24504f89bca419f0b32422a4"
       ],
       "layout": "IPY_MODEL_d697def87a834382a57d00a4c5a2e88e"
      }
     },
     "a1720230ccff4722aa310284a50d40fc": {
      "model_module": "jupyter-js-widgets",
      "model_module_version": "~2.1.4",
      "model_name": "LabelModel",
      "state": {
       "_model_module_version": "~2.1.4",
       "_view_module_version": "~2.1.4",
       "layout": "IPY_MODEL_d05035e9e1aa459493428f65979d1036",
       "value": "$$sensor_2$$"
      }
     },
     "a18706ce020743cebfd50f5764366d42": {
      "model_module": "jupyter-js-widgets",
      "model_module_version": "~2.1.4",
      "model_name": "LabelModel",
      "state": {
       "_model_module_version": "~2.1.4",
       "_view_module_version": "~2.1.4",
       "layout": "IPY_MODEL_50b2f388c71843dc9a845105475ac912",
       "value": "$$somato_1$$"
      }
     },
     "a27a0f5927ab405d866150e578566169": {
      "model_module": "jupyter-js-widgets",
      "model_module_version": "~2.1.4",
      "model_name": "LayoutModel",
      "state": {
       "_model_module_version": "~2.1.4",
       "_view_module_version": "~2.1.4"
      }
     },
     "a2b7d9419a904310b4d005b8c0e71431": {
      "model_module": "jupyter-js-widgets",
      "model_module_version": "~2.1.4",
      "model_name": "LayoutModel",
      "state": {
       "_model_module_version": "~2.1.4",
       "_view_module_version": "~2.1.4"
      }
     },
     "a3535626a1b249bb95cfb7efce123770": {
      "model_module": "jupyter-js-widgets",
      "model_module_version": "~2.1.4",
      "model_name": "HBoxModel",
      "state": {
       "_model_module_version": "~2.1.4",
       "_view_module_version": "~2.1.4",
       "children": [
        "IPY_MODEL_d854955847d04acbb6e510b0f7e4ff66",
        "IPY_MODEL_f1d9ae75c4184d88be1c9639f6fe5a01"
       ],
       "layout": "IPY_MODEL_fbe07781e7ab4ea499012f10e26300de"
      }
     },
     "a42e6adccbe84f0e97fc376043296b2b": {
      "model_module": "jupyter-js-widgets",
      "model_module_version": "~2.1.4",
      "model_name": "HBoxModel",
      "state": {
       "_model_module_version": "~2.1.4",
       "_view_module_version": "~2.1.4",
       "children": [
        "IPY_MODEL_5e46726502544bf1b7d0dd556d6d35d1",
        "IPY_MODEL_dd6de264ec7c4877bf2bbd21115908a3"
       ],
       "layout": "IPY_MODEL_5d1efc3ca7da454f8ee26d2e262def51"
      }
     },
     "a48864a8db294cedbd25523861dd8a5d": {
      "model_module": "jupyter-js-widgets",
      "model_module_version": "~2.1.4",
      "model_name": "LabelModel",
      "state": {
       "_model_module_version": "~2.1.4",
       "_view_module_version": "~2.1.4",
       "layout": "IPY_MODEL_b7537b0ec1ba4391905a9b5af8b83468",
       "value": "$$sensor_2$$"
      }
     },
     "a491ee8cf03f4fd39d3823c9c72a5b7f": {
      "model_module": "jupyter-js-widgets",
      "model_module_version": "~2.1.4",
      "model_name": "LayoutModel",
      "state": {
       "_model_module_version": "~2.1.4",
       "_view_module_version": "~2.1.4"
      }
     },
     "a580fc0eeabd40c090ea27cbc98aca26": {
      "model_module": "jupyter-js-widgets",
      "model_module_version": "~2.1.4",
      "model_name": "LayoutModel",
      "state": {
       "_model_module_version": "~2.1.4",
       "_view_module_version": "~2.1.4"
      }
     },
     "a6a8c137d0db476d87fd9516f1556853": {
      "model_module": "jupyter-js-widgets",
      "model_module_version": "~2.1.4",
      "model_name": "LayoutModel",
      "state": {
       "_model_module_version": "~2.1.4",
       "_view_module_version": "~2.1.4"
      }
     },
     "a6d742ba577f493d95d6728bfa5180fc": {
      "model_module": "jupyter-js-widgets",
      "model_module_version": "~2.1.4",
      "model_name": "LayoutModel",
      "state": {
       "_model_module_version": "~2.1.4",
       "_view_module_version": "~2.1.4"
      }
     },
     "a6d8258e4bc447c3b88a1e3fc0384b3d": {
      "model_module": "jupyter-js-widgets",
      "model_module_version": "~2.1.4",
      "model_name": "FloatSliderModel",
      "state": {
       "_model_module_version": "~2.1.4",
       "_view_module_version": "~2.1.4",
       "continuous_update": false,
       "description": "M0",
       "layout": "IPY_MODEL_c54af78e989b4f96a162f424dfacfd1b",
       "max": 6,
       "orientation": "vertical",
       "readout_format": "f",
       "slider_color": "white",
       "step": 0.1,
       "value": 2.5
      }
     },
     "a82939417c1a43feb3c1cccf51cae718": {
      "model_module": "jupyter-js-widgets",
      "model_module_version": "~2.1.4",
      "model_name": "LayoutModel",
      "state": {
       "_model_module_version": "~2.1.4",
       "_view_module_version": "~2.1.4"
      }
     },
     "a854868dea5b4d1998444d71fdc39f3d": {
      "model_module": "jupyter-js-widgets",
      "model_module_version": "~2.1.4",
      "model_name": "TextModel",
      "state": {
       "_model_module_version": "~2.1.4",
       "_view_module_version": "~2.1.4",
       "disabled": true,
       "layout": "IPY_MODEL_cc6fe57df7ab489da6a8cc9edec6807d",
       "value": "Welcome"
      }
     },
     "a874e82ab42e4d12b025baf8cf012107": {
      "model_module": "jupyter-js-widgets",
      "model_module_version": "~2.1.4",
      "model_name": "VBoxModel",
      "state": {
       "_model_module_version": "~2.1.4",
       "_view_module_version": "~2.1.4",
       "children": [
        "IPY_MODEL_19a1f0d71192427b8e506ab5cbc3703e"
       ],
       "layout": "IPY_MODEL_417908920ffd44f8b2239c32d76b7ec4"
      }
     },
     "a923da6e80ea4654bba61aaf3fb6e1d7": {
      "model_module": "jupyter-js-widgets",
      "model_module_version": "~2.1.4",
      "model_name": "LayoutModel",
      "state": {
       "_model_module_version": "~2.1.4",
       "_view_module_version": "~2.1.4"
      }
     },
     "a970e9aa2d3c4fef9fda2eb5ff74b832": {
      "model_module": "jupyter-js-widgets",
      "model_module_version": "~2.1.4",
      "model_name": "LayoutModel",
      "state": {
       "_model_module_version": "~2.1.4",
       "_view_module_version": "~2.1.4"
      }
     },
     "a9bd5777ecfd4aca8df7612a6a28e157": {
      "model_module": "jupyter-js-widgets",
      "model_module_version": "~2.1.4",
      "model_name": "LayoutModel",
      "state": {
       "_model_module_version": "~2.1.4",
       "_view_module_version": "~2.1.4"
      }
     },
     "ab270876655f4c328a40611f9b23f4ff": {
      "model_module": "jupyter-js-widgets",
      "model_module_version": "~2.1.4",
      "model_name": "HBoxModel",
      "state": {
       "_model_module_version": "~2.1.4",
       "_view_module_version": "~2.1.4",
       "children": [
        "IPY_MODEL_88dd4cfcf59b4505a5789843e9d23014",
        "IPY_MODEL_7a63a262d2b044e8811e463c4c5c7a8f"
       ],
       "layout": "IPY_MODEL_934cdc5d1bd64812a9d2194b4dd47173"
      }
     },
     "ab315ec8f3cf4e66ba1997f5f03e41b0": {
      "model_module": "jupyter-js-widgets",
      "model_module_version": "~2.1.4",
      "model_name": "LayoutModel",
      "state": {
       "_model_module_version": "~2.1.4",
       "_view_module_version": "~2.1.4"
      }
     },
     "ab5f659970ec461d97d05b5834241fe7": {
      "model_module": "jupyter-js-widgets",
      "model_module_version": "~2.1.4",
      "model_name": "LabelModel",
      "state": {
       "_model_module_version": "~2.1.4",
       "_view_module_version": "~2.1.4",
       "layout": "IPY_MODEL_045cf7850a6b4843a7cd905d0bf0b9ae",
       "value": "$$somato_3$$"
      }
     },
     "aba2dd1e40a9455caba3ac1e77d47c24": {
      "model_module": "jupyter-js-widgets",
      "model_module_version": "~2.1.4",
      "model_name": "LayoutModel",
      "state": {
       "_model_module_version": "~2.1.4",
       "_view_module_version": "~2.1.4"
      }
     },
     "ac36e079a4014dc4b65112a8cdc7e305": {
      "model_module": "jupyter-js-widgets",
      "model_module_version": "~2.1.4",
      "model_name": "LayoutModel",
      "state": {
       "_model_module_version": "~2.1.4",
       "_view_module_version": "~2.1.4"
      }
     },
     "ac3f57640abf444caf5dd13a28772b97": {
      "model_module": "jupyter-js-widgets",
      "model_module_version": "~2.1.4",
      "model_name": "LayoutModel",
      "state": {
       "_model_module_version": "~2.1.4",
       "_view_module_version": "~2.1.4"
      }
     },
     "ad5c843f5687481e845e0857067d44ab": {
      "model_module": "jupyter-js-widgets",
      "model_module_version": "~2.1.4",
      "model_name": "VBoxModel",
      "state": {
       "_model_module_version": "~2.1.4",
       "_view_module_version": "~2.1.4",
       "children": [
        "IPY_MODEL_e5cd9dfcc3744ee8b4a2ee384a0daf5d"
       ],
       "layout": "IPY_MODEL_5ed238ce044a445884c0cee20b53de8e"
      }
     },
     "ada4573b29c34ec885649f08a2a08dcd": {
      "model_module": "jupyter-js-widgets",
      "model_module_version": "~2.1.4",
      "model_name": "VBoxModel",
      "state": {
       "_model_module_version": "~2.1.4",
       "_view_module_version": "~2.1.4",
       "children": [
        "IPY_MODEL_a42e6adccbe84f0e97fc376043296b2b",
        "IPY_MODEL_83c3097208d8493ca377b30518081077",
        "IPY_MODEL_53ee732caca6408cb0f63c76c8798332",
        "IPY_MODEL_d29e72904b8f45489a6264fbef5a5d22",
        "IPY_MODEL_5fae019b0c6647c0862202eee7b3a73a",
        "IPY_MODEL_56012420bd1946e6a60d51b73eb559dc"
       ],
       "layout": "IPY_MODEL_ff1e18ec69344e338313cc01664752c3"
      }
     },
     "ae95f06ae1a345718c48ee250bef552a": {
      "model_module": "jupyter-js-widgets",
      "model_module_version": "~2.1.4",
      "model_name": "LayoutModel",
      "state": {
       "_model_module_version": "~2.1.4",
       "_view_module_version": "~2.1.4"
      }
     },
     "aeb5326e53904930b1e3f88f9d69f6b8": {
      "model_module": "jupyter-js-widgets",
      "model_module_version": "~2.1.4",
      "model_name": "LabelModel",
      "state": {
       "_model_module_version": "~2.1.4",
       "_view_module_version": "~2.1.4",
       "layout": "IPY_MODEL_ac36e079a4014dc4b65112a8cdc7e305",
       "value": "$$somato_3$$"
      }
     },
     "aff8e95e4e314702bc4d8f749e61fdd7": {
      "model_module": "jupyter-js-widgets",
      "model_module_version": "~2.1.4",
      "model_name": "LabelModel",
      "state": {
       "_model_module_version": "~2.1.4",
       "_view_module_version": "~2.1.4",
       "layout": "IPY_MODEL_0dbb4f0ec04646b9b9b224bff049af5e",
       "value": "$$somato_4$$"
      }
     },
     "affdfccacf424c6e8a60fe0fa289012c": {
      "model_module": "jupyter-js-widgets",
      "model_module_version": "~2.1.4",
      "model_name": "LayoutModel",
      "state": {
       "_model_module_version": "~2.1.4",
       "_view_module_version": "~2.1.4"
      }
     },
     "b0c33f510b5b4216812a53fc19236ff7": {
      "model_module": "jupyter-js-widgets",
      "model_module_version": "~2.1.4",
      "model_name": "LabelModel",
      "state": {
       "_model_module_version": "~2.1.4",
       "_view_module_version": "~2.1.4",
       "layout": "IPY_MODEL_f97a0e71637344be9ee702ef87d9b5a1",
       "value": "$$somato_4$$"
      }
     },
     "b0f6c785933b493aba3e38a956e775bb": {
      "model_module": "jupyter-js-widgets",
      "model_module_version": "~2.1.4",
      "model_name": "TextModel",
      "state": {
       "_model_module_version": "~2.1.4",
       "_view_module_version": "~2.1.4",
       "disabled": true,
       "layout": "IPY_MODEL_bd20ee96af3b4131b1cb94b15e769d2e",
       "value": "Welcome"
      }
     },
     "b17006a7092e4536b99dd2764c02dbf2": {
      "model_module": "jupyter-js-widgets",
      "model_module_version": "~2.1.4",
      "model_name": "LayoutModel",
      "state": {
       "_model_module_version": "~2.1.4",
       "_view_module_version": "~2.1.4"
      }
     },
     "b1ba3377086d4cfa929600348174f03a": {
      "model_module": "jupyter-js-widgets",
      "model_module_version": "~2.1.4",
      "model_name": "HBoxModel",
      "state": {
       "_model_module_version": "~2.1.4",
       "_view_module_version": "~2.1.4",
       "children": [
        "IPY_MODEL_8a89906c4bfd407dad168ebe6f1e028a",
        "IPY_MODEL_204b796966b643b6a405474f7c2d777a"
       ],
       "layout": "IPY_MODEL_5c40b05315474a65859287681725f8fc"
      }
     },
     "b1cb29973a4a42dd95afdcbf37581a15": {
      "model_module": "jupyter-js-widgets",
      "model_module_version": "~2.1.4",
      "model_name": "FloatSliderModel",
      "state": {
       "_model_module_version": "~2.1.4",
       "_view_module_version": "~2.1.4",
       "continuous_update": false,
       "description": "$$m_1$$",
       "layout": "IPY_MODEL_ef75794e96a04445b9814ee248caa744",
       "max": 6,
       "orientation": "vertical",
       "readout_format": "f",
       "slider_color": "white",
       "step": 0.1
      }
     },
     "b2754707ae7b43f8bd78b5ea98027e8d": {
      "model_module": "jupyter-js-widgets",
      "model_module_version": "~2.1.4",
      "model_name": "LayoutModel",
      "state": {
       "_model_module_version": "~2.1.4",
       "_view_module_version": "~2.1.4"
      }
     },
     "b2844f3098ca4c50a5fad31589778f8c": {
      "model_module": "jupyter-js-widgets",
      "model_module_version": "~2.1.4",
      "model_name": "VBoxModel",
      "state": {
       "_model_module_version": "~2.1.4",
       "_view_module_version": "~2.1.4",
       "children": [
        "IPY_MODEL_a084232f43fa4034b48927abcfb2cbb3"
       ],
       "layout": "IPY_MODEL_78a2c84f542e4a40b8838df160a0458a"
      }
     },
     "b35128d9bf734d0b85e10284e561b418": {
      "model_module": "jupyter-js-widgets",
      "model_module_version": "~2.1.4",
      "model_name": "LayoutModel",
      "state": {
       "_model_module_version": "~2.1.4",
       "_view_module_version": "~2.1.4"
      }
     },
     "b37c791e355c45c9a2ce269f7530fc52": {
      "model_module": "jupyter-js-widgets",
      "model_module_version": "~2.1.4",
      "model_name": "HBoxModel",
      "state": {
       "_model_module_version": "~2.1.4",
       "_view_module_version": "~2.1.4",
       "children": [
        "IPY_MODEL_7b4a4f5347404b0bb06c18d8458703ca",
        "IPY_MODEL_dd4e31b893d3471dbe249414c35ec394"
       ],
       "layout": "IPY_MODEL_e022182116d04f95a779395834033a8c"
      }
     },
     "b3b444bfca6c4078b8b79eac4b6cb785": {
      "model_module": "jupyter-js-widgets",
      "model_module_version": "~2.1.4",
      "model_name": "FloatSliderModel",
      "state": {
       "_model_module_version": "~2.1.4",
       "_view_module_version": "~2.1.4",
       "continuous_update": false,
       "description": "M1",
       "layout": "IPY_MODEL_df5dde1cecce421eaa81d6fbba5a28ec",
       "max": 6,
       "orientation": "vertical",
       "readout_format": "f",
       "slider_color": "white",
       "step": 0.1,
       "value": 1.6
      }
     },
     "b3ecef79b6f24bf6adfa9c945f67383b": {
      "model_module": "jupyter-js-widgets",
      "model_module_version": "~2.1.4",
      "model_name": "HBoxModel",
      "state": {
       "_model_module_version": "~2.1.4",
       "_view_module_version": "~2.1.4",
       "children": [
        "IPY_MODEL_647f3b13ec664e9ea6a5aeb737822631",
        "IPY_MODEL_953b7dc5182f4ae7beb66cb431e8a66f"
       ],
       "layout": "IPY_MODEL_8e060cfd78e844e0bc4969cd30b3f3c1"
      }
     },
     "b451cc872ee545aea8d89e28f423fcd2": {
      "model_module": "jupyter-js-widgets",
      "model_module_version": "~2.1.4",
      "model_name": "HBoxModel",
      "state": {
       "_model_module_version": "~2.1.4",
       "_view_module_version": "~2.1.4",
       "children": [
        "IPY_MODEL_d441b5ecd20641abb559606d9ced975d",
        "IPY_MODEL_13f6962706cd4fe5afe7c32838d4fe81"
       ],
       "layout": "IPY_MODEL_99f229eaf2a6454f836f71bb3261b3aa"
      }
     },
     "b4da175578de4e90be941eab1a8685ed": {
      "model_module": "jupyter-js-widgets",
      "model_module_version": "~2.1.4",
      "model_name": "LayoutModel",
      "state": {
       "_model_module_version": "~2.1.4",
       "_view_module_version": "~2.1.4"
      }
     },
     "b4ebd3dc877145cf96f27a86240e0c98": {
      "model_module": "jupyter-js-widgets",
      "model_module_version": "~2.1.4",
      "model_name": "LayoutModel",
      "state": {
       "_model_module_version": "~2.1.4",
       "_view_module_version": "~2.1.4"
      }
     },
     "b5c856f92d1c4c5fa90778b5510e5897": {
      "model_module": "jupyter-js-widgets",
      "model_module_version": "~2.1.4",
      "model_name": "TextModel",
      "state": {
       "_model_module_version": "~2.1.4",
       "_view_module_version": "~2.1.4",
       "layout": "IPY_MODEL_5ce33f33f3b341bdb0f4215c6f4c4c54",
       "value": "1.41421367071"
      }
     },
     "b5cdbb7f84c042c4a31118231c44a334": {
      "model_module": "jupyter-js-widgets",
      "model_module_version": "~2.1.4",
      "model_name": "LayoutModel",
      "state": {
       "_model_module_version": "~2.1.4",
       "_view_module_version": "~2.1.4"
      }
     },
     "b66f2f22a05f42d7b7a9d192e4e776c4": {
      "model_module": "jupyter-js-widgets",
      "model_module_version": "~2.1.4",
      "model_name": "HBoxModel",
      "state": {
       "_model_module_version": "~2.1.4",
       "_view_module_version": "~2.1.4",
       "children": [
        "IPY_MODEL_eea671f8e7bf4964929d994429b45d0d",
        "IPY_MODEL_b3b444bfca6c4078b8b79eac4b6cb785"
       ],
       "layout": "IPY_MODEL_7a5fce2348d042fcaeeee2ea377dc172"
      }
     },
     "b6d97b9986544f3e972af178eabe1c81": {
      "model_module": "jupyter-js-widgets",
      "model_module_version": "~2.1.4",
      "model_name": "LayoutModel",
      "state": {
       "_model_module_version": "~2.1.4",
       "_view_module_version": "~2.1.4"
      }
     },
     "b7537b0ec1ba4391905a9b5af8b83468": {
      "model_module": "jupyter-js-widgets",
      "model_module_version": "~2.1.4",
      "model_name": "LayoutModel",
      "state": {
       "_model_module_version": "~2.1.4",
       "_view_module_version": "~2.1.4"
      }
     },
     "b75d7cd710b54d7e9da8b7248a2f10e8": {
      "model_module": "jupyter-js-widgets",
      "model_module_version": "~2.1.4",
      "model_name": "LabelModel",
      "state": {
       "_model_module_version": "~2.1.4",
       "_view_module_version": "~2.1.4",
       "layout": "IPY_MODEL_9afde2d20ad14f61b118312690727e0d",
       "value": "$$somato_2$$"
      }
     },
     "b78fc45a476549659693a297fbbcbca8": {
      "model_module": "jupyter-js-widgets",
      "model_module_version": "~2.1.4",
      "model_name": "VBoxModel",
      "state": {
       "_model_module_version": "~2.1.4",
       "_view_module_version": "~2.1.4",
       "children": [
        "IPY_MODEL_ef4506d025984f079c8045d8a422ec04"
       ],
       "layout": "IPY_MODEL_8aeb01d1156641f4880199b419e8b0dc"
      }
     },
     "b7f7e97e83b54e7b8c5c9236095327a1": {
      "model_module": "jupyter-js-widgets",
      "model_module_version": "~2.1.4",
      "model_name": "LayoutModel",
      "state": {
       "_model_module_version": "~2.1.4",
       "_view_module_version": "~2.1.4"
      }
     },
     "b8171da389d6471b92748589080b3d26": {
      "model_module": "jupyter-js-widgets",
      "model_module_version": "~2.1.4",
      "model_name": "LayoutModel",
      "state": {
       "_model_module_version": "~2.1.4",
       "_view_module_version": "~2.1.4"
      }
     },
     "b8763728a67247df9bbc0ebd2426ea8f": {
      "model_module": "jupyter-js-widgets",
      "model_module_version": "~2.1.4",
      "model_name": "HBoxModel",
      "state": {
       "_model_module_version": "~2.1.4",
       "_view_module_version": "~2.1.4",
       "children": [
        "IPY_MODEL_f3f864a730d2460ba7d51ac23511e123",
        "IPY_MODEL_d00aa4f9229141328ed585bfb5db9c9b"
       ],
       "layout": "IPY_MODEL_2fa7598731a04646b281750d34da9f56"
      }
     },
     "b89274b75eab49a5a86681ee019c05f7": {
      "model_module": "jupyter-js-widgets",
      "model_module_version": "~2.1.4",
      "model_name": "HBoxModel",
      "state": {
       "_model_module_version": "~2.1.4",
       "_view_module_version": "~2.1.4",
       "children": [
        "IPY_MODEL_a1720230ccff4722aa310284a50d40fc",
        "IPY_MODEL_6e1900ada58d484a87fa84e57eb69db0"
       ],
       "layout": "IPY_MODEL_3efd972d970e4f78920a4499d4953064"
      }
     },
     "b8ba7c12c4f744db9116f1d5efe9d9c8": {
      "model_module": "jupyter-js-widgets",
      "model_module_version": "~2.1.4",
      "model_name": "TextModel",
      "state": {
       "_model_module_version": "~2.1.4",
       "_view_module_version": "~2.1.4",
       "disabled": true,
       "layout": "IPY_MODEL_b2754707ae7b43f8bd78b5ea98027e8d",
       "value": "3.02252638967"
      }
     },
     "b904051dcd56462ab0db42d8411de77f": {
      "model_module": "jupyter-js-widgets",
      "model_module_version": "~2.1.4",
      "model_name": "LayoutModel",
      "state": {
       "_model_module_version": "~2.1.4",
       "_view_module_version": "~2.1.4"
      }
     },
     "ba03c302c4854105b66e5d0ad46982e8": {
      "model_module": "jupyter-js-widgets",
      "model_module_version": "~2.1.4",
      "model_name": "LayoutModel",
      "state": {
       "_model_module_version": "~2.1.4",
       "_view_module_version": "~2.1.4"
      }
     },
     "baf0f26eb9bc4bdc882eb5632795e1d4": {
      "model_module": "jupyter-js-widgets",
      "model_module_version": "~2.1.4",
      "model_name": "TextModel",
      "state": {
       "_model_module_version": "~2.1.4",
       "_view_module_version": "~2.1.4",
       "disabled": true,
       "layout": "IPY_MODEL_4c38b78c2562422d86050625a7bc90de",
       "value": "Welcome"
      }
     },
     "bb61bb28cbd8474a9d21a2c305cd2264": {
      "model_module": "jupyter-js-widgets",
      "model_module_version": "~2.1.4",
      "model_name": "LabelModel",
      "state": {
       "_model_module_version": "~2.1.4",
       "_view_module_version": "~2.1.4",
       "layout": "IPY_MODEL_420421e1ff954835ad656b2f762dc7c1",
       "value": "$$somato_1$$"
      }
     },
     "bccb8e009b1943b3a16360c673dcab18": {
      "model_module": "jupyter-js-widgets",
      "model_module_version": "~2.1.4",
      "model_name": "FloatSliderModel",
      "state": {
       "_model_module_version": "~2.1.4",
       "_view_module_version": "~2.1.4",
       "continuous_update": false,
       "description": "M0",
       "layout": "IPY_MODEL_4c6e8e90b79d45a8a747099b4411bc1e",
       "max": 6,
       "orientation": "vertical",
       "readout_format": "f",
       "slider_color": "white",
       "step": 0.1,
       "value": 4.9
      }
     },
     "bcfc8407e4a5404abb80e6fe7b1815bf": {
      "model_module": "jupyter-js-widgets",
      "model_module_version": "~2.1.4",
      "model_name": "TextModel",
      "state": {
       "_model_module_version": "~2.1.4",
       "_view_module_version": "~2.1.4",
       "disabled": true,
       "layout": "IPY_MODEL_888b4ccee1f74ad982ccc2e335a65e9b",
       "value": "0.324264622255"
      }
     },
     "bd18c3cda23b427986a03c64a04f6e60": {
      "model_module": "jupyter-js-widgets",
      "model_module_version": "~2.1.4",
      "model_name": "LayoutModel",
      "state": {
       "_model_module_version": "~2.1.4",
       "_view_module_version": "~2.1.4"
      }
     },
     "bd20ee96af3b4131b1cb94b15e769d2e": {
      "model_module": "jupyter-js-widgets",
      "model_module_version": "~2.1.4",
      "model_name": "LayoutModel",
      "state": {
       "_model_module_version": "~2.1.4",
       "_view_module_version": "~2.1.4"
      }
     },
     "bdf6ac79943b4ea2b9ef78d5a27b9f44": {
      "model_module": "jupyter-js-widgets",
      "model_module_version": "~2.1.4",
      "model_name": "HBoxModel",
      "state": {
       "_model_module_version": "~2.1.4",
       "_view_module_version": "~2.1.4",
       "children": [
        [
         "IPY_MODEL_85f57eb1b3c04ba79d4983e5c8d51d70",
         "IPY_MODEL_262ecf15a31448d9ae78f256acd2ac3f"
        ]
       ],
       "layout": "IPY_MODEL_92d7f1fa460a434183f05aadb0936cee"
      }
     },
     "bdfbeafbd30e4d15950393a3b5cb53d6": {
      "model_module": "jupyter-js-widgets",
      "model_module_version": "~2.1.4",
      "model_name": "TextModel",
      "state": {
       "_model_module_version": "~2.1.4",
       "_view_module_version": "~2.1.4",
       "layout": "IPY_MODEL_7f98feaa28f84da89dde4ac0389a8d6c",
       "value": "1.08335613758e-07"
      }
     },
     "bec40f4981c84faa8c45cb6a7ed75697": {
      "model_module": "jupyter-js-widgets",
      "model_module_version": "~2.1.4",
      "model_name": "TextModel",
      "state": {
       "_model_module_version": "~2.1.4",
       "_view_module_version": "~2.1.4",
       "layout": "IPY_MODEL_eabf375ad5324dd0959c6e3917976ed8",
       "value": "2.3990354108"
      }
     },
     "bf63984bddd04eb0a4f3e205a944f15a": {
      "model_module": "jupyter-js-widgets",
      "model_module_version": "~2.1.4",
      "model_name": "LayoutModel",
      "state": {
       "_model_module_version": "~2.1.4",
       "_view_module_version": "~2.1.4"
      }
     },
     "c03892d3cd58480f99a462d77985aaab": {
      "model_module": "jupyter-js-widgets",
      "model_module_version": "~2.1.4",
      "model_name": "HBoxModel",
      "state": {
       "_model_module_version": "~2.1.4",
       "_view_module_version": "~2.1.4",
       "children": [
        "IPY_MODEL_8373cfa1385344eda6283fb37539aca0",
        "IPY_MODEL_b0f6c785933b493aba3e38a956e775bb"
       ],
       "layout": "IPY_MODEL_3fac539ed80e4e89a62558bbc1caa18b"
      }
     },
     "c09b38bfca664be6a6bc787c9a4c37c7": {
      "model_module": "jupyter-js-widgets",
      "model_module_version": "~2.1.4",
      "model_name": "LayoutModel",
      "state": {
       "_model_module_version": "~2.1.4",
       "_view_module_version": "~2.1.4"
      }
     },
     "c0ad5e238b614a929eb39ebbcdcac400": {
      "model_module": "jupyter-js-widgets",
      "model_module_version": "~2.1.4",
      "model_name": "LayoutModel",
      "state": {
       "_model_module_version": "~2.1.4",
       "_view_module_version": "~2.1.4"
      }
     },
     "c1a4d8ba9c814ee4a5393e0e9e4e11d0": {
      "model_module": "jupyter-js-widgets",
      "model_module_version": "~2.1.4",
      "model_name": "TextModel",
      "state": {
       "_model_module_version": "~2.1.4",
       "_view_module_version": "~2.1.4",
       "disabled": true,
       "layout": "IPY_MODEL_561d073ab0394168b9e084007c3ff3e6",
       "value": "2.16043612379"
      }
     },
     "c1ba32d4b61c4272a98a0f317e42bcb1": {
      "model_module": "jupyter-js-widgets",
      "model_module_version": "~2.1.4",
      "model_name": "VBoxModel",
      "state": {
       "_model_module_version": "~2.1.4",
       "_view_module_version": "~2.1.4",
       "children": [
        "IPY_MODEL_5bc5b486c83a4a53bab96de416feba2e"
       ],
       "layout": "IPY_MODEL_a9bd5777ecfd4aca8df7612a6a28e157"
      }
     },
     "c1db0305438347a39de078761959338b": {
      "model_module": "jupyter-js-widgets",
      "model_module_version": "~2.1.4",
      "model_name": "FloatSliderModel",
      "state": {
       "_model_module_version": "~2.1.4",
       "_view_module_version": "~2.1.4",
       "continuous_update": false,
       "description": "M0",
       "layout": "IPY_MODEL_f77230444cfc4d76be5ada28ffbf4df3",
       "max": 6,
       "orientation": "vertical",
       "readout_format": "f",
       "slider_color": "white",
       "step": 0.1
      }
     },
     "c2702d2015c344a3832f512e2479614c": {
      "model_module": "jupyter-js-widgets",
      "model_module_version": "~2.1.4",
      "model_name": "LabelModel",
      "state": {
       "_model_module_version": "~2.1.4",
       "_view_module_version": "~2.1.4",
       "layout": "IPY_MODEL_b4da175578de4e90be941eab1a8685ed",
       "value": "$$sensor_1$$"
      }
     },
     "c3314ea612bd45e984b101078a775870": {
      "model_module": "jupyter-js-widgets",
      "model_module_version": "~2.1.4",
      "model_name": "TextModel",
      "state": {
       "_model_module_version": "~2.1.4",
       "_view_module_version": "~2.1.4",
       "layout": "IPY_MODEL_84986d45fe7545049643779fb61ab77c",
       "value": "4.74999988647"
      }
     },
     "c35ba7d50c804e4da01b69b902595dd8": {
      "model_module": "jupyter-js-widgets",
      "model_module_version": "~2.1.4",
      "model_name": "LayoutModel",
      "state": {
       "_model_module_version": "~2.1.4",
       "_view_module_version": "~2.1.4"
      }
     },
     "c36f088c0f6a4f26838601842892e44c": {
      "model_module": "jupyter-js-widgets",
      "model_module_version": "~2.1.4",
      "model_name": "LayoutModel",
      "state": {
       "_model_module_version": "~2.1.4",
       "_view_module_version": "~2.1.4"
      }
     },
     "c54af78e989b4f96a162f424dfacfd1b": {
      "model_module": "jupyter-js-widgets",
      "model_module_version": "~2.1.4",
      "model_name": "LayoutModel",
      "state": {
       "_model_module_version": "~2.1.4",
       "_view_module_version": "~2.1.4"
      }
     },
     "c5e08cdebf6144158e6916b2a6860e2a": {
      "model_module": "jupyter-js-widgets",
      "model_module_version": "~2.1.4",
      "model_name": "VBoxModel",
      "state": {
       "_model_module_version": "~2.1.4",
       "_view_module_version": "~2.1.4",
       "children": [
        "IPY_MODEL_d6bfbd52264845889e4727e709d5815a",
        "IPY_MODEL_16fb3279e4d54ddda7cf387d9eb69113",
        "IPY_MODEL_0d955735055848c79e8f85bab2696389",
        "IPY_MODEL_199af30d67474f0e9f58fb8af914701a",
        "IPY_MODEL_158fef03806c494ba592467962625187",
        "IPY_MODEL_22b00cf2dca64e1dbe0edf23a49e1266"
       ],
       "layout": "IPY_MODEL_d6c83e89ab0d4809a8ca503fa1501d15"
      }
     },
     "c71ce560ec1841d78fc334ae97867768": {
      "model_module": "jupyter-js-widgets",
      "model_module_version": "~2.1.4",
      "model_name": "LayoutModel",
      "state": {
       "_model_module_version": "~2.1.4",
       "_view_module_version": "~2.1.4"
      }
     },
     "c74d645fac214255be0e3dc07a7f133b": {
      "model_module": "jupyter-js-widgets",
      "model_module_version": "~2.1.4",
      "model_name": "HBoxModel",
      "state": {
       "_model_module_version": "~2.1.4",
       "_view_module_version": "~2.1.4",
       "children": [
        "IPY_MODEL_647f3b13ec664e9ea6a5aeb737822631",
        "IPY_MODEL_953b7dc5182f4ae7beb66cb431e8a66f"
       ],
       "layout": "IPY_MODEL_db18d6b3167940568d6f01a71668e7a5"
      }
     },
     "c7619793f7234914ab570abd2acdc30c": {
      "model_module": "jupyter-js-widgets",
      "model_module_version": "~2.1.4",
      "model_name": "LayoutModel",
      "state": {
       "_model_module_version": "~2.1.4",
       "_view_module_version": "~2.1.4"
      }
     },
     "c7b798a30ae743af97786daac08289bb": {
      "model_module": "jupyter-js-widgets",
      "model_module_version": "~2.1.4",
      "model_name": "TextModel",
      "state": {
       "_model_module_version": "~2.1.4",
       "_view_module_version": "~2.1.4",
       "disabled": true,
       "layout": "IPY_MODEL_5a95763a478346bda3f0a8a30a99dba1",
       "value": "0.74622256142"
      }
     },
     "c7ca75c578dc4683bb41579dfb243bb8": {
      "model_module": "jupyter-js-widgets",
      "model_module_version": "~2.1.4",
      "model_name": "LayoutModel",
      "state": {
       "_model_module_version": "~2.1.4",
       "_view_module_version": "~2.1.4"
      }
     },
     "c8b396e5d53d459abb7ad7a017328aad": {
      "model_module": "jupyter-js-widgets",
      "model_module_version": "~2.1.4",
      "model_name": "LabelModel",
      "state": {
       "_model_module_version": "~2.1.4",
       "_view_module_version": "~2.1.4",
       "layout": "IPY_MODEL_f37436c59630429c9617fc1965269bd5",
       "value": "$$somato_3$$"
      }
     },
     "c8f5202541a24b8faa53655bb64d6ab9": {
      "model_module": "jupyter-js-widgets",
      "model_module_version": "~2.1.4",
      "model_name": "LayoutModel",
      "state": {
       "_model_module_version": "~2.1.4",
       "_view_module_version": "~2.1.4"
      }
     },
     "ca92216a772d4b7fad3f23c9136be67e": {
      "model_module": "jupyter-js-widgets",
      "model_module_version": "~2.1.4",
      "model_name": "LabelModel",
      "state": {
       "_model_module_version": "~2.1.4",
       "_view_module_version": "~2.1.4",
       "layout": "IPY_MODEL_a2b7d9419a904310b4d005b8c0e71431",
       "value": "$$somato_1$$"
      }
     },
     "cbc194aa1e9448829266ef67f4712695": {
      "model_module": "jupyter-js-widgets",
      "model_module_version": "~2.1.4",
      "model_name": "LayoutModel",
      "state": {
       "_model_module_version": "~2.1.4",
       "_view_module_version": "~2.1.4"
      }
     },
     "cc0e4188400f4f0cadbe0b5c21de3282": {
      "model_module": "jupyter-js-widgets",
      "model_module_version": "~2.1.4",
      "model_name": "LayoutModel",
      "state": {
       "_model_module_version": "~2.1.4",
       "_view_module_version": "~2.1.4"
      }
     },
     "cc6047833ed94c8ebcd6012c776ac85f": {
      "model_module": "jupyter-js-widgets",
      "model_module_version": "~2.1.4",
      "model_name": "HBoxModel",
      "state": {
       "_model_module_version": "~2.1.4",
       "_view_module_version": "~2.1.4",
       "children": [
        "IPY_MODEL_95c5d9902c284f0d807c26fc3ef5e8e9",
        "IPY_MODEL_6e1900ada58d484a87fa84e57eb69db0"
       ],
       "layout": "IPY_MODEL_13afe5e5ce8f4fb48dced2b98ed6331f"
      }
     },
     "cc6fe57df7ab489da6a8cc9edec6807d": {
      "model_module": "jupyter-js-widgets",
      "model_module_version": "~2.1.4",
      "model_name": "LayoutModel",
      "state": {
       "_model_module_version": "~2.1.4",
       "_view_module_version": "~2.1.4"
      }
     },
     "ccc73d37f8b14e30ba5d2ba0489fb86a": {
      "model_module": "jupyter-js-widgets",
      "model_module_version": "~2.1.4",
      "model_name": "LayoutModel",
      "state": {
       "_model_module_version": "~2.1.4",
       "_view_module_version": "~2.1.4"
      }
     },
     "ccff931143534f339550ce0b7793f85e": {
      "model_module": "jupyter-js-widgets",
      "model_module_version": "~2.1.4",
      "model_name": "HBoxModel",
      "state": {
       "_model_module_version": "~2.1.4",
       "_view_module_version": "~2.1.4",
       "children": [
        "IPY_MODEL_c2702d2015c344a3832f512e2479614c",
        "IPY_MODEL_845de3c04cff49118ab6de9d3ae838fa"
       ],
       "layout": "IPY_MODEL_5ce7aca27f2e4c6b8d8aa52f2753a765"
      }
     },
     "cea79d28cd3b4db786eee39f098cd44f": {
      "model_module": "jupyter-js-widgets",
      "model_module_version": "~2.1.4",
      "model_name": "LayoutModel",
      "state": {
       "_model_module_version": "~2.1.4",
       "_view_module_version": "~2.1.4"
      }
     },
     "cf1dc4dfdec44bd38c0a26f20c770497": {
      "model_module": "jupyter-js-widgets",
      "model_module_version": "~2.1.4",
      "model_name": "VBoxModel",
      "state": {
       "_model_module_version": "~2.1.4",
       "_view_module_version": "~2.1.4",
       "children": [
        "IPY_MODEL_407fa050c9b848589f37b41d483681a4"
       ],
       "layout": "IPY_MODEL_b8171da389d6471b92748589080b3d26"
      }
     },
     "cf912cd176bc4f65a2c8fc48c86b3e69": {
      "model_module": "jupyter-js-widgets",
      "model_module_version": "~2.1.4",
      "model_name": "LayoutModel",
      "state": {
       "_model_module_version": "~2.1.4",
       "_view_module_version": "~2.1.4"
      }
     },
     "d00aa4f9229141328ed585bfb5db9c9b": {
      "model_module": "jupyter-js-widgets",
      "model_module_version": "~2.1.4",
      "model_name": "TextModel",
      "state": {
       "_model_module_version": "~2.1.4",
       "_view_module_version": "~2.1.4",
       "layout": "IPY_MODEL_cc0e4188400f4f0cadbe0b5c21de3282",
       "value": "3.81324897317"
      }
     },
     "d05035e9e1aa459493428f65979d1036": {
      "model_module": "jupyter-js-widgets",
      "model_module_version": "~2.1.4",
      "model_name": "LayoutModel",
      "state": {
       "_model_module_version": "~2.1.4",
       "_view_module_version": "~2.1.4"
      }
     },
     "d0b9398efc084e78912de5f646bcd3b3": {
      "model_module": "jupyter-js-widgets",
      "model_module_version": "~2.1.4",
      "model_name": "LayoutModel",
      "state": {
       "_model_module_version": "~2.1.4",
       "_view_module_version": "~2.1.4"
      }
     },
     "d1a0138c9e15451999de246861a78b6f": {
      "model_module": "jupyter-js-widgets",
      "model_module_version": "~2.1.4",
      "model_name": "TextModel",
      "state": {
       "_model_module_version": "~2.1.4",
       "_view_module_version": "~2.1.4",
       "layout": "IPY_MODEL_e1997e260e4e42269ec12c96eabd9c13",
       "value": "0.693769697671654"
      }
     },
     "d1c2061326154b36a491639595a8718c": {
      "model_module": "jupyter-js-widgets",
      "model_module_version": "~2.1.4",
      "model_name": "FloatSliderModel",
      "state": {
       "_model_module_version": "~2.1.4",
       "_view_module_version": "~2.1.4",
       "continuous_update": false,
       "description": "M1",
       "layout": "IPY_MODEL_82d7de39c98349958dbcd7577ff79d62",
       "max": 6,
       "orientation": "vertical",
       "readout_format": "f",
       "slider_color": "white",
       "step": 0.1,
       "value": 1.5
      }
     },
     "d29e72904b8f45489a6264fbef5a5d22": {
      "model_module": "jupyter-js-widgets",
      "model_module_version": "~2.1.4",
      "model_name": "HBoxModel",
      "state": {
       "_model_module_version": "~2.1.4",
       "_view_module_version": "~2.1.4",
       "children": [
        "IPY_MODEL_8601bdc85edc44808cb62f745bffe0d8",
        "IPY_MODEL_408a2158ccff4d0da6c827525c9e2601"
       ],
       "layout": "IPY_MODEL_6ac2bb0defce4fdbbbf11143ac5573fa"
      }
     },
     "d2ce4aca5c8d4570965fa771e03a81b5": {
      "model_module": "jupyter-js-widgets",
      "model_module_version": "~2.1.4",
      "model_name": "LayoutModel",
      "state": {
       "_model_module_version": "~2.1.4",
       "_view_module_version": "~2.1.4"
      }
     },
     "d2fd651c72ee459287b10c03bdd4aebb": {
      "model_module": "jupyter-js-widgets",
      "model_module_version": "~2.1.4",
      "model_name": "LabelModel",
      "state": {
       "_model_module_version": "~2.1.4",
       "_view_module_version": "~2.1.4",
       "layout": "IPY_MODEL_257ee9316fca4cabbd8fdbd6f32fa278",
       "value": "$$somato_3$$"
      }
     },
     "d379304848ff401ea5411b0f9b2d6806": {
      "model_module": "jupyter-js-widgets",
      "model_module_version": "~2.1.4",
      "model_name": "TextModel",
      "state": {
       "_model_module_version": "~2.1.4",
       "_view_module_version": "~2.1.4",
       "layout": "IPY_MODEL_ae95f06ae1a345718c48ee250bef552a",
       "value": "1.8178974616e-08"
      }
     },
     "d3bafde6c9e4403f92813e39c508277f": {
      "model_module": "jupyter-js-widgets",
      "model_module_version": "~2.1.4",
      "model_name": "LayoutModel",
      "state": {
       "_model_module_version": "~2.1.4",
       "_view_module_version": "~2.1.4"
      }
     },
     "d441b5ecd20641abb559606d9ced975d": {
      "model_module": "jupyter-js-widgets",
      "model_module_version": "~2.1.4",
      "model_name": "HBoxModel",
      "state": {
       "_model_module_version": "~2.1.4",
       "_view_module_version": "~2.1.4",
       "children": [
        "IPY_MODEL_85e07b4cd4e44694a25625db4db7e8f3",
        "IPY_MODEL_11aa0173619d46508ea798afe7acc1dd"
       ],
       "layout": "IPY_MODEL_c7619793f7234914ab570abd2acdc30c"
      }
     },
     "d55555e066dd42d8ad41398fa35f04bc": {
      "model_module": "jupyter-js-widgets",
      "model_module_version": "~2.1.4",
      "model_name": "HBoxModel",
      "state": {
       "_model_module_version": "~2.1.4",
       "_view_module_version": "~2.1.4",
       "children": [
        "IPY_MODEL_54f7775aa5764b40b5ac8944fc5b09d8",
        "IPY_MODEL_baf0f26eb9bc4bdc882eb5632795e1d4"
       ],
       "layout": "IPY_MODEL_e1f77877fc034429a5ef8ee647fd387d"
      }
     },
     "d57df681be8d4d7b8b2aad78e72cc655": {
      "model_module": "jupyter-js-widgets",
      "model_module_version": "~2.1.4",
      "model_name": "LayoutModel",
      "state": {
       "_model_module_version": "~2.1.4",
       "_view_module_version": "~2.1.4"
      }
     },
     "d5dfff5c38fb4770a8bf39cbe3417d32": {
      "model_module": "jupyter-js-widgets",
      "model_module_version": "~2.1.4",
      "model_name": "LabelModel",
      "state": {
       "_model_module_version": "~2.1.4",
       "_view_module_version": "~2.1.4",
       "layout": "IPY_MODEL_228e98c6368b47368f78dbfbc42bb6f1",
       "value": "$$somato_1$$"
      }
     },
     "d5e5702bbc68442a8fee82198bac9edc": {
      "model_module": "jupyter-js-widgets",
      "model_module_version": "~2.1.4",
      "model_name": "HBoxModel",
      "state": {
       "_model_module_version": "~2.1.4",
       "_view_module_version": "~2.1.4",
       "children": [
        [
         "IPY_MODEL_85f57eb1b3c04ba79d4983e5c8d51d70",
         "IPY_MODEL_262ecf15a31448d9ae78f256acd2ac3f"
        ]
       ],
       "layout": "IPY_MODEL_ffe9d1742af845bc9892ef815f9a1c2f"
      }
     },
     "d697def87a834382a57d00a4c5a2e88e": {
      "model_module": "jupyter-js-widgets",
      "model_module_version": "~2.1.4",
      "model_name": "LayoutModel",
      "state": {
       "_model_module_version": "~2.1.4",
       "_view_module_version": "~2.1.4"
      }
     },
     "d6bfbd52264845889e4727e709d5815a": {
      "model_module": "jupyter-js-widgets",
      "model_module_version": "~2.1.4",
      "model_name": "HBoxModel",
      "state": {
       "_model_module_version": "~2.1.4",
       "_view_module_version": "~2.1.4",
       "children": [
        "IPY_MODEL_13ff045646b94a12822cb36d7e626633",
        "IPY_MODEL_30abb1aab43348eab122c51a58f36e88"
       ],
       "layout": "IPY_MODEL_93ec86fb0a4943a79ba45e8a65c101fc"
      }
     },
     "d6c83e89ab0d4809a8ca503fa1501d15": {
      "model_module": "jupyter-js-widgets",
      "model_module_version": "~2.1.4",
      "model_name": "LayoutModel",
      "state": {
       "_model_module_version": "~2.1.4",
       "_view_module_version": "~2.1.4"
      }
     },
     "d80abd48ecb240cf96e7f2cc8010277b": {
      "model_module": "jupyter-js-widgets",
      "model_module_version": "~2.1.4",
      "model_name": "LayoutModel",
      "state": {
       "_model_module_version": "~2.1.4",
       "_view_module_version": "~2.1.4"
      }
     },
     "d854955847d04acbb6e510b0f7e4ff66": {
      "model_module": "jupyter-js-widgets",
      "model_module_version": "~2.1.4",
      "model_name": "LabelModel",
      "state": {
       "_model_module_version": "~2.1.4",
       "_view_module_version": "~2.1.4",
       "layout": "IPY_MODEL_95cef67f0755438fa1df2e531e48ab3a",
       "value": "$$somato_3$$"
      }
     },
     "d896c538a90c4b10b4a10b41f703fa98": {
      "model_module": "jupyter-js-widgets",
      "model_module_version": "~2.1.4",
      "model_name": "HBoxModel",
      "state": {
       "_model_module_version": "~2.1.4",
       "_view_module_version": "~2.1.4",
       "children": [
        "IPY_MODEL_b0c33f510b5b4216812a53fc19236ff7",
        "IPY_MODEL_29d5a6c795624debbde81de4039f5ff8"
       ],
       "layout": "IPY_MODEL_843d2a8872fb4d7ebacb7862dd7718f4"
      }
     },
     "d8c690fd1fd04a3d9ea942b199bae0cc": {
      "model_module": "jupyter-js-widgets",
      "model_module_version": "~2.1.4",
      "model_name": "LayoutModel",
      "state": {
       "_model_module_version": "~2.1.4",
       "_view_module_version": "~2.1.4"
      }
     },
     "da6558812fd840808567960cda0a045f": {
      "model_module": "jupyter-js-widgets",
      "model_module_version": "~2.1.4",
      "model_name": "LayoutModel",
      "state": {
       "_model_module_version": "~2.1.4",
       "_view_module_version": "~2.1.4"
      }
     },
     "db18d6b3167940568d6f01a71668e7a5": {
      "model_module": "jupyter-js-widgets",
      "model_module_version": "~2.1.4",
      "model_name": "LayoutModel",
      "state": {
       "_model_module_version": "~2.1.4",
       "_view_module_version": "~2.1.4"
      }
     },
     "dd3efaf9bcbd4ae3bd6be975590bdf2c": {
      "model_module": "jupyter-js-widgets",
      "model_module_version": "~2.1.4",
      "model_name": "LayoutModel",
      "state": {
       "_model_module_version": "~2.1.4",
       "_view_module_version": "~2.1.4"
      }
     },
     "dd42647e59ea441abc01a41bb596eae6": {
      "model_module": "jupyter-js-widgets",
      "model_module_version": "~2.1.4",
      "model_name": "LayoutModel",
      "state": {
       "_model_module_version": "~2.1.4",
       "_view_module_version": "~2.1.4"
      }
     },
     "dd4e31b893d3471dbe249414c35ec394": {
      "model_module": "jupyter-js-widgets",
      "model_module_version": "~2.1.4",
      "model_name": "VBoxModel",
      "state": {
       "_model_module_version": "~2.1.4",
       "_view_module_version": "~2.1.4",
       "children": [
        "IPY_MODEL_9225258f565b4c61b75b008c0c64a392"
       ],
       "layout": "IPY_MODEL_e39b0a13cb284e11ac4edd0049ef0a7d"
      }
     },
     "dd6de264ec7c4877bf2bbd21115908a3": {
      "model_module": "jupyter-js-widgets",
      "model_module_version": "~2.1.4",
      "model_name": "TextModel",
      "state": {
       "_model_module_version": "~2.1.4",
       "_view_module_version": "~2.1.4",
       "disabled": true,
       "layout": "IPY_MODEL_985b05b7cd45475d874da9df34043744",
       "value": "2.05451532449"
      }
     },
     "dd87bd6576a94e3bb956673f48035f27": {
      "model_module": "jupyter-js-widgets",
      "model_module_version": "~2.1.4",
      "model_name": "LayoutModel",
      "state": {
       "_model_module_version": "~2.1.4",
       "_view_module_version": "~2.1.4"
      }
     },
     "dd981c68bcc7489ca64d91d11c8104a3": {
      "model_module": "jupyter-js-widgets",
      "model_module_version": "~2.1.4",
      "model_name": "LayoutModel",
      "state": {
       "_model_module_version": "~2.1.4",
       "_view_module_version": "~2.1.4"
      }
     },
     "dde99b96c92944d48635c2b339cbaae6": {
      "model_module": "jupyter-js-widgets",
      "model_module_version": "~2.1.4",
      "model_name": "LabelModel",
      "state": {
       "_model_module_version": "~2.1.4",
       "_view_module_version": "~2.1.4",
       "layout": "IPY_MODEL_9c5af3744f4a4c85a5d7e40a2185d86c",
       "value": "$$somato_4$$"
      }
     },
     "de781203219749b9bba274598dd4bdf3": {
      "model_module": "jupyter-js-widgets",
      "model_module_version": "~2.1.4",
      "model_name": "TextModel",
      "state": {
       "_model_module_version": "~2.1.4",
       "_view_module_version": "~2.1.4",
       "disabled": true,
       "layout": "IPY_MODEL_d8c690fd1fd04a3d9ea942b199bae0cc",
       "value": "7.38110467795e-15"
      }
     },
     "dee18de59bf04621baeff5fdc5b563fa": {
      "model_module": "jupyter-js-widgets",
      "model_module_version": "~2.1.4",
      "model_name": "LabelModel",
      "state": {
       "_model_module_version": "~2.1.4",
       "_view_module_version": "~2.1.4",
       "layout": "IPY_MODEL_b6d97b9986544f3e972af178eabe1c81",
       "value": "$$somato_2$$"
      }
     },
     "df5dde1cecce421eaa81d6fbba5a28ec": {
      "model_module": "jupyter-js-widgets",
      "model_module_version": "~2.1.4",
      "model_name": "LayoutModel",
      "state": {
       "_model_module_version": "~2.1.4",
       "_view_module_version": "~2.1.4"
      }
     },
     "df750c7979e74d98806c28aa89629bc9": {
      "model_module": "jupyter-js-widgets",
      "model_module_version": "~2.1.4",
      "model_name": "FloatSliderModel",
      "state": {
       "_model_module_version": "~2.1.4",
       "_view_module_version": "~2.1.4",
       "continuous_update": false,
       "description": "M0",
       "layout": "IPY_MODEL_a491ee8cf03f4fd39d3823c9c72a5b7f",
       "max": 6,
       "orientation": "vertical",
       "readout_format": "f",
       "slider_color": "white",
       "step": 0.1
      }
     },
     "df8c339b09cf496e931a03c51ad1249c": {
      "model_module": "jupyter-js-widgets",
      "model_module_version": "~2.1.4",
      "model_name": "LayoutModel",
      "state": {
       "_model_module_version": "~2.1.4",
       "_view_module_version": "~2.1.4"
      }
     },
     "dfb19d3a1df9429684fa017aa48bfb40": {
      "model_module": "jupyter-js-widgets",
      "model_module_version": "~2.1.4",
      "model_name": "VBoxModel",
      "state": {
       "_model_module_version": "~2.1.4",
       "_view_module_version": "~2.1.4",
       "children": [
        "IPY_MODEL_b1ba3377086d4cfa929600348174f03a"
       ],
       "layout": "IPY_MODEL_effb442a7d50456fb1f2504d6ef07ddd"
      }
     },
     "dfe2106e24504f89bca419f0b32422a4": {
      "model_module": "jupyter-js-widgets",
      "model_module_version": "~2.1.4",
      "model_name": "TextModel",
      "state": {
       "_model_module_version": "~2.1.4",
       "_view_module_version": "~2.1.4",
       "disabled": true,
       "layout": "IPY_MODEL_291f4693976045fba69d08b5cfd20e80",
       "value": "Welcome"
      }
     },
     "e022182116d04f95a779395834033a8c": {
      "model_module": "jupyter-js-widgets",
      "model_module_version": "~2.1.4",
      "model_name": "LayoutModel",
      "state": {
       "_model_module_version": "~2.1.4",
       "_view_module_version": "~2.1.4"
      }
     },
     "e0a7ae7d9ed642db8953fdee0b5e9ccd": {
      "model_module": "jupyter-js-widgets",
      "model_module_version": "~2.1.4",
      "model_name": "LabelModel",
      "state": {
       "_model_module_version": "~2.1.4",
       "_view_module_version": "~2.1.4",
       "layout": "IPY_MODEL_1f516a327663432c9b501d4f4e74a56d",
       "value": "$$somato_1$$"
      }
     },
     "e1997e260e4e42269ec12c96eabd9c13": {
      "model_module": "jupyter-js-widgets",
      "model_module_version": "~2.1.4",
      "model_name": "LayoutModel",
      "state": {
       "_model_module_version": "~2.1.4",
       "_view_module_version": "~2.1.4"
      }
     },
     "e1f77877fc034429a5ef8ee647fd387d": {
      "model_module": "jupyter-js-widgets",
      "model_module_version": "~2.1.4",
      "model_name": "LayoutModel",
      "state": {
       "_model_module_version": "~2.1.4",
       "_view_module_version": "~2.1.4"
      }
     },
     "e367df7014224728bd52d49836171ce0": {
      "model_module": "jupyter-js-widgets",
      "model_module_version": "~2.1.4",
      "model_name": "HBoxModel",
      "state": {
       "_model_module_version": "~2.1.4",
       "_view_module_version": "~2.1.4",
       "children": [
        "IPY_MODEL_0a30a3f18afc4be49b2f145da058b457",
        "IPY_MODEL_dfe2106e24504f89bca419f0b32422a4"
       ],
       "layout": "IPY_MODEL_d0b9398efc084e78912de5f646bcd3b3"
      }
     },
     "e39b0a13cb284e11ac4edd0049ef0a7d": {
      "model_module": "jupyter-js-widgets",
      "model_module_version": "~2.1.4",
      "model_name": "LayoutModel",
      "state": {
       "_model_module_version": "~2.1.4",
       "_view_module_version": "~2.1.4"
      }
     },
     "e3bfa29b230b4e80b592ef69887cdefd": {
      "model_module": "jupyter-js-widgets",
      "model_module_version": "~2.1.4",
      "model_name": "LayoutModel",
      "state": {
       "_model_module_version": "~2.1.4",
       "_view_module_version": "~2.1.4"
      }
     },
     "e3c8d46ed07a428cafba3a8c04ba8f33": {
      "model_module": "jupyter-js-widgets",
      "model_module_version": "~2.1.4",
      "model_name": "LayoutModel",
      "state": {
       "_model_module_version": "~2.1.4",
       "_view_module_version": "~2.1.4"
      }
     },
     "e5ae74b9c125428fa921e645e8a63d6f": {
      "model_module": "jupyter-js-widgets",
      "model_module_version": "~2.1.4",
      "model_name": "LayoutModel",
      "state": {
       "_model_module_version": "~2.1.4",
       "_view_module_version": "~2.1.4"
      }
     },
     "e5c39329f7ea4465b6df3252376e3276": {
      "model_module": "jupyter-js-widgets",
      "model_module_version": "~2.1.4",
      "model_name": "FloatSliderModel",
      "state": {
       "_model_module_version": "~2.1.4",
       "_view_module_version": "~2.1.4",
       "continuous_update": false,
       "description": "M1",
       "layout": "IPY_MODEL_54a45d7f881249af90bee93fdb7223ff",
       "max": 6,
       "orientation": "vertical",
       "readout_format": "f",
       "slider_color": "white",
       "step": 0.1,
       "value": 1.7
      }
     },
     "e5cd9dfcc3744ee8b4a2ee384a0daf5d": {
      "model_module": "jupyter-js-widgets",
      "model_module_version": "~2.1.4",
      "model_name": "HBoxModel",
      "state": {
       "_model_module_version": "~2.1.4",
       "_view_module_version": "~2.1.4",
       "children": [
        "IPY_MODEL_8a89906c4bfd407dad168ebe6f1e028a",
        "IPY_MODEL_204b796966b643b6a405474f7c2d777a"
       ],
       "layout": "IPY_MODEL_f82bc9f4c6d742c6a3517db303599d1d"
      }
     },
     "e7b31005a5954b70a2dd0920cb049891": {
      "model_module": "jupyter-js-widgets",
      "model_module_version": "~2.1.4",
      "model_name": "LayoutModel",
      "state": {
       "_model_module_version": "~2.1.4",
       "_view_module_version": "~2.1.4"
      }
     },
     "e8d1cdd29b7148168bfe1d8c43b0fffb": {
      "model_module": "jupyter-js-widgets",
      "model_module_version": "~2.1.4",
      "model_name": "HBoxModel",
      "state": {
       "_model_module_version": "~2.1.4",
       "_view_module_version": "~2.1.4",
       "children": [
        "IPY_MODEL_647f3b13ec664e9ea6a5aeb737822631",
        "IPY_MODEL_953b7dc5182f4ae7beb66cb431e8a66f"
       ],
       "layout": "IPY_MODEL_15352bc9fc5f42c08b661858f8fca277"
      }
     },
     "e8d6343aa8a642938b583cd37bcacb54": {
      "model_module": "jupyter-js-widgets",
      "model_module_version": "~2.1.4",
      "model_name": "HBoxModel",
      "state": {
       "_model_module_version": "~2.1.4",
       "_view_module_version": "~2.1.4",
       "children": [
        "IPY_MODEL_0a30a3f18afc4be49b2f145da058b457",
        "IPY_MODEL_dfe2106e24504f89bca419f0b32422a4"
       ],
       "layout": "IPY_MODEL_635d62a4e4534fe497fe2575978970e0"
      }
     },
     "e933db7264724b1d9c3b934ccc48a5b1": {
      "model_module": "jupyter-js-widgets",
      "model_module_version": "~2.1.4",
      "model_name": "HBoxModel",
      "state": {
       "_model_module_version": "~2.1.4",
       "_view_module_version": "~2.1.4",
       "children": [
        "IPY_MODEL_e0a7ae7d9ed642db8953fdee0b5e9ccd",
        "IPY_MODEL_342c6e7fa5a649ebaedc566f23ec00e4"
       ],
       "layout": "IPY_MODEL_0d53f0a8430b4616bf3f1aebc34193af"
      }
     },
     "ea1052348f1a4491afd433ee74121f81": {
      "model_module": "jupyter-js-widgets",
      "model_module_version": "~2.1.4",
      "model_name": "HBoxModel",
      "state": {
       "_model_module_version": "~2.1.4",
       "_view_module_version": "~2.1.4",
       "children": [
        [
         "IPY_MODEL_c1db0305438347a39de078761959338b",
         "IPY_MODEL_334610aeb8e74f63bab00e9fe503e7b9"
        ],
        "IPY_MODEL_dfb19d3a1df9429684fa017aa48bfb40"
       ],
       "layout": "IPY_MODEL_e3c8d46ed07a428cafba3a8c04ba8f33"
      }
     },
     "eabf375ad5324dd0959c6e3917976ed8": {
      "model_module": "jupyter-js-widgets",
      "model_module_version": "~2.1.4",
      "model_name": "LayoutModel",
      "state": {
       "_model_module_version": "~2.1.4",
       "_view_module_version": "~2.1.4"
      }
     },
     "ebda6deb93d54692af80c80f7d844222": {
      "model_module": "jupyter-js-widgets",
      "model_module_version": "~2.1.4",
      "model_name": "HBoxModel",
      "state": {
       "_model_module_version": "~2.1.4",
       "_view_module_version": "~2.1.4",
       "children": [
        "IPY_MODEL_3a4bc71b706448ea91f40e9a1047b0ae",
        "IPY_MODEL_ada4573b29c34ec885649f08a2a08dcd"
       ],
       "layout": "IPY_MODEL_f5db8c4f07f742b4b988c77271a31b9f"
      }
     },
     "ec15b60698244bf4b29263555d57541a": {
      "model_module": "jupyter-js-widgets",
      "model_module_version": "~2.1.4",
      "model_name": "LayoutModel",
      "state": {
       "_model_module_version": "~2.1.4",
       "_view_module_version": "~2.1.4"
      }
     },
     "ec71a1d32bcd448e89a871aba044ab76": {
      "model_module": "jupyter-js-widgets",
      "model_module_version": "~2.1.4",
      "model_name": "LayoutModel",
      "state": {
       "_model_module_version": "~2.1.4",
       "_view_module_version": "~2.1.4"
      }
     },
     "ece451cf2f0b47f59461fa14580fff83": {
      "model_module": "jupyter-js-widgets",
      "model_module_version": "~2.1.4",
      "model_name": "LayoutModel",
      "state": {
       "_model_module_version": "~2.1.4",
       "_view_module_version": "~2.1.4"
      }
     },
     "edcb44a7394f4aa5b5de4fc484404a58": {
      "model_module": "jupyter-js-widgets",
      "model_module_version": "~2.1.4",
      "model_name": "LayoutModel",
      "state": {
       "_model_module_version": "~2.1.4",
       "_view_module_version": "~2.1.4"
      }
     },
     "ee09cef7b6b64dbfa79394cdfc026ca0": {
      "model_module": "jupyter-js-widgets",
      "model_module_version": "~2.1.4",
      "model_name": "VBoxModel",
      "state": {
       "_model_module_version": "~2.1.4",
       "_view_module_version": "~2.1.4",
       "children": [
        "IPY_MODEL_55864bec28984db7afcd2654b002b010"
       ],
       "layout": "IPY_MODEL_a923da6e80ea4654bba61aaf3fb6e1d7"
      }
     },
     "eea671f8e7bf4964929d994429b45d0d": {
      "model_module": "jupyter-js-widgets",
      "model_module_version": "~2.1.4",
      "model_name": "FloatSliderModel",
      "state": {
       "_model_module_version": "~2.1.4",
       "_view_module_version": "~2.1.4",
       "continuous_update": false,
       "description": "M0",
       "layout": "IPY_MODEL_676236d283b447bfb8d889c25fe8e137",
       "max": 6,
       "orientation": "vertical",
       "readout_format": "f",
       "slider_color": "white",
       "step": 0.1,
       "value": 1.4
      }
     },
     "ef4506d025984f079c8045d8a422ec04": {
      "model_module": "jupyter-js-widgets",
      "model_module_version": "~2.1.4",
      "model_name": "HBoxModel",
      "state": {
       "_model_module_version": "~2.1.4",
       "_view_module_version": "~2.1.4",
       "children": [
        "IPY_MODEL_3bfd11c2a3b148eebd96b0d9cfc9dbce",
        "IPY_MODEL_d1c2061326154b36a491639595a8718c"
       ],
       "layout": "IPY_MODEL_e3bfa29b230b4e80b592ef69887cdefd"
      }
     },
     "ef75794e96a04445b9814ee248caa744": {
      "model_module": "jupyter-js-widgets",
      "model_module_version": "~2.1.4",
      "model_name": "LayoutModel",
      "state": {
       "_model_module_version": "~2.1.4",
       "_view_module_version": "~2.1.4"
      }
     },
     "effb442a7d50456fb1f2504d6ef07ddd": {
      "model_module": "jupyter-js-widgets",
      "model_module_version": "~2.1.4",
      "model_name": "LayoutModel",
      "state": {
       "_model_module_version": "~2.1.4",
       "_view_module_version": "~2.1.4"
      }
     },
     "f089d89bcdeb4e6cba5d911291b38715": {
      "model_module": "jupyter-js-widgets",
      "model_module_version": "~2.1.4",
      "model_name": "HBoxModel",
      "state": {
       "_model_module_version": "~2.1.4",
       "_view_module_version": "~2.1.4",
       "children": [
        "IPY_MODEL_bb61bb28cbd8474a9d21a2c305cd2264",
        "IPY_MODEL_11f410910c7b4d11825205b8e11c61ce"
       ],
       "layout": "IPY_MODEL_7962310d21d44e89a71a79b4f01e8455"
      }
     },
     "f1457b66be784188bba35ebbffc8dc2a": {
      "model_module": "jupyter-js-widgets",
      "model_module_version": "~2.1.4",
      "model_name": "LayoutModel",
      "state": {
       "_model_module_version": "~2.1.4",
       "_view_module_version": "~2.1.4"
      }
     },
     "f170e34af8c24d9a895f0f4f7a3ba071": {
      "model_module": "jupyter-js-widgets",
      "model_module_version": "~2.1.4",
      "model_name": "HBoxModel",
      "state": {
       "_model_module_version": "~2.1.4",
       "_view_module_version": "~2.1.4",
       "children": [
        "IPY_MODEL_f3f864a730d2460ba7d51ac23511e123",
        "IPY_MODEL_6e1900ada58d484a87fa84e57eb69db0"
       ],
       "layout": "IPY_MODEL_a82939417c1a43feb3c1cccf51cae718"
      }
     },
     "f1d9ae75c4184d88be1c9639f6fe5a01": {
      "model_module": "jupyter-js-widgets",
      "model_module_version": "~2.1.4",
      "model_name": "TextModel",
      "state": {
       "_model_module_version": "~2.1.4",
       "_view_module_version": "~2.1.4",
       "disabled": true,
       "layout": "IPY_MODEL_9a5b36218d7849148dd369090570c96f",
       "value": "Welcome"
      }
     },
     "f37436c59630429c9617fc1965269bd5": {
      "model_module": "jupyter-js-widgets",
      "model_module_version": "~2.1.4",
      "model_name": "LayoutModel",
      "state": {
       "_model_module_version": "~2.1.4",
       "_view_module_version": "~2.1.4"
      }
     },
     "f3bec202a40d42f2ab3c8e8905aa89d9": {
      "model_module": "jupyter-js-widgets",
      "model_module_version": "~2.1.4",
      "model_name": "TextModel",
      "state": {
       "_model_module_version": "~2.1.4",
       "_view_module_version": "~2.1.4",
       "disabled": true,
       "layout": "IPY_MODEL_3b7d23b7d67d473081719290f3b8c36d",
       "value": "Welcome"
      }
     },
     "f3c5038691124a4aae152d557982fbaf": {
      "model_module": "jupyter-js-widgets",
      "model_module_version": "~2.1.4",
      "model_name": "TextModel",
      "state": {
       "_model_module_version": "~2.1.4",
       "_view_module_version": "~2.1.4",
       "disabled": true,
       "layout": "IPY_MODEL_5836d8eec7b947c0ba5e67c2ed88640d",
       "value": "Welcome"
      }
     },
     "f3f864a730d2460ba7d51ac23511e123": {
      "model_module": "jupyter-js-widgets",
      "model_module_version": "~2.1.4",
      "model_name": "LabelModel",
      "state": {
       "_model_module_version": "~2.1.4",
       "_view_module_version": "~2.1.4",
       "layout": "IPY_MODEL_c09b38bfca664be6a6bc787c9a4c37c7",
       "value": "$$somato_4$$"
      }
     },
     "f46edf4cfbac466d9698ca456ef56887": {
      "model_module": "jupyter-js-widgets",
      "model_module_version": "~2.1.4",
      "model_name": "LabelModel",
      "state": {
       "_model_module_version": "~2.1.4",
       "_view_module_version": "~2.1.4",
       "layout": "IPY_MODEL_759a491fa5874afa93422ef239b3df0d",
       "value": "$$somato_2$$"
      }
     },
     "f5db8c4f07f742b4b988c77271a31b9f": {
      "model_module": "jupyter-js-widgets",
      "model_module_version": "~2.1.4",
      "model_name": "LayoutModel",
      "state": {
       "_model_module_version": "~2.1.4",
       "_view_module_version": "~2.1.4"
      }
     },
     "f77230444cfc4d76be5ada28ffbf4df3": {
      "model_module": "jupyter-js-widgets",
      "model_module_version": "~2.1.4",
      "model_name": "LayoutModel",
      "state": {
       "_model_module_version": "~2.1.4",
       "_view_module_version": "~2.1.4"
      }
     },
     "f82bc9f4c6d742c6a3517db303599d1d": {
      "model_module": "jupyter-js-widgets",
      "model_module_version": "~2.1.4",
      "model_name": "LayoutModel",
      "state": {
       "_model_module_version": "~2.1.4",
       "_view_module_version": "~2.1.4"
      }
     },
     "f83d2fb42a994a7d941832541e3be5f4": {
      "model_module": "jupyter-js-widgets",
      "model_module_version": "~2.1.4",
      "model_name": "LayoutModel",
      "state": {
       "_model_module_version": "~2.1.4",
       "_view_module_version": "~2.1.4"
      }
     },
     "f883a6fde2ea4a6495fbd5bc791eb0c8": {
      "model_module": "jupyter-js-widgets",
      "model_module_version": "~2.1.4",
      "model_name": "HBoxModel",
      "state": {
       "_model_module_version": "~2.1.4",
       "_view_module_version": "~2.1.4",
       "children": [
        "IPY_MODEL_a48864a8db294cedbd25523861dd8a5d",
        "IPY_MODEL_f1d9ae75c4184d88be1c9639f6fe5a01"
       ],
       "layout": "IPY_MODEL_a580fc0eeabd40c090ea27cbc98aca26"
      }
     },
     "f8b34b3e03504d0393da4b1be3d8aa42": {
      "model_module": "jupyter-js-widgets",
      "model_module_version": "~2.1.4",
      "model_name": "HBoxModel",
      "state": {
       "_model_module_version": "~2.1.4",
       "_view_module_version": "~2.1.4",
       "children": [
        "IPY_MODEL_ca92216a772d4b7fad3f23c9136be67e",
        "IPY_MODEL_f1d9ae75c4184d88be1c9639f6fe5a01"
       ],
       "layout": "IPY_MODEL_95e1ffcf3e134dab877f7c6785d10e26"
      }
     },
     "f97a0e71637344be9ee702ef87d9b5a1": {
      "model_module": "jupyter-js-widgets",
      "model_module_version": "~2.1.4",
      "model_name": "LayoutModel",
      "state": {
       "_model_module_version": "~2.1.4",
       "_view_module_version": "~2.1.4"
      }
     },
     "f99a82b2088f42fabe3693979b6a4fe3": {
      "model_module": "jupyter-js-widgets",
      "model_module_version": "~2.1.4",
      "model_name": "LayoutModel",
      "state": {
       "_model_module_version": "~2.1.4",
       "_view_module_version": "~2.1.4"
      }
     },
     "f99f0df020be40a482cb20c6a769d203": {
      "model_module": "jupyter-js-widgets",
      "model_module_version": "~2.1.4",
      "model_name": "HBoxModel",
      "state": {
       "_model_module_version": "~2.1.4",
       "_view_module_version": "~2.1.4",
       "children": [
        "IPY_MODEL_d5dfff5c38fb4770a8bf39cbe3417d32",
        "IPY_MODEL_d379304848ff401ea5411b0f9b2d6806"
       ],
       "layout": "IPY_MODEL_ec15b60698244bf4b29263555d57541a"
      }
     },
     "faae3007c5324afb91eca6c62f633899": {
      "model_module": "jupyter-js-widgets",
      "model_module_version": "~2.1.4",
      "model_name": "LayoutModel",
      "state": {
       "_model_module_version": "~2.1.4",
       "_view_module_version": "~2.1.4"
      }
     },
     "fad95e44fddb4d71883a5a7de9bfdc38": {
      "model_module": "jupyter-js-widgets",
      "model_module_version": "~2.1.4",
      "model_name": "LayoutModel",
      "state": {
       "_model_module_version": "~2.1.4",
       "_view_module_version": "~2.1.4"
      }
     },
     "fbd59e55067749ffaa4d4d44982f4bcd": {
      "model_module": "jupyter-js-widgets",
      "model_module_version": "~2.1.4",
      "model_name": "LayoutModel",
      "state": {
       "_model_module_version": "~2.1.4",
       "_view_module_version": "~2.1.4"
      }
     },
     "fbe07781e7ab4ea499012f10e26300de": {
      "model_module": "jupyter-js-widgets",
      "model_module_version": "~2.1.4",
      "model_name": "LayoutModel",
      "state": {
       "_model_module_version": "~2.1.4",
       "_view_module_version": "~2.1.4"
      }
     },
     "ff1e18ec69344e338313cc01664752c3": {
      "model_module": "jupyter-js-widgets",
      "model_module_version": "~2.1.4",
      "model_name": "LayoutModel",
      "state": {
       "_model_module_version": "~2.1.4",
       "_view_module_version": "~2.1.4"
      }
     },
     "ff3160a0aa81436f85554c5aafd5d320": {
      "model_module": "jupyter-js-widgets",
      "model_module_version": "~2.1.4",
      "model_name": "LayoutModel",
      "state": {
       "_model_module_version": "~2.1.4",
       "_view_module_version": "~2.1.4"
      }
     },
     "ff9ad94ec030482e9c5c91eb788405a9": {
      "model_module": "jupyter-js-widgets",
      "model_module_version": "~2.1.4",
      "model_name": "LabelModel",
      "state": {
       "_model_module_version": "~2.1.4",
       "_view_module_version": "~2.1.4",
       "layout": "IPY_MODEL_346417f91a0041af97a0091ae5f07d92",
       "value": "$$somato_4$$"
      }
     },
     "ffe9d1742af845bc9892ef815f9a1c2f": {
      "model_module": "jupyter-js-widgets",
      "model_module_version": "~2.1.4",
      "model_name": "LayoutModel",
      "state": {
       "_model_module_version": "~2.1.4",
       "_view_module_version": "~2.1.4"
      }
     }
    },
    "version_major": 1,
    "version_minor": 0
   }
  }
 },
 "nbformat": 4,
 "nbformat_minor": 0
}
