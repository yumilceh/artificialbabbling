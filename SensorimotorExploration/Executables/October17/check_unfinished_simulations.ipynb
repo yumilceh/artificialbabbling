{
 "cells": [
  {
   "cell_type": "markdown",
   "metadata": {},
   "source": [
    "DIVA. Some files are in the wrong diectory, the idea is to send them to the right directory."
   ]
  },
  {
   "cell_type": "code",
   "execution_count": 1,
   "metadata": {
    "collapsed": true
   },
   "outputs": [],
   "source": [
    "%matplotlib inline\n",
    "import os\n",
    "import shutil\n",
    "import itertools\n",
    "import matplotlib\n",
    "import numpy as np\n",
    "import matplotlib.pyplot as plt\n",
    "import matplotlib\n",
    "from scipy.stats import pearsonr, shapiro, anderson\n",
    "colors_ = ['firebrick', 'darkgreen', 'navy', 'm', 'deepskyblue', 'goldenrod', 'black', 'grey']"
   ]
  },
  {
   "cell_type": "code",
   "execution_count": 24,
   "metadata": {
    "collapsed": true
   },
   "outputs": [],
   "source": [
    "from SensorimotorExploration.DataManager.SimulationData import load_sim_h5_v2 as load_sim_h5\n",
    "from SensorimotorExploration.DataManager.PlotTools import *"
   ]
  },
  {
   "cell_type": "code",
   "execution_count": 21,
   "metadata": {},
   "outputs": [],
   "source": [
    "directory= 'experiment_IEEE_SI_slopes_cmf_223_old2/'\n",
    "\n",
    "data_files = os.listdir(directory)\n",
    "\n",
    "for data_file in (d_f for d_f in data_files if 'sim_data.h5' in d_f):\n",
    "    conf_file = data_file.replace('sim_data.h5', 'conf.txt')\n",
    "    conf = {}\n",
    "    with open(directory +conf_file) as f:\n",
    "        for line in f:\n",
    "            line = line.replace('\\n', '')\n",
    "            (key, val) = line.split(': ')\n",
    "            conf[key] = val\n",
    "    n_social_units = len(np.array(conf['instructor_idx_sensor'][1:-1].split(', ')).astype(int))\n",
    "  \n",
    "    try:\n",
    "        social_data, foo = load_sim_h5(directory + data_file.replace('sim_data.h5', 'sensor_eva_valset.h5'))\n",
    "    except:\n",
    "        print \"Unfinish simulation found and removed.\"\n",
    "        for suffix in ['conf.txt', 'eval_error.txt', '_instructor_thresh.txt', 'sim_data.h5']:\n",
    "            try:\n",
    "                os.remove(directory + data_file.replace('sim_data.h5', suffix))\n",
    "            except:\n",
    "                print data_file.replace('sim_data.h5', suffix)\n",
    "            \n",
    "#     if n_social_units == 223:\n",
    "#         for f in [x_ for x_ in data_files if data_file.replace('sim_data.h5', '') in x_]:\n",
    "#              shutil.move(directory_orig + f, directpry_dest)\n",
    "    \n",
    "            \n",
    "            \n",
    "#     social_data = load_sim_h5(data_file.replace('sim_data.h5', 'eva_valset.h5'))"
   ]
  },
  {
   "cell_type": "code",
   "execution_count": 27,
   "metadata": {},
   "outputs": [],
   "source": [
    "social_data, foo = load_sim_h5(directory + data_file.replace('sim_data.h5', 'sensor_eva_valset.h5'))"
   ]
  },
  {
   "cell_type": "code",
   "execution_count": 26,
   "metadata": {
    "collapsed": true
   },
   "outputs": [],
   "source": [
    "data_file = 'IEEE_TCDS_SI_7_2017_10_24_07_07_00_sim_data.h5'"
   ]
  },
  {
   "cell_type": "code",
   "execution_count": null,
   "metadata": {
    "collapsed": true
   },
   "outputs": [],
   "source": []
  }
 ],
 "metadata": {
  "kernelspec": {
   "display_name": "Python 2",
   "language": "python",
   "name": "python2"
  },
  "language_info": {
   "codemirror_mode": {
    "name": "ipython",
    "version": 2
   },
   "file_extension": ".py",
   "mimetype": "text/x-python",
   "name": "python",
   "nbconvert_exporter": "python",
   "pygments_lexer": "ipython2",
   "version": "2.7.12"
  }
 },
 "nbformat": 4,
 "nbformat_minor": 1
}
