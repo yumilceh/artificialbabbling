{
 "cells": [
  {
   "cell_type": "markdown",
   "metadata": {},
   "source": [
    "DIVA. Some files are in the wrong diectory, the idea is to send them to the right directory."
   ]
  },
  {
   "cell_type": "code",
   "execution_count": 25,
   "metadata": {},
   "outputs": [],
   "source": [
    "%matplotlib inline\n",
    "import os\n",
    "import shutil\n",
    "import itertools\n",
    "import matplotlib\n",
    "import numpy as np\n",
    "import matplotlib.pyplot as plt\n",
    "import matplotlib\n",
    "from scipy.stats import pearsonr, shapiro, anderson\n",
    "colors_ = ['firebrick', 'darkgreen', 'navy', 'm', 'deepskyblue', 'goldenrod', 'black', 'grey']"
   ]
  },
  {
   "cell_type": "code",
   "execution_count": 2,
   "metadata": {},
   "outputs": [],
   "source": [
    "from SensorimotorExploration.DataManager.SimulationData import load_sim_h5\n",
    "from SensorimotorExploration.DataManager.PlotTools import *"
   ]
  },
  {
   "cell_type": "code",
   "execution_count": 50,
   "metadata": {},
   "outputs": [],
   "source": [
    "directory_orig = 'diva_IEEE_SI/experiment_IEEE_SI_slopes_cmf_223/'\n",
    "directpry_dest = 'diva_IEEE_SI/experiment_IEEE_SI_slopes_cmf_323/'\n",
    "data_files = os.listdir(directory_orig)\n",
    "\n",
    "for data_file in (d_f for d_f in data_files if 'sim_data.h5' in d_f):\n",
    "    conf_file = data_file.replace('sim_data.h5', 'conf.txt')\n",
    "    conf = {}\n",
    "    with open(directory_orig +conf_file) as f:\n",
    "        for line in f:\n",
    "            line = line.replace('\\n', '')\n",
    "            (key, val) = line.split(': ')\n",
    "            conf[key] = val\n",
    "    n_social_units = len(np.array(conf['instructor_idx_sensor'][1:-1].split(', ')).astype(int))\n",
    "    if n_social_units == 323:\n",
    "        for f in [x_ for x_ in data_files if data_file.replace('sim_data.h5', '') in x_]:\n",
    "            shutil.move(directory_orig + f, directpry_dest)\n",
    "\n",
    "            \n",
    "    \n",
    "            \n",
    "            \n",
    "#     social_data = load_sim_h5(data_file.replace('sim_data.h5', 'eva_valset.h5'))"
   ]
  },
  {
   "cell_type": "code",
   "execution_count": 34,
   "metadata": {},
   "outputs": [
    {
     "data": {
      "text/plain": [
       "'diva_IEEE_SI/experiment_IEEE_SI_slopes_cmf_223/IEEE_TCDS_SI_9_2017_10_18_18_27_37_sim_data.h5'"
      ]
     },
     "execution_count": 34,
     "metadata": {},
     "output_type": "execute_result"
    }
   ],
   "source": [
    "data_file"
   ]
  }
 ],
 "metadata": {
  "kernelspec": {
   "display_name": "Python 2",
   "language": "python",
   "name": "python2"
  },
  "language_info": {
   "codemirror_mode": {
    "name": "ipython",
    "version": 2
   },
   "file_extension": ".py",
   "mimetype": "text/x-python",
   "name": "python",
   "nbconvert_exporter": "python",
   "pygments_lexer": "ipython2",
   "version": "2.7.14"
  }
 },
 "nbformat": 4,
 "nbformat_minor": 1
}
