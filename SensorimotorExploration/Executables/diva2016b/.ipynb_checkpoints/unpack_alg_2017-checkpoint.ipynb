{
 "cells": [
  {
   "cell_type": "markdown",
   "metadata": {
    "deletable": true,
    "editable": true
   },
   "source": [
    "DIVA"
   ]
  },
  {
   "cell_type": "code",
   "execution_count": 1,
   "metadata": {
    "collapsed": true,
    "deletable": true,
    "editable": true
   },
   "outputs": [],
   "source": [
    "%matplotlib inline\n",
    "import os\n",
    "import itertools\n",
    "import matplotlib\n",
    "import numpy as np\n",
    "import matplotlib.pyplot as plt\n",
    "import matplotlib"
   ]
  },
  {
   "cell_type": "code",
   "execution_count": 2,
   "metadata": {
    "collapsed": true,
    "deletable": true,
    "editable": true
   },
   "outputs": [],
   "source": [
    "from SensorimotorExploration.DataManager.SimulationData import load_sim_h5\n",
    "from SensorimotorExploration.DataManager.PlotTools import *"
   ]
  },
  {
   "cell_type": "code",
   "execution_count": 3,
   "metadata": {
    "collapsed": false,
    "deletable": true,
    "editable": true
   },
   "outputs": [],
   "source": [
    "def create_dict(groups_k):\n",
    "    return {k[0] + '_' + k[1]: [] for k in groups_k}\n",
    "\n",
    "\n",
    "def incremental_mean(arr_):\n",
    "    n_samples = len(arr_)\n",
    "    sum_ = 0\n",
    "    out = []\n",
    "    for i in range(n_samples):\n",
    "        sum_ += arr_[i]\n",
    "        out += [sum_/(i + 1.)]\n",
    "    out = np.array(out).flatten()\n",
    "    return out\n",
    "\n",
    "def moving_av(arr_, win_sz):\n",
    "    n_samples = len(arr_)\n",
    "    sum_ = 0\n",
    "    out = []\n",
    "    for i in range(win_sz):\n",
    "        sum_ += arr_[i]\n",
    "        out += [sum_/(i + 1.)]\n",
    "    for i in range(win_sz,n_samples):\n",
    "        sum_ = sum_ + arr_[i] - arr_[i-win_sz]\n",
    "        out += [sum_/win_sz]\n",
    "    out = np.array(out).flatten()\n",
    "    return out\n",
    "\n",
    "def std_markers(ax,y,m,c,sz):\n",
    "    plt.sca(ax)\n",
    "    plt.hold(True)\n",
    "    for i,(y_,ms_) in enumerate(zip(y,sz)):\n",
    "        plt.plot(i, y_, marker = m, ms = ms_, color = c)"
   ]
  },
  {
   "cell_type": "code",
   "execution_count": 7,
   "metadata": {
    "collapsed": false,
    "deletable": true,
    "editable": true
   },
   "outputs": [
    {
     "name": "stdout",
     "output_type": "stream",
     "text": [
      "0.364905616919\n"
     ]
    }
   ],
   "source": [
    "directory = 'experiment_1_cmf/'\n",
    "data_files = os.listdir(directory)\n",
    "\n",
    "# Group by:\n",
    "type_ops = ['proprio', 'simple']\n",
    "mode_ops = ['autonomous', 'social']\n",
    "\n",
    "groups_k = list(itertools.product(type_ops, mode_ops))\n",
    "\n",
    "means_s = create_dict(groups_k)\n",
    "means_av_s = create_dict(groups_k)\n",
    "\n",
    "means_w = create_dict(groups_k)\n",
    "means_av_w = create_dict(groups_k)\n",
    "\n",
    "coll_s = create_dict(groups_k)\n",
    "coll_av_s = create_dict(groups_k)\n",
    "\n",
    "coll_w = create_dict(groups_k)\n",
    "coll_av_w = create_dict(groups_k)\n",
    "\n",
    "inter = create_dict(groups_k)\n",
    "inter_av = create_dict(groups_k)\n",
    "\n",
    "error_ev = create_dict(groups_k)\n",
    "error_ev_av = create_dict(groups_k)\n",
    "\n",
    "std_ev = create_dict(groups_k)\n",
    "\n",
    "comp_w = create_dict(groups_k)\n",
    "comp_av_w = create_dict(groups_k)\n",
    "\n",
    "for data_file in (d_f for d_f in data_files if 'sim_data.h5' in d_f):\n",
    "    data_file = directory + data_file\n",
    "    conf_file = data_file.replace('sim_data.h5', 'conf.txt')\n",
    "    conf = {}\n",
    "    with open(conf_file) as f:\n",
    "        for line in f:\n",
    "            line = line.replace('\\n', '')\n",
    "            (key, val) = line.split(': ')\n",
    "            conf[key] = val\n",
    "\n",
    "    try:\n",
    "        whole_data = load_sim_h5(data_file)\n",
    "        interaction_data = whole_data.social.data.as_matrix(columns=None)\n",
    "        interactions = np.zeros((interaction_data.shape[0],))\n",
    "        interactions[~np.isnan(interaction_data[:, 0])] = 1\n",
    "#         print(np.sum(interactions))\n",
    "\n",
    "\n",
    "        social_data = load_sim_h5(data_file.replace('sim_data.h5', 'eva_valset.h5'))\n",
    "\n",
    "        s_error_ = np.linalg.norm(social_data.sensor_goal.data.as_matrix() -\n",
    "                                  social_data.sensor.data.as_matrix(), axis=1)\n",
    "\n",
    "\n",
    "        s_con_v = social_data.somato.data.as_matrix()\n",
    "\n",
    "        w_error_ = np.linalg.norm(whole_data.sensor_goal.data.as_matrix() -\n",
    "                                  whole_data.sensor.data.as_matrix(), axis=1)\n",
    "\n",
    "        w_con_v = whole_data.somato.data.as_matrix()\n",
    "        \n",
    "        w_comp_w = whole_data.competence.data.as_matrix()\n",
    "\n",
    "        eva_errors = []\n",
    "        with open(data_file.replace('sim_data.h5', 'eval_error.txt'), 'r') as f:\n",
    "            for line in f:\n",
    "                line.replace('\\n','')\n",
    "                eva_errors_str = line.split(': ')\n",
    "                eva_errors += [float(eva_errors_str[1])]\n",
    "\n",
    "        means_s[conf['type'] + '_' + conf['mode']] += [np.mean(s_error_)]\n",
    "        means_w[conf['type'] + '_' + conf['mode']] += [np.mean(w_error_)]\n",
    "\n",
    "        coll_s[conf['type'] + '_' + conf['mode']] += [s_con_v[:250200]]\n",
    "        coll_w[conf['type'] + '_' + conf['mode']] += [w_con_v[:250200]]\n",
    "\n",
    "        inter[conf['type'] + '_' + conf['mode']] += [interactions[:250200]]\n",
    "\n",
    "        error_ev[conf['type'] + '_' + conf['mode']] += [eva_errors]\n",
    "        \n",
    "        comp_w[conf['type'] + '_' + conf['mode']] += [w_error_[:250200]]\n",
    "        \n",
    "#         print(conf['type'] + '_' + conf['mode'])\n",
    "#         print(np.sum(interactions))\n",
    "    except IOError:\n",
    "        pass\n",
    "\n",
    "max_std=0\n",
    "for i, k in enumerate(groups_k):\n",
    "    group = k[0] + '_' + k[1]\n",
    "\n",
    "    means_av_s[group] = np.mean(np.array(means_s[group]))\n",
    "    means_av_w[group] = np.mean(np.array(means_w[group]))\n",
    "\n",
    "    coll_av_s[group] = np.mean(np.array(coll_s[group]), axis=0)\n",
    "    coll_av_w[group] = np.mean(np.array(coll_w[group]), axis=0)\n",
    "\n",
    "    inter_av[group] = np.mean(np.array(inter[group]), axis=0)\n",
    "\n",
    "    comp_av_w[group] = np.mean(np.array(comp_w[group]), axis=0)\n",
    "    \n",
    "    error_ev_av[group]= np.mean(np.array(error_ev[group]),axis=0)\n",
    "    std_ev[group] = np.std(np.array(error_ev[group]),axis=0)\n",
    "    max_std = max(max_std,max(std_ev[group].flatten()))\n",
    "print(max_std)"
   ]
  },
  {
   "cell_type": "code",
   "execution_count": 5,
   "metadata": {
    "collapsed": false,
    "deletable": true,
    "editable": true
   },
   "outputs": [
    {
     "ename": "NameError",
     "evalue": "name 'error_ev_av' is not defined",
     "output_type": "error",
     "traceback": [
      "\u001b[0;31m---------------------------------------------------------------------------\u001b[0m",
      "\u001b[0;31mNameError\u001b[0m                                 Traceback (most recent call last)",
      "\u001b[0;32m<ipython-input-5-7851f05480a2>\u001b[0m in \u001b[0;36m<module>\u001b[0;34m()\u001b[0m\n\u001b[1;32m      7\u001b[0m \u001b[0max1\u001b[0m\u001b[0;34m[\u001b[0m\u001b[0;36m0\u001b[0m\u001b[0;34m,\u001b[0m\u001b[0;36m0\u001b[0m\u001b[0;34m]\u001b[0m\u001b[0;34m.\u001b[0m\u001b[0mset_title\u001b[0m\u001b[0;34m(\u001b[0m\u001b[0;34m'Mean evaluation error'\u001b[0m\u001b[0;34m)\u001b[0m\u001b[0;34m\u001b[0m\u001b[0m\n\u001b[1;32m      8\u001b[0m \u001b[0mplt\u001b[0m\u001b[0;34m.\u001b[0m\u001b[0mhold\u001b[0m\u001b[0;34m(\u001b[0m\u001b[0mTrue\u001b[0m\u001b[0;34m)\u001b[0m\u001b[0;34m\u001b[0m\u001b[0m\n\u001b[0;32m----> 9\u001b[0;31m \u001b[0mplt\u001b[0m\u001b[0;34m.\u001b[0m\u001b[0mplot\u001b[0m\u001b[0;34m(\u001b[0m\u001b[0merror_ev_av\u001b[0m\u001b[0;34m[\u001b[0m\u001b[0;34m'proprio_social'\u001b[0m\u001b[0;34m]\u001b[0m\u001b[0;34m,\u001b[0m \u001b[0mlinestyle\u001b[0m\u001b[0;34m=\u001b[0m\u001b[0;34m'-'\u001b[0m\u001b[0;34m,\u001b[0m \u001b[0mmarker\u001b[0m\u001b[0;34m=\u001b[0m\u001b[0;34m''\u001b[0m\u001b[0;34m,\u001b[0m \u001b[0mcolor\u001b[0m\u001b[0;34m=\u001b[0m\u001b[0;34m'b'\u001b[0m\u001b[0;34m)\u001b[0m\u001b[0;34m\u001b[0m\u001b[0m\n\u001b[0m\u001b[1;32m     10\u001b[0m \u001b[0mms1\u001b[0m \u001b[0;34m=\u001b[0m \u001b[0;34m[\u001b[0m\u001b[0;34m(\u001b[0m\u001b[0mx\u001b[0m\u001b[0;34m/\u001b[0m\u001b[0mmax_std\u001b[0m\u001b[0;34m)\u001b[0m\u001b[0;34m*\u001b[0m\u001b[0;36m13\u001b[0m \u001b[0;34m+\u001b[0m \u001b[0;36m1\u001b[0m \u001b[0;32mfor\u001b[0m \u001b[0mx\u001b[0m \u001b[0;32min\u001b[0m \u001b[0mstd_ev\u001b[0m\u001b[0;34m[\u001b[0m\u001b[0;34m'proprio_social'\u001b[0m\u001b[0;34m]\u001b[0m\u001b[0;34m]\u001b[0m\u001b[0;34m\u001b[0m\u001b[0m\n\u001b[1;32m     11\u001b[0m \u001b[0;34m\u001b[0m\u001b[0m\n",
      "\u001b[0;31mNameError\u001b[0m: name 'error_ev_av' is not defined"
     ]
    },
    {
     "data": {
      "image/png": "[encoded data removed]",
      "text/plain": [
       "<matplotlib.figure.Figure at 0x7f95c5b9ac10>"
      ]
     },
     "metadata": {},
     "output_type": "display_data"
    }
   ],
   "source": [
    "matplotlib.rcParams['figure.figsize'] = (12.0, 11.0)\n",
    "matplotlib.rcParams.update({'font.size': 18})\n",
    "\n",
    "\n",
    "fig1, ax1 = plt.subplots(2,2)\n",
    "plt.sca(ax1[0,0])\n",
    "ax1[0,0].set_title('Mean evaluation error')\n",
    "plt.hold(True)\n",
    "plt.plot(error_ev_av['proprio_social'], linestyle='-', marker='', color='b')\n",
    "ms1 = [(x/max_std)*13 + 1 for x in std_ev['proprio_social']]\n",
    "\n",
    "plt.plot(error_ev_av['proprio_autonomous'], linestyle='-', marker='', color='r')\n",
    "ms2 = [(x/max_std)*13 + 1 for x in std_ev['proprio_autonomous']]\n",
    "\n",
    "plt.plot(error_ev_av['simple_social'], linestyle='-', marker='', color='g')\n",
    "ms3 = [(x/max_std)*13 + 1 for x in std_ev['simple_social']]\n",
    "\n",
    "plt.plot(error_ev_av['simple_autonomous'], linestyle='-', marker='', color='k')\n",
    "ms4 = [(x/max_std)*13 + 1 for x in std_ev['simple_autonomous']]\n",
    "\n",
    "std_markers(ax1[0,0],error_ev_av['proprio_social'],'o','b',ms1)\n",
    "std_markers(ax1[0,0],error_ev_av['proprio_autonomous'],'o','r',ms2)\n",
    "std_markers(ax1[0,0],error_ev_av['simple_social'],'o','g',ms3)\n",
    "std_markers(ax1[0,0],error_ev_av['simple_autonomous'],'o','k',ms4)\n",
    "\n",
    "plt.xlabel('Evaluation step [$k_{eval}$]')\n",
    "plt.ylabel('Average evaluation error')\n",
    "# plt.legend(['(Proprio, Social)', '(Proprio, Auto)', '(Simple, Social)', '(Simple, Auto)'],\\\n",
    "#            ncol=2,loc='lower right', fontsize=13)\n",
    "ax1[0,0].set_xlim([0,11])\n",
    "ax1[0,0].set_ylim([1.4,2.1])\n",
    "\n",
    "plt.sca(ax1[0,1])\n",
    "ax1[0,1].set_title('Error evolution')\n",
    "plt.plot(moving_av(comp_av_w['proprio_social'],1000), linestyle='-', marker='', color='b')\n",
    "plt.hold(True)\n",
    "plt.plot(moving_av(comp_av_w['proprio_autonomous'],1000), linestyle='-', marker='', color='r')\n",
    "plt.plot(moving_av(comp_av_w['simple_social'],1000), linestyle='-', marker='', color='g')\n",
    "plt.plot(moving_av(comp_av_w['simple_autonomous'],1000), linestyle='-', marker='', color='k')\n",
    "plt.xlabel('Experiment [$k$]')\n",
    "plt.ylabel('Error [$e_s$]')\n",
    "# plt.legend(['(Proprio, Social)', '(Proprio, Auto)', '(Simple, Social)', '(Simple, Auto)'],\\\n",
    "#            ncol=2,loc='lower right', fontsize=13)\n",
    "ax1[0,1].set_xlim([1000,20200])\n",
    "ax1[0,1].set_ylim([1,2.5])\n",
    "\n",
    "\n",
    "plt.sca(ax1[1,0])\n",
    "ax1[1,0].set_title('Collisions ratio')\n",
    "plt.plot(incremental_mean(coll_av_w['proprio_social']), linestyle='-', marker='', color='b')\n",
    "plt.hold(True)\n",
    "plt.plot(incremental_mean(coll_av_w['proprio_autonomous']), linestyle='-', marker='', color='r')\n",
    "plt.plot(incremental_mean(coll_av_w['simple_social']), linestyle='-', marker='', color='g')\n",
    "plt.plot(incremental_mean(coll_av_w['simple_autonomous']), linestyle='-', marker='', color='k')\n",
    "plt.xlabel('Experiment [$k$]')\n",
    "plt.ylabel('Collisions ratio')\n",
    "lgd = plt.legend(['(Proprio, Social)', '(Proprio, Auto)', '(Simple, Social)', '(Simple, Auto)'],\\\n",
    "            ncol=2,loc='lower right',fontsize=18, bbox_to_anchor=(1.8, -0.4),\n",
    "          fancybox=True, shadow=True)\n",
    "ax1[1,0].set_xlim([0,20200])\n",
    "ax1[1,0].set_ylim([0.3,1])\n",
    "\n",
    "plt.sca(ax1[1,1])\n",
    "ax1[1,1].set_title('Interactions ratio')\n",
    "plt.plot(incremental_mean(inter_av['proprio_social']), linestyle='-', marker='', color='b')\n",
    "plt.hold(True)\n",
    "plt.plot(incremental_mean(inter_av['simple_social']), linestyle='-', marker='', color='g')\n",
    "plt.xlabel('Experiment [$k$]')\n",
    "plt.ylabel('Interactions ratio')\n",
    "# plt.legend(['(Proprio, Social)', '(Simple, Social)'],\\\n",
    "#            ncol=1,loc='lower right', fontsize=13.)\n",
    "ax1[1,1].set_xlim([0,20200])\n",
    "ax1[1,1].set_ylim([0,0.25])\n",
    "\n",
    "plt.tight_layout()\n"
   ]
  },
  {
   "cell_type": "code",
   "execution_count": 11,
   "metadata": {
    "collapsed": false,
    "deletable": true,
    "editable": true
   },
   "outputs": [
    {
     "ename": "NameError",
     "evalue": "name 'lgd' is not defined",
     "output_type": "error",
     "traceback": [
      "\u001b[0;31m---------------------------------------------------------------------------\u001b[0m",
      "\u001b[0;31mNameError\u001b[0m                                 Traceback (most recent call last)",
      "\u001b[0;32m<ipython-input-11-80b364c1f427>\u001b[0m in \u001b[0;36m<module>\u001b[0;34m()\u001b[0m\n\u001b[1;32m      1\u001b[0m \u001b[0;31m# fig1.savefig('/home/yumilceh/Dropbox/Aplicaciones/ShareLaTeX/Epirob 2017/images/vt_results.eps',\\\u001b[0m\u001b[0;34m\u001b[0m\u001b[0;34m\u001b[0m\u001b[0m\n\u001b[1;32m      2\u001b[0m \u001b[0;31m#              format='eps', dpi=1000,bbox_extra_artists=(lgd,), bbox_inches='tight')\u001b[0m\u001b[0;34m\u001b[0m\u001b[0;34m\u001b[0m\u001b[0m\n\u001b[0;32m----> 3\u001b[0;31m \u001b[0mfig1\u001b[0m\u001b[0;34m.\u001b[0m\u001b[0msavefig\u001b[0m\u001b[0;34m(\u001b[0m\u001b[0mdirectory\u001b[0m \u001b[0;34m+\u001b[0m \u001b[0;34m'vt_results.eps'\u001b[0m\u001b[0;34m,\u001b[0m             \u001b[0mformat\u001b[0m\u001b[0;34m=\u001b[0m\u001b[0;34m'eps'\u001b[0m\u001b[0;34m,\u001b[0m \u001b[0mdpi\u001b[0m\u001b[0;34m=\u001b[0m\u001b[0;36m1000\u001b[0m\u001b[0;34m,\u001b[0m\u001b[0mbbox_extra_artists\u001b[0m\u001b[0;34m=\u001b[0m\u001b[0;34m(\u001b[0m\u001b[0mlgd\u001b[0m\u001b[0;34m,\u001b[0m\u001b[0;34m)\u001b[0m\u001b[0;34m,\u001b[0m \u001b[0mbbox_inches\u001b[0m\u001b[0;34m=\u001b[0m\u001b[0;34m'tight'\u001b[0m\u001b[0;34m)\u001b[0m\u001b[0;34m\u001b[0m\u001b[0m\n\u001b[0m",
      "\u001b[0;31mNameError\u001b[0m: name 'lgd' is not defined"
     ]
    }
   ],
   "source": [
    "# fig1.savefig('/home/yumilceh/Dropbox/Aplicaciones/ShareLaTeX/Epirob 2017/images/vt_results.eps',\\\n",
    "#              format='eps', dpi=1000,bbox_extra_artists=(lgd,), bbox_inches='tight')\n",
    "fig1.savefig(directory + 'vt_results.eps',\\\n",
    "             format='eps', dpi=1000,bbox_extra_artists=(lgd,), bbox_inches='tight')"
   ]
  },
  {
   "cell_type": "code",
   "execution_count": null,
   "metadata": {
    "collapsed": false,
    "deletable": true,
    "editable": true
   },
   "outputs": [],
   "source": [
    "fig1, ax1 = plt.subplots(3,1)\n",
    "plt.sca(ax1[0,0])\n",
    "ax1[0,0].set_title('Average evaluation error during exploration')\n",
    "plt.hold(True)\n",
    "plt.errorbar(range(13),error_ev_av['proprio_social'],std_ev['proprio_social'],linestyle='None', marker='o', color='b')\n",
    "plt.errorbar(range(13),error_ev_av['proprio_autonomous'],std_ev['proprio_autonomous'], linestyle='-', marker='o', color='r')\n",
    "plt.errorbar(range(13),error_ev_av['simple_social'],std_ev['simple_social'], linestyle='-', marker='o', color='g')\n",
    "plt.errorbar(range(13),error_ev_av['simple_autonomous'],std_ev['simple_autonomous'], linestyle='-', marker='o', color='k')\n",
    "plt.xlabel('Evaluation step [k]')\n",
    "plt.ylabel('Average evaluation error')\n",
    "plt.legend(['(Proprio, Social)', '(Proprio, Auto)', '(Simple, Social)', '(Simple, Auto)'],\\\n",
    "           ncol=2,loc='lower right', fontsize=15)\n",
    "ax1[0,0].set_ylim([1.3,2.1])"
   ]
  },
  {
   "cell_type": "code",
   "execution_count": null,
   "metadata": {
    "collapsed": false,
    "deletable": true,
    "editable": true
   },
   "outputs": [],
   "source": [
    "std_ev"
   ]
  },
  {
   "cell_type": "code",
   "execution_count": null,
   "metadata": {
    "collapsed": true,
    "deletable": true,
    "editable": true
   },
   "outputs": [],
   "source": []
  }
 ],
 "metadata": {
  "kernelspec": {
   "display_name": "Python 2",
   "language": "python",
   "name": "python2"
  },
  "language_info": {
   "codemirror_mode": {
    "name": "ipython",
    "version": 2
   },
   "file_extension": ".py",
   "mimetype": "text/x-python",
   "name": "python",
   "nbconvert_exporter": "python",
   "pygments_lexer": "ipython2",
   "version": "2.7.12"
  }
 },
 "nbformat": 4,
 "nbformat_minor": 0
}
