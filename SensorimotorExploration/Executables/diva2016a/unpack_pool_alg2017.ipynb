{
 "cells": [
  {
   "cell_type": "code",
   "execution_count": 1,
   "metadata": {
    "collapsed": true,
    "deletable": true,
    "editable": true
   },
   "outputs": [],
   "source": [
    "%matplotlib inline\n",
    "import os\n",
    "import itertools\n",
    "import matplotlib\n",
    "import numpy as np\n",
    "import matplotlib.pyplot as plt"
   ]
  },
  {
   "cell_type": "code",
   "execution_count": 2,
   "metadata": {
    "collapsed": true,
    "deletable": true,
    "editable": true
   },
   "outputs": [],
   "source": [
    "from SensorimotorExploration.DataManager.SimulationData import load_sim_h5\n",
    "from SensorimotorExploration.DataManager.PlotTools import *"
   ]
  },
  {
   "cell_type": "code",
   "execution_count": 3,
   "metadata": {
    "collapsed": true,
    "deletable": true,
    "editable": true
   },
   "outputs": [],
   "source": [
    "def create_dict(groups_k):\n",
    "    return {k[0] + '_' + k[1]: [] for k in groups_k}\n",
    "\n",
    "\n",
    "def incremental_mean(arr_):\n",
    "    n_samples = len(arr_)\n",
    "    return [sum(arr_[:x]) / (x + 1) for x in range(n_samples)]"
   ]
  },
  {
   "cell_type": "code",
   "execution_count": 13,
   "metadata": {
    "collapsed": false,
    "deletable": true,
    "editable": true
   },
   "outputs": [
    {
     "name": "stdout",
     "output_type": "stream",
     "text": [
      "2.0\n",
      "simple_autonomous\n",
      "2.0\n",
      "20001.0\n",
      "20001.0\n",
      "20001.0\n",
      "2.0\n",
      "proprio_social\n",
      "2.0\n",
      "2.0\n",
      "simple_autonomous\n",
      "2.0\n",
      "20001.0\n",
      "2.0\n",
      "proprio_social\n",
      "2.0\n",
      "2.0\n",
      "simple_social\n",
      "2.0\n",
      "20001.0\n",
      "20001.0\n",
      "2.0\n",
      "proprio_autonomous\n",
      "2.0\n",
      "2.0\n",
      "simple_social\n",
      "2.0\n",
      "2.0\n"
     ]
    },
    {
     "data": {
      "image/png": "[encoded data removed]",
      "text/plain": [
       "<matplotlib.figure.Figure at 0x7f2a66bd0ad0>"
      ]
     },
     "metadata": {},
     "output_type": "display_data"
    }
   ],
   "source": [
    "directory = 'experiment_5/'\n",
    "data_files = os.listdir(directory)\n",
    "\n",
    "# Group by:\n",
    "type_ops = ['proprio', 'simple']\n",
    "mode_ops = ['autonomous', 'social']\n",
    "\n",
    "groups_k = list(itertools.product(type_ops, mode_ops))\n",
    "\n",
    "means_s = create_dict(groups_k)\n",
    "means_av_s = create_dict(groups_k)\n",
    "\n",
    "means_w = create_dict(groups_k)\n",
    "means_av_w = create_dict(groups_k)\n",
    "\n",
    "p_coll_s = create_dict(groups_k)\n",
    "p_coll_av_s = create_dict(groups_k)\n",
    "\n",
    "p_coll_w = create_dict(groups_k)\n",
    "p_coll_av_w = create_dict(groups_k)\n",
    "\n",
    "inter = create_dict(groups_k)\n",
    "inter_av = create_dict(groups_k)\n",
    "\n",
    "error_ev = create_dict(groups_k)\n",
    "error_ev_av = create_dict(groups_k)\n",
    "\n",
    "for data_file in (d_f for d_f in data_files if 'sim_data.h5' in d_f):\n",
    "    data_file = directory + data_file\n",
    "    conf_file = data_file.replace('sim_data.h5', 'conf.txt')\n",
    "    conf = {}\n",
    "    with open(conf_file) as f:\n",
    "        for line in f:\n",
    "            line = line.replace('\\n', '')\n",
    "            (key, val) = line.split(': ')\n",
    "            conf[key] = val\n",
    "\n",
    "    try:\n",
    "        whole_data = load_sim_h5(data_file)\n",
    "        interaction_data = whole_data.social.data.as_matrix(columns=None)\n",
    "        interactions = np.zeros((interaction_data.shape[0],))\n",
    "        interactions[~np.isnan(interaction_data[:, 0])] = 1\n",
    "        print(np.sum(interactions))\n",
    "\n",
    "\n",
    "        social_data = load_sim_h5(data_file.replace('sim_data.h5', 'eva_valset.h5'))\n",
    "\n",
    "        s_error_ = np.linalg.norm(social_data.sensor_goal.data.as_matrix() -\n",
    "                                  social_data.sensor.data.as_matrix(), axis=1)\n",
    "\n",
    "        s_p_con_v = sum(social_data.somato.data.as_matrix()) /\\\n",
    "                    len(social_data.somato.data.as_matrix())\n",
    "\n",
    "        w_error_ = np.linalg.norm(whole_data.sensor_goal.data.as_matrix() -\n",
    "                                  whole_data.sensor.data.as_matrix(), axis=1)\n",
    "\n",
    "        w_p_con_v = sum(whole_data.somato.data.as_matrix()) / len(whole_data.somato.data.as_matrix())\n",
    "\n",
    "        eva_errors = []\n",
    "        with open(data_file.replace('sim_data.h5', 'eval_error.txt'), 'r') as f:\n",
    "            for line in f:\n",
    "                line.replace('\\n','')\n",
    "                eva_errors_str = line.split(': ')\n",
    "                eva_errors += [float(eva_errors_str[1])]\n",
    "\n",
    "        means_s[conf['type'] + '_' + conf['mode']] += [np.mean(s_error_)]\n",
    "        means_w[conf['type'] + '_' + conf['mode']] += [np.mean(w_error_)]\n",
    "\n",
    "        p_coll_s[conf['type'] + '_' + conf['mode']] += [np.mean(s_p_con_v)]\n",
    "        p_coll_w[conf['type'] + '_' + conf['mode']] += [np.mean(w_p_con_v)]\n",
    "\n",
    "        inter[conf['type'] + '_' + conf['mode']] += [np.sum(interactions)]\n",
    "\n",
    "        error_ev[conf['type'] + '_' + conf['mode']] += [eva_errors]\n",
    "        print(conf['type'] + '_' + conf['mode'])\n",
    "        print(np.sum(interactions))\n",
    "    except IOError:\n",
    "        pass\n",
    "\n",
    "legend = []\n",
    "for i, k in enumerate(groups_k):\n",
    "    group = k[0] + '_' + k[1]\n",
    "    legend += [group]\n",
    "\n",
    "    means_av_s[group] = np.mean(np.array(means_s[group]))\n",
    "    means_av_w[group] = np.mean(np.array(means_w[group]))\n",
    "\n",
    "    p_coll_av_s[group] = np.mean(np.array(p_coll_s[group]))\n",
    "    p_coll_av_w[group] = np.mean(np.array(p_coll_w[group]))\n",
    "\n",
    "    inter_av[group] = np.mean(np.array(inter[group]))\n",
    "\n",
    "\n",
    "    error_ev_av[group] = np.mean(np.array(error_ev[group]),axis=0)\n",
    "\n",
    "plt.figure()\n",
    "plt.plot(error_ev_av['proprio_social'], linestyle='-', marker='o', color='b')\n",
    "plt.hold(True)\n",
    "# plt.plot(error_ev_av['proprio_autonomous'],  linestyle='-', marker='o', color='r')\n",
    "plt.plot(error_ev_av['simple_social'],  linestyle='-', marker='o', color='g')\n",
    "plt.plot(error_ev_av['simple_autonomous'],  linestyle='-', marker='o', color='k')\n",
    "\n",
    "plt.show()"
   ]
  },
  {
   "cell_type": "code",
   "execution_count": 14,
   "metadata": {
    "collapsed": false,
    "deletable": true,
    "editable": true
   },
   "outputs": [
    {
     "name": "stdout",
     "output_type": "stream",
     "text": [
      "2.0\n"
     ]
    }
   ],
   "source": [
    "print(np.sum(interactions))"
   ]
  },
  {
   "cell_type": "code",
   "execution_count": 15,
   "metadata": {
    "collapsed": false,
    "deletable": true,
    "editable": true
   },
   "outputs": [
    {
     "data": {
      "text/plain": [
       "{'proprio_autonomous': [2.0],\n",
       " 'proprio_social': [2.0, 2.0],\n",
       " 'simple_autonomous': [2.0, 2.0],\n",
       " 'simple_social': [2.0, 2.0]}"
      ]
     },
     "execution_count": 15,
     "metadata": {},
     "output_type": "execute_result"
    }
   ],
   "source": [
    "inter"
   ]
  },
  {
   "cell_type": "code",
   "execution_count": 16,
   "metadata": {
    "collapsed": false,
    "deletable": true,
    "editable": true
   },
   "outputs": [
    {
     "data": {
      "text/plain": [
       "[<matplotlib.lines.Line2D at 0x7f2a6a8785d0>]"
      ]
     },
     "execution_count": 16,
     "metadata": {},
     "output_type": "execute_result"
    },
    {
     "data": {
      "image/png": "[encoded data removed]",
      "text/plain": [
       "<matplotlib.figure.Figure at 0x7f2a6a83e2d0>"
      ]
     },
     "metadata": {},
     "output_type": "display_data"
    }
   ],
   "source": [
    "plt.plot(interactions[:1000])"
   ]
  },
  {
   "cell_type": "code",
   "execution_count": 9,
   "metadata": {
    "collapsed": false,
    "deletable": true,
    "editable": true
   },
   "outputs": [
    {
     "name": "stdout",
     "output_type": "stream",
     "text": [
      "('simple', 'social')\n"
     ]
    }
   ],
   "source": [
    "print(k)"
   ]
  },
  {
   "cell_type": "code",
   "execution_count": null,
   "metadata": {
    "collapsed": true
   },
   "outputs": [],
   "source": []
  }
 ],
 "metadata": {
  "kernelspec": {
   "display_name": "Python 2",
   "language": "python",
   "name": "python2"
  },
  "language_info": {
   "codemirror_mode": {
    "name": "ipython",
    "version": 2
   },
   "file_extension": ".py",
   "mimetype": "text/x-python",
   "name": "python",
   "nbconvert_exporter": "python",
   "pygments_lexer": "ipython2",
   "version": "2.7.12"
  }
 },
 "nbformat": 4,
 "nbformat_minor": 0
}
