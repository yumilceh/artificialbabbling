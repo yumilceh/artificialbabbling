{
 "cells": [
  {
   "cell_type": "code",
   "execution_count": 1,
   "metadata": {
    "collapsed": false
   },
   "outputs": [],
   "source": [
    "from __future__ import print_function\n",
    "from skbio import DistanceMatrix\n",
    "from skbio.stats.distance import anosim, permanova\n",
    "from scipy.spatial.distance import pdist, squareform\n",
    "import pandas as pd\n",
    "import numpy as np\n",
    "import h5py, os, sys, random\n",
    "this_dir =  os.getcwd()"
   ]
  },
  {
   "cell_type": "code",
   "execution_count": 2,
   "metadata": {
    "collapsed": false
   },
   "outputs": [],
   "source": [
    "dist_used = 'euclidean'\n",
    "n_rnd_samples = 10000\n",
    "n_permutations = 1\n",
    "n_iterations = 1\n",
    "\n",
    "random.seed(1234)\n",
    "np.random.seed(1234)\n",
    "\n",
    "os.chdir('../ExperimentsIEEETCDS2016/')\n",
    "directories = ['EVD_no_Proprio_0/',\n",
    "               'EVD_no_Proprio_1/',\n",
    "               'EVD_no_Proprio_2/',\n",
    "               'EVD_no_Proprio_3/',\n",
    "               'EVD_no_Proprio_4/',\n",
    "               'EVD_no_Proprio_6/',\n",
    "               'EVD_no_Proprio_7/',\n",
    "               'EVD_no_Proprio_8/',\n",
    "               'EVD_no_Proprio_9/',\n",
    "               'EVD_Proprio_0/',\n",
    "               'EVD_Proprio_1/',\n",
    "               'EVD_Proprio_2/',\n",
    "               'EVD_Proprio_3/',\n",
    "               'EVD_Proprio_4/',\n",
    "               'EVD_Proprio_6/',\n",
    "               'EVD_Proprio_7/',\n",
    "               'EVD_Proprio_8/',\n",
    "               'EVD_Proprio_9/',\n",
    "               'Special_EVD_Proprio_5/EVD_no_Proprio_5/',\n",
    "               'Special_EVD_Proprio_5/EVD_Proprio_5/']\n"
   ]
  },
  {
   "cell_type": "code",
   "execution_count": 3,
   "metadata": {
    "collapsed": true
   },
   "outputs": [],
   "source": [
    "directories = ['EVD_no_Proprio_0/',\n",
    "               'EVD_no_Proprio_1/']"
   ]
  },
  {
   "cell_type": "code",
   "execution_count": 4,
   "metadata": {
    "collapsed": false
   },
   "outputs": [
    {
     "name": "stdout",
     "output_type": "stream",
     "text": [
      "[407982 231070  61263 ..., 222811    764 238937]\n",
      "Working on EVD_no_Proprio_0/\n",
      "Working on EVD_no_Proprio_1/\n"
     ]
    }
   ],
   "source": [
    "test_statistic_values = np.zeros((len(directories),len(directories),n_iterations))\n",
    "\n",
    "for k in range(n_itrations):\n",
    "indices1 = np.array(random.sample(range(499999),n_rnd_samples))\n",
    "indices2 = np.array(random.sample(range(499999),n_rnd_samples))\n",
    "\n",
    "    for i in range(len(directories)): \n",
    "        directory1 = directories[i]\n",
    "        mat1 = h5py.File(directory1 + 'SMdata.mat','r')\n",
    "        sensor_data1 = np.array(mat1.get('SMdata'))\n",
    "        sensor_data1 = np.transpose(sensor_data1[[0,1,3,4],:])\n",
    "        sensor_data1 = sensor_data1[indices1,:]\n",
    "        print('Working on ' + directory1 )\n",
    "        for j in range(len(directories)):\n",
    "            directory2 = directories[j]\n",
    "            mat2 = h5py.File(directory2 + 'SMdata.mat','r')\n",
    "            sensor_data2 = np.array(mat2.get('SMdata'))\n",
    "            sensor_data2 = np.transpose(sensor_data2[[0,1,3,4],:])\n",
    "            sensor_data2 = sensor_data2[indices2,:]\n",
    "\n",
    "            sensor_data = np.append(sensor_data1,sensor_data2,axis=0)\n",
    "            distances = pdist(sensor_data, dist_used)\n",
    "            distances = squareform(distances)\n",
    "\n",
    "      #      distance_matrix = np.zeros((n_rnd_samples,n_rnd_samples))   \n",
    "      #      for ii in range(n_rnd_samples):\n",
    "      #          for jj in range(n_rnd_samples):\n",
    "      #              dist = pdist(np.append([sensor_data1[ii,:]],[sensor_data2[jj,:]], axis = 0), dist_used)\n",
    "      #              distance_matrix[ii,jj] = dist\n",
    "      #              distance_matrix[jj,ii] = dist\n",
    "\n",
    "        distances = DistanceMatrix(distances)\n",
    "        grouping = np.append(['GMM1']*n_rnd_samples,['GMM2']*n_rnd_samples, axis=0)\n",
    "        pnv_tmp = permanova(distances, grouping, permutations = n_permutations)\n",
    "        test_statistic_values[i,j,k] = permanova.\n",
    "os.chdir(this_dir)"
   ]
  }
 ],
 "metadata": {
  "kernelspec": {
   "display_name": "Python 3",
   "language": "python",
   "name": "python3"
  },
  "language_info": {
   "codemirror_mode": {
    "name": "ipython",
    "version": 3
   },
   "file_extension": ".py",
   "mimetype": "text/x-python",
   "name": "python",
   "nbconvert_exporter": "python",
   "pygments_lexer": "ipython3",
   "version": "3.4.3"
  }
 },
 "nbformat": 4,
 "nbformat_minor": 0
}
