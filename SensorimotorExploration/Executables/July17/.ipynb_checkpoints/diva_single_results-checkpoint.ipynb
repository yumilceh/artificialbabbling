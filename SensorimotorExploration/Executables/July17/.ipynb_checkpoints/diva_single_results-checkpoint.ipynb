{
 "cells": [
  {
   "cell_type": "markdown",
   "metadata": {},
   "source": [
    "DIVA"
   ]
  },
  {
   "cell_type": "code",
   "execution_count": 1,
   "metadata": {
    "collapsed": true
   },
   "outputs": [],
   "source": [
    "%matplotlib inline\n",
    "import os\n",
    "import itertools\n",
    "import matplotlib\n",
    "import numpy as np\n",
    "import matplotlib.pyplot as plt\n",
    "import matplotlib"
   ]
  },
  {
   "cell_type": "code",
   "execution_count": 2,
   "metadata": {
    "collapsed": true
   },
   "outputs": [],
   "source": [
    "from SensorimotorExploration.DataManager.SimulationData import load_sim_h5_v2 as load_sim_h5\n",
    "from SensorimotorExploration.DataManager.PlotTools import *"
   ]
  },
  {
   "cell_type": "code",
   "execution_count": 4,
   "metadata": {
    "collapsed": true
   },
   "outputs": [],
   "source": [
    "# CONTAINERS\n",
    "conf_file = 'experiment_1_cmf/'\n",
    "\n",
    "\n",
    "# Group by:\n",
    "type_ops = ['proprio', 'simple']\n",
    "mode_ops = ['autonomous']\n",
    "expl_space_ops = ['somato','sensor']\n",
    "\n",
    "groups_k = list(itertools.product(type_ops, mode_ops, expl_space_ops))\n",
    "\n",
    "containers_keys = {'sim_sensor_error','sim_sensor_error_av',\n",
    "                   'sim_somato_error','sim_somato_error_av',\n",
    "                   'eva_sensor_error','eva_sensor_error_av',\n",
    "                   'eva_somato_error','eva_somato_error_av',\n",
    "                   'sim_collisions', 'sim_collisions_av',\n",
    "                   'eva_sensor_collisions', \n",
    "                   'eva_somato_collisions',\n",
    "                   'sim_eva_error', 'sim_eva_error_av','sim_eva_error_std',\n",
    "                   'sim_eva_error_std'}\n",
    "containers = {} \n",
    "for key in containers_keys:\n",
    "    containers[key] = create_dict(groups_k)"
   ]
  },
  {
   "cell_type": "code",
   "execution_count": 5,
   "metadata": {},
   "outputs": [
    {
     "name": "stdout",
     "output_type": "stream",
     "text": [
      "0.381286130365\n"
     ]
    }
   ],
   "source": [
    "for data_file in (d_f for d_f in data_files if 'sim_data.h5' in d_f):\n",
    "    data_file = directory + data_file\n",
    "    conf_file = data_file.replace('sim_data.h5', 'conf.txt')\n",
    "    conf = {}\n",
    "    with open(conf_file) as f:\n",
    "        for line in f:\n",
    "            line = line.replace('\\n', '')\n",
    "            (key, val) = line.split(': ')\n",
    "            conf[key] = val\n",
    "    conf_key = conf['type']+'_'+conf['mode']+'_'+conf['expl_space']\n",
    "    try: #This filters non-finisheed simulations\n",
    "        \n",
    "        #Simulation_data\n",
    "        data = load_sim_h5(data_file)\n",
    "        \n",
    "        #Interactions\n",
    "        interaction_data = data.social.data.as_matrix(columns=None)\n",
    "        interactions = np.zeros((interaction_data.shape[0],))\n",
    "        interactions[~np.isnan(interaction_data[:, 0])] = 1\n",
    "\n",
    "        sim_contact = data.cons.data.as_matrix()        \n",
    "        sim_sensor_error_ = np.linalg.norm(data.sensor_goal.data.as_matrix() -\n",
    "                                          data.sensor.data.as_matrix(), axis=1)\n",
    "        sim_somato_error_ = np.linalg.norm(data.somato_goal.data.as_matrix() -\n",
    "                                  data.somato.data.as_matrix(), axis=1)\n",
    "\n",
    "        #Sensor evaluation data\n",
    "        eva_sensor_data = load_sim_h5(data_file.replace('sim_data.h5', 'eva_valset.h5'))\n",
    "        sensor_eva_error_ = np.linalg.norm(eva_sensor_data.sensor_goal.data.as_matrix() -\n",
    "                                  eva_sensor_data.sensor.data.as_matrix(), axis=1)\n",
    "        sensor_eva_contact_ = eva_sensor_data.cons.data.as_matrix()\n",
    "    \n",
    "        sim_eva_errors = []\n",
    "        with open(data_file.replace('sim_data.h5', 'eval_error.txt'), 'r') as f:\n",
    "            for line in f:\n",
    "                line.replace('\\n','')\n",
    "                eva_errors_str = line.split(': ')\n",
    "                sim_eva_errors += [float(eva_errors_str[1])]\n",
    "\n",
    "        #Getting averages\n",
    "        containers['eva_sensor_error'][conf_key] += [sensor_eva_error_]\n",
    "#         containers['sim_sensor_error'][conf_key] += [np.mean(sim_sensor_error_)]\n",
    "#         containers['sim_somato_error'][conf_key] += [np.mean(sim_somato_error_)]\n",
    "        containers['sim_collisions'][conf_key] += [sim_contact[:20200]]       \n",
    "        containers['eva_sensor_collisions'][conf_key] += [sensor_eva_contact_]\n",
    "        containers['sim_eva_error'][conf_key] += [sim_eva_errors]\n",
    "        containers['sim_sensor_error'][conf_key] += [sim_sensor_error_[:20200]]\n",
    "        containers['sim_somato_error'][conf_key] += [sim_somato_error_[:20200]]  \n",
    "\n",
    "    except IOError:\n",
    "        pass\n",
    "\n",
    "max_std=0\n",
    "for i, k in enumerate(groups_k):\n",
    "    group = k[0] + '_' + k[1] + '_' + k[2]\n",
    "\n",
    "    containers['sim_sensor_error_av'][group] = np.mean(np.array(\n",
    "                                                containers['sim_sensor_error'][group]))\n",
    "    containers['sim_somato_error_av'][group] = np.mean(np.array(\n",
    "                                                containers['sim_somato_error'][group]))\n",
    "\n",
    "    containers['sim_collisions_av'][group] = np.mean(np.array(\n",
    "                                        containers['sim_collisions'][group]),axis=0)\n",
    "\n",
    "    containers['eva_sensor_error_av'][group] = np.mean(containers['eva_sensor_error'][group])\n",
    "    \n",
    "#     error_ev_av[group]= np.mean(np.array(error_ev[group]),axis=0)\n",
    "    containers['sim_eva_error_av'][group] = np.mean(containers['sim_eva_error'][group],axis=0 )\n",
    "    containers['sim_eva_error_std'][group] = np.std(np.array(\n",
    "                                                containers['sim_eva_error'][group]),axis=0)\n",
    "    max_std = max(max_std,max(containers['sim_eva_error_std'][group].flatten()))\n",
    "print(max_std)"
   ]
  },
  {
   "cell_type": "code",
   "execution_count": 6,
   "metadata": {},
   "outputs": [
    {
     "data": {
      "image/png": "[encoded data removed]",
      "text/plain": [
       "<matplotlib.figure.Figure at 0x7f6496fb69d0>"
      ]
     },
     "metadata": {},
     "output_type": "display_data"
    }
   ],
   "source": [
    "matplotlib.rcParams['figure.figsize'] = (12.0, 11.0)\n",
    "matplotlib.rcParams.update({'font.size': 18})\n",
    "\n",
    "##FIG 1\n",
    "error_ev_av = containers['sim_eva_error_av']\n",
    "std_ev = containers['sim_eva_error_std']\n",
    "fig1, ax1 = plt.subplots(2,2)\n",
    "plt.sca(ax1[0,0])\n",
    "ax1[0,0].set_title('Mean evaluation error')\n",
    "plt.hold(True)\n",
    "plt.plot(error_ev_av['proprio_autonomous_sensor'], linestyle='-', marker='', color='b')\n",
    "ms1 = [(x/max_std)*13 + 1 for x in std_ev['proprio_autonomous_sensor']]\n",
    "\n",
    "plt.plot(error_ev_av['proprio_autonomous_somato'], linestyle='-', marker='', color='r')\n",
    "ms2 = [(x/max_std)*13 + 1 for x in std_ev['proprio_autonomous_somato']]\n",
    "\n",
    "plt.plot(error_ev_av['simple_autonomous_sensor'], linestyle='-', marker='', color='g')\n",
    "ms3 = [(x/max_std)*13 + 1 for x in std_ev['simple_autonomous_sensor']]\n",
    "\n",
    "plt.plot(error_ev_av['simple_autonomous_somato'], linestyle='-', marker='', color='k')\n",
    "ms4 = [(x/max_std)*13 + 1 for x in std_ev['simple_autonomous_somato']]\n",
    "\n",
    "std_markers(ax1[0,0],error_ev_av['proprio_autonomous_sensor'],'o','b',ms1)\n",
    "std_markers(ax1[0,0],error_ev_av['proprio_autonomous_somato'],'o','r',ms2)\n",
    "# std_markers(ax1[0,0],error_ev_av['simple_autonomous_sensor'],'o','g',ms3)\n",
    "# std_markers(ax1[0,0],error_ev_av['simple_autonomous_somato'],'o','k',ms4)\n",
    "\n",
    "plt.xlabel('Evaluation step [$k_{eval}$]')\n",
    "plt.ylabel('Average evaluation error')\n",
    "# plt.legend(['(Proprio, Social)', '(Proprio, Auto)', '(Simple, Social)', '(Simple, Auto)'],\\\n",
    "#            ncol=2,loc='lower right', fontsize=13)\n",
    "# ax1[0,0].set_xlim([0,15])\n",
    "# ax1[0,0].set_ylim([0,3.1])\n",
    "\n",
    "# plt.sca(ax1[0,1])\n",
    "# ax1[0,1].set_title('Error evolution')\n",
    "# plt.plot(moving_av(comp_av_w['proprio_autonomous_sensor'],1000), linestyle='-', marker='', color='b')\n",
    "# plt.hold(True)\n",
    "# plt.plot(moving_av(comp_av_w['proprio_autonomous_somato'],1000), linestyle='-', marker='', color='r')\n",
    "# plt.plot(moving_av(comp_av_w['simple_autonomous_sensor'],1000), linestyle='-', marker='', color='g')\n",
    "# plt.plot(moving_av(comp_av_w['simple_autonomous_somato'],1000), linestyle='-', marker='', color='k')\n",
    "# plt.xlabel('Experiment [$k$]')\n",
    "# plt.ylabel('Error [$e_s$]')\n",
    "# # plt.legend(['(Proprio, Social)', '(Proprio, Auto)', '(Simple, Social)', '(Simple, Auto)'],\\\n",
    "# #            ncol=2,loc='lower right', fontsize=13)\n",
    "# # ax1[0,1].set_xlim([1000,20200])\n",
    "# # ax1[0,1].set_ylim([0,5])\n",
    "\n",
    "# plt.sca(ax1[1,0])\n",
    "# ax1[1,0].set_title('Collisions ratio')\n",
    "# plt.plot(incremental_mean(coll_av_w['proprio_autonomous_sensor']), linestyle='-', marker='', color='b')\n",
    "# plt.hold(True)\n",
    "# plt.plot(incremental_mean(coll_av_w['proprio_autonomous_somato']), linestyle='-', marker='', color='r')\n",
    "# plt.plot(incremental_mean(coll_av_w['simple_autonomous_sensor']), linestyle='-', marker='', color='g')\n",
    "# plt.plot(incremental_mean(coll_av_w['simple_autonomous_somato']), linestyle='-', marker='', color='k')\n",
    "# plt.xlabel('Experiment [$k$]')\n",
    "# plt.ylabel('Collisions ratio')\n",
    "# lgd = plt.legend(['(Proprio, Sensor)', '(Proprio, Somato)', '(Simple, Sensor)', '(Simple, Somato)'],\\\n",
    "#             ncol=2,loc='lower right',fontsize=18, bbox_to_anchor=(1.8, -0.4),\n",
    "#           fancybox=True, shadow=True)\n",
    "# ax1[1,0].set_xlim([0,20200])\n",
    "# ax1[1,0].set_ylim([0.3,1])\n",
    "\n",
    "# plt.sca(ax1[1,1])\n",
    "# ax1[1,1].set_title('Interactions ratio')\n",
    "# plt.plot(incremental_mean(inter_av['proprio_autonomous_sensor']), linestyle='-', marker='', color='b')\n",
    "# plt.hold(True)\n",
    "# plt.plot(incremental_mean(inter_av['simple_autonomous_sensor']), linestyle='-', marker='', color='g')\n",
    "# plt.xlabel('Experiment [$k$]')\n",
    "# plt.ylabel('Interactions ratio')\n",
    "# plt.legend(['(Proprio, Social)', '(Simple, Social)'],\\\n",
    "#            ncol=1,loc='lower right', fontsize=13.)\n",
    "# ax1[1,1].set_xlim([0,20200])\n",
    "# ax1[1,1].set_ylim([0,0.4])\n",
    "\n",
    "plt.tight_layout()"
   ]
  },
  {
   "cell_type": "code",
   "execution_count": 7,
   "metadata": {},
   "outputs": [
    {
     "data": {
      "text/plain": [
       "array([ 1.8957858 ,  1.95426981,  1.90194957,  1.95068168,  1.87361228,\n",
       "        1.78225101,  1.79028392,  1.80873477,  1.7940666 ,  1.77691763,\n",
       "        1.77031398,  1.76810472,  1.76810472])"
      ]
     },
     "execution_count": 7,
     "metadata": {},
     "output_type": "execute_result"
    }
   ],
   "source": [
    "# # fig1.savefig('/home/yumilceh/Dropbox/Aplicaciones/ShareLaTeX/Epirob 2017/images/vt_results.eps',\\\n",
    "# #              format='eps', dpi=1000,bbox_extra_artists=(lgd,), bbox_inches='tight')\n",
    "# fig1.savefig(directory + 'vt_results.eps',\\\n",
    "#              format='eps', dpi=1000,bbox_extra_artists=(lgd,), bbox_inches='tight')\n",
    "\n",
    "error_ev_av['proprio_autonomous_sensor']"
   ]
  },
  {
   "cell_type": "code",
   "execution_count": null,
   "metadata": {
    "collapsed": true
   },
   "outputs": [],
   "source": []
  }
 ],
 "metadata": {
  "kernelspec": {
   "display_name": "Python 2",
   "language": "python",
   "name": "python2"
  },
  "language_info": {
   "codemirror_mode": {
    "name": "ipython",
    "version": 2
   },
   "file_extension": ".py",
   "mimetype": "text/x-python",
   "name": "python",
   "nbconvert_exporter": "python",
   "pygments_lexer": "ipython2",
   "version": "2.7.12"
  }
 },
 "nbformat": 4,
 "nbformat_minor": 1
}
