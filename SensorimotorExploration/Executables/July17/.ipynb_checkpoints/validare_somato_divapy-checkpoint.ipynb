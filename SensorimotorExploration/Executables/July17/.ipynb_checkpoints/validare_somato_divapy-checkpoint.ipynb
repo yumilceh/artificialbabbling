{
 "cells": [
  {
   "cell_type": "markdown",
   "metadata": {},
   "source": [
    "DIVA"
   ]
  },
  {
   "cell_type": "code",
   "execution_count": 1,
   "metadata": {
    "collapsed": true
   },
   "outputs": [],
   "source": [
    "%matplotlib inline\n",
    "import os\n",
    "import itertools\n",
    "import matplotlib\n",
    "import numpy as np\n",
    "import matplotlib.pyplot as plt\n",
    "import matplotlib"
   ]
  },
  {
   "cell_type": "code",
   "execution_count": 2,
   "metadata": {
    "collapsed": true
   },
   "outputs": [],
   "source": [
    "from SensorimotorExploration.DataManager.SimulationData import load_sim_h5_v2 as load_sim_h5\n",
    "from SensorimotorExploration.DataManager.PlotTools import *\n",
    "\n",
    "def incremental_mean(arr_):\n",
    "    n_samples = len(arr_)\n",
    "    sum_ = 0\n",
    "    out = []\n",
    "    for i in range(n_samples):\n",
    "        sum_ += arr_[i]\n",
    "        out += [sum_/(i + 1.)]\n",
    "    out = np.array(out).flatten()\n",
    "    return out\n",
    "\n",
    "def moving_av(arr_, win_sz):\n",
    "    n_samples = len(arr_)\n",
    "    sum_ = 0\n",
    "    out = []\n",
    "    for i in range(win_sz):\n",
    "        sum_ += arr_[i]\n",
    "        out += [sum_/(i + 1.)]\n",
    "    for i in range(win_sz,n_samples):\n",
    "        sum_ = sum_ + arr_[i] - arr_[i-win_sz]\n",
    "        out += [sum_/win_sz]\n",
    "    out = np.array(out).flatten()\n",
    "    return out"
   ]
  },
  {
   "cell_type": "code",
   "execution_count": 3,
   "metadata": {
    "collapsed": true
   },
   "outputs": [],
   "source": [
    "data_file = \"test/motherese_test2_bar_2017_07_27_11_47_sim_data.h5\"\n",
    "\n",
    "#Simulation_data\n",
    "data, foo = load_sim_h5(data_file)\n"
   ]
  },
  {
   "cell_type": "code",
   "execution_count": 4,
   "metadata": {},
   "outputs": [
    {
     "name": "stderr",
     "output_type": "stream",
     "text": [
      "/usr/lib/python2.7/dist-packages/numpy/lib/nanfunctions.py:227: RuntimeWarning: All-NaN axis encountered\n",
      "  warnings.warn(\"All-NaN axis encountered\", RuntimeWarning)\n"
     ]
    },
    {
     "ename": "NameError",
     "evalue": "name 'samples' is not defined",
     "output_type": "error",
     "traceback": [
      "\u001b[0;31m---------------------------------------------------------------------------\u001b[0m",
      "\u001b[0;31mNameError\u001b[0m                                 Traceback (most recent call last)",
      "\u001b[0;32m<ipython-input-4-1c972fc30a17>\u001b[0m in \u001b[0;36m<module>\u001b[0;34m()\u001b[0m\n\u001b[1;32m     17\u001b[0m \u001b[0;34m\u001b[0m\u001b[0m\n\u001b[1;32m     18\u001b[0m     \u001b[0;32mif\u001b[0m \u001b[0mi\u001b[0m\u001b[0;34m%\u001b[0m\u001b[0;36m1000\u001b[0m \u001b[0;34m==\u001b[0m \u001b[0;36m0\u001b[0m\u001b[0;34m:\u001b[0m\u001b[0;34m\u001b[0m\u001b[0m\n\u001b[0;32m---> 19\u001b[0;31m         \u001b[0;32mprint\u001b[0m\u001b[0;34m(\u001b[0m\u001b[0;34m'{} samples of {} processed.'\u001b[0m\u001b[0;34m.\u001b[0m\u001b[0mformat\u001b[0m\u001b[0;34m(\u001b[0m\u001b[0mi\u001b[0m\u001b[0;34m+\u001b[0m\u001b[0;36m1\u001b[0m\u001b[0;34m,\u001b[0m\u001b[0msamples\u001b[0m\u001b[0;34m)\u001b[0m\u001b[0;34m)\u001b[0m\u001b[0;34m\u001b[0m\u001b[0m\n\u001b[0m",
      "\u001b[0;31mNameError\u001b[0m: name 'samples' is not defined"
     ]
    }
   ],
   "source": [
    "from SensorimotorExploration.Systems.Diva2016b import Diva2016b\n",
    "from SensorimotorExploration.Systems.Diva2017a import Diva2017a\n",
    "\n",
    "divaml = Diva2016b()\n",
    "divapy = Diva2017a()\n",
    "n_samples = len(data.sensor.data.iloc[:])\n",
    "cons_ml = np.zeros((n_samples,))\n",
    "cons_py = np.zeros((n_samples,))\n",
    "for i in range(n_samples):\n",
    "    divaml.set_action(data.motor.data.iloc[i])\n",
    "    divaml.executeMotorCommand()\n",
    "    cons_ml[i] = divaml.somato_out\n",
    "    \n",
    "    divapy.set_action(data.motor.data.iloc[i])\n",
    "    divapy.execute_action()\n",
    "    cons_py[i] = divapy.cons_out\n",
    "    \n",
    "    if i%1000 == 0:\n",
    "        print('{} samples of {} processed.'.format(i+1,n_samples))"
   ]
  },
  {
   "cell_type": "code",
   "execution_count": 24,
   "metadata": {},
   "outputs": [
    {
     "data": {
      "text/plain": [
       "0.0054999999999999997"
      ]
     },
     "execution_count": 24,
     "metadata": {},
     "output_type": "execute_result"
    }
   ],
   "source": [
    "# # fig1.savefig('/home/yumilceh/Dropbox/Aplicaciones/ShareLaTeX/Epirob 2017/images/vt_results.eps',\\\n",
    "# #              format='eps', dpi=1000,bbox_extra_artists=(lgd,), bbox_inches='tight')\n",
    "# fig1.savefig(directory + 'vt_results.eps',\\\n",
    "#              format='eps', dpi=1000,bbox_extra_artists=(lgd,), bbox_inches='tight')\n",
    "\n",
    "sum(interactions)/20000"
   ]
  },
  {
   "cell_type": "code",
   "execution_count": 30,
   "metadata": {},
   "outputs": [
    {
     "data": {
      "text/plain": [
       "competence    0.167755\n",
       "dtype: float64"
      ]
     },
     "execution_count": 30,
     "metadata": {},
     "output_type": "execute_result"
    }
   ],
   "source": [
    "np.sum(data.competence.data)/20000"
   ]
  },
  {
   "cell_type": "code",
   "execution_count": 6,
   "metadata": {},
   "outputs": [
    {
     "data": {
      "text/plain": [
       "{'eval_step': '5000',\n",
       " 'expl_space': 'sensor',\n",
       " 'f_im_key': 'explauto_im',\n",
       " 'f_sm_key': 'igmm_sm',\n",
       " 'f_ss_key': 'igmm_ss',\n",
       " 'g_im_initialization_method': 'all',\n",
       " 'instructor': '[312, 142, 2, 294, 303, 188, 216, 27, 247, 76, 9, 254, 111, 201, 198]',\n",
       " 'learner': 'Diva2017a_py',\n",
       " 'mode': 'social',\n",
       " 'n_experiments': '40000',\n",
       " 'n_initialization_experiments': '1000',\n",
       " 'n_save_data': '8000.0',\n",
       " 'name': 'InteractionAlgorithm2017a',\n",
       " 'random_seed': '12243',\n",
       " 'sm_all_samples': 'False',\n",
       " 'type': 'proprio'}"
      ]
     },
     "execution_count": 6,
     "metadata": {},
     "output_type": "execute_result"
    }
   ],
   "source": [
    "conf"
   ]
  },
  {
   "cell_type": "code",
   "execution_count": 16,
   "metadata": {},
   "outputs": [
    {
     "data": {
      "text/plain": [
       "134.0"
      ]
     },
     "execution_count": 16,
     "metadata": {},
     "output_type": "execute_result"
    }
   ],
   "source": [
    "sum(interactions)"
   ]
  },
  {
   "cell_type": "code",
   "execution_count": 17,
   "metadata": {},
   "outputs": [
    {
     "data": {
      "text/plain": [
       "array([ 18127.])"
      ]
     },
     "execution_count": 17,
     "metadata": {},
     "output_type": "execute_result"
    }
   ],
   "source": [
    "sum(data.cons.data.as_matrix())"
   ]
  },
  {
   "cell_type": "code",
   "execution_count": null,
   "metadata": {
    "collapsed": true
   },
   "outputs": [],
   "source": []
  }
 ],
 "metadata": {
  "kernelspec": {
   "display_name": "Python 2",
   "language": "python",
   "name": "python2"
  },
  "language_info": {
   "codemirror_mode": {
    "name": "ipython",
    "version": 2
   },
   "file_extension": ".py",
   "mimetype": "text/x-python",
   "name": "python",
   "nbconvert_exporter": "python",
   "pygments_lexer": "ipython2",
   "version": "2.7.12"
  }
 },
 "nbformat": 4,
 "nbformat_minor": 1
}
