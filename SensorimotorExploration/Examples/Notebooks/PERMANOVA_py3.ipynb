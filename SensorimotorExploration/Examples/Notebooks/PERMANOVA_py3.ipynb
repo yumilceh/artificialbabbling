{
 "cells": [
  {
   "cell_type": "code",
   "execution_count": 8,
   "metadata": {
    "collapsed": false
   },
   "outputs": [],
   "source": [
    "from __future__ import print_function\n",
    "from skbio import DistanceMatrix\n",
    "from skbio.stats.distance import anosim, permanova\n",
    "from scipy.spatial.distance import pdist, squareform\n",
    "import pandas as pd\n",
    "import numpy as np\n",
    "import h5py, os, sys, random"
   ]
  },
  {
   "cell_type": "code",
   "execution_count": 9,
   "metadata": {
    "collapsed": false
   },
   "outputs": [],
   "source": [
    "dist_used = 'euclidean'\n",
    "n_rnd_samples = 10000\n",
    "\n",
    "random.seed(1234)\n",
    "np.random.seed(1234)\n",
    "\n",
    "os.chdir('../ExperimentsIEEETCDS2016/')\n",
    "directories = ['EVD_no_Proprio_0/',\n",
    "               'EVD_no_Proprio_1/',\n",
    "               'EVD_no_Proprio_2/',\n",
    "               'EVD_no_Proprio_3/',\n",
    "               'EVD_no_Proprio_4/',\n",
    "               'EVD_no_Proprio_6/',\n",
    "               'EVD_no_Proprio_7/',\n",
    "               'EVD_no_Proprio_8/',\n",
    "               'EVD_no_Proprio_9/',\n",
    "               'EVD_Proprio_0/',\n",
    "               'EVD_Proprio_1/',\n",
    "               'EVD_Proprio_2/',\n",
    "               'EVD_Proprio_3/',\n",
    "               'EVD_Proprio_4/',\n",
    "               'EVD_Proprio_6/',\n",
    "               'EVD_Proprio_7/',\n",
    "               'EVD_Proprio_8/',\n",
    "               'EVD_Proprio_9/',\n",
    "               'Special_EVD_Proprio_5/EVD_no_Proprio_5/',\n",
    "               'Special_EVD_Proprio_5/EVD_Proprio_5/']\n"
   ]
  },
  {
   "cell_type": "code",
   "execution_count": 10,
   "metadata": {
    "collapsed": true
   },
   "outputs": [],
   "source": [
    "directories = ['EVD_no_Proprio_0/',\n",
    "               'EVD_no_Proprio_1/']"
   ]
  },
  {
   "cell_type": "code",
   "execution_count": 41,
   "metadata": {
    "collapsed": false
   },
   "outputs": [
    {
     "name": "stdout",
     "output_type": "stream",
     "text": [
      "Working on ExperimentsIEEETCDS2016/EVD_no_Proprio_0/\n"
     ]
    },
    {
     "ename": "MemoryError",
     "evalue": "",
     "output_type": "error",
     "traceback": [
      "\u001b[0;31m---------------------------------------------------------------------------\u001b[0m",
      "\u001b[0;31mMemoryError\u001b[0m                               Traceback (most recent call last)",
      "\u001b[0;32m<ipython-input-41-1fd366f1578c>\u001b[0m in \u001b[0;36m<module>\u001b[0;34m()\u001b[0m\n\u001b[1;32m     18\u001b[0m \u001b[0;34m\u001b[0m\u001b[0m\n\u001b[1;32m     19\u001b[0m         \u001b[0mn_samples\u001b[0m \u001b[0;34m=\u001b[0m \u001b[0msensor_data2\u001b[0m\u001b[0;34m.\u001b[0m\u001b[0mshape\u001b[0m\u001b[0;34m[\u001b[0m\u001b[0;36m0\u001b[0m\u001b[0;34m]\u001b[0m\u001b[0;34m\u001b[0m\u001b[0m\n\u001b[0;32m---> 20\u001b[0;31m         \u001b[0mdistance_matrix\u001b[0m \u001b[0;34m=\u001b[0m \u001b[0mnp\u001b[0m\u001b[0;34m.\u001b[0m\u001b[0mzeros\u001b[0m\u001b[0;34m(\u001b[0m\u001b[0;34m(\u001b[0m\u001b[0mn_samples\u001b[0m\u001b[0;34m,\u001b[0m\u001b[0mn_samples\u001b[0m\u001b[0;34m)\u001b[0m\u001b[0;34m)\u001b[0m\u001b[0;34m\u001b[0m\u001b[0m\n\u001b[0m\u001b[1;32m     21\u001b[0m         \u001b[0;32mfor\u001b[0m \u001b[0mii\u001b[0m \u001b[0;32min\u001b[0m \u001b[0mrange\u001b[0m\u001b[0;34m(\u001b[0m\u001b[0mn_samples\u001b[0m\u001b[0;34m)\u001b[0m\u001b[0;34m:\u001b[0m\u001b[0;34m\u001b[0m\u001b[0m\n\u001b[1;32m     22\u001b[0m             \u001b[0;32mfor\u001b[0m \u001b[0mjj\u001b[0m \u001b[0;32min\u001b[0m \u001b[0mrange\u001b[0m\u001b[0;34m(\u001b[0m\u001b[0mn_samples\u001b[0m\u001b[0;34m)\u001b[0m\u001b[0;34m:\u001b[0m\u001b[0;34m\u001b[0m\u001b[0m\n",
      "\u001b[0;31mMemoryError\u001b[0m: "
     ]
    }
   ],
   "source": [
    "test_sattistic_values = np.zeros((len(directories),len(directories)))\n",
    "\n",
    "\n",
    "for i in range(len(directories)): \n",
    "    directory1 = directories[i]\n",
    "    mat1 = h5py.File(directory1 + 'SMdata.mat','r')\n",
    "    data1 = np.array(mat1.get('SMdata'))\n",
    "    sensor_data1 = np.transpose(data1[[0,1,3,4],:])\n",
    "    print('Working on ' + directory1 )\n",
    "    for j in range(len(directories)):\n",
    "        directory2 = directories[j]\n",
    "        mat2 = h5py.File(directory2 + 'SMdata.mat','r')\n",
    "        data2 = np.array(mat2.get('SMdata'))\n",
    "        sensor_data2 = np.transpose(data2[[0,1,3,4],:])\n",
    "        \n",
    "        np.random.randint()\n",
    "  #      sensor_data = np.append(sensor_data1,sensor_data2,axis=0)\n",
    "  #      distances = pdist(sensor_data, dist_used)\n",
    "  #      distances = squareform(distances)\n",
    "  \n",
    "        n_samples = sensor_data2.shape[0]\n",
    "        distance_matrix = np.zeros((n_samples,n_samples))   \n",
    "        for ii in range(n_samples):\n",
    "            for jj in range(n_samples):\n",
    "                dist = pdist(np.append([sensor_data1[ii,:]],[sensor_data2[jj,:]], axis = 0), dist_used)\n",
    "                distance_matrix[ii,jj] = dist\n",
    "                distance_matrix[jj,ii] = dist\n",
    "\n",
    "#print(disparity)"
   ]
  },
  {
   "cell_type": "code",
   "execution_count": 39,
   "metadata": {
    "collapsed": false
   },
   "outputs": [
    {
     "data": {
      "text/plain": [
       "array([[ 0.        ,  0.53348672,  0.70420608,  0.2442633 ],\n",
       "       [ 0.53348672,  0.        ,  0.5031816 ,  0.77569414],\n",
       "       [ 0.70420608,  0.5031816 ,  0.        ,  0.89339944],\n",
       "       [ 0.2442633 ,  0.77569414,  0.89339944,  0.        ]])"
      ]
     },
     "execution_count": 39,
     "metadata": {},
     "output_type": "execute_result"
    }
   ],
   "source": [
    "distance_matrix              "
   ]
  },
  {
   "cell_type": "code",
   "execution_count": 40,
   "metadata": {
    "collapsed": false
   },
   "outputs": [
    {
     "data": {
      "text/plain": [
       "4"
      ]
     },
     "execution_count": 40,
     "metadata": {},
     "output_type": "execute_result"
    }
   ],
   "source": [
    "n_samples"
   ]
  },
  {
   "cell_type": "code",
   "execution_count": null,
   "metadata": {
    "collapsed": true
   },
   "outputs": [],
   "source": []
  }
 ],
 "metadata": {
  "kernelspec": {
   "display_name": "Python 3",
   "language": "python",
   "name": "python3"
  },
  "language_info": {
   "codemirror_mode": {
    "name": "ipython",
    "version": 3
   },
   "file_extension": ".py",
   "mimetype": "text/x-python",
   "name": "python",
   "nbconvert_exporter": "python",
   "pygments_lexer": "ipython3",
   "version": "3.4.3"
  }
 },
 "nbformat": 4,
 "nbformat_minor": 0
}
